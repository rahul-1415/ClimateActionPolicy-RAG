{
 "cells": [
  {
   "cell_type": "code",
   "execution_count": 4,
   "metadata": {},
   "outputs": [],
   "source": [
    "# Define the function to remove specific text\n",
    "def remove_specific_text(text):\n",
    "    # Remove specific text\n",
    "    text = text.replace(\"Jump to:\\nRelated Knowledge\\n\", \"\")\n",
    "    text = text.replace(\"Show References and Credits\", \"\")\n",
    "    return text"
   ]
  },
  {
   "cell_type": "code",
   "execution_count": 7,
   "metadata": {},
   "outputs": [
    {
     "name": "stdout",
     "output_type": "stream",
     "text": [
      "Cleaned data saved to: Cleaned_LLM-KB.csv\n"
     ]
    }
   ],
   "source": [
    "import pandas as pd\n",
    "\n",
    "# Load the data\n",
    "file_path = \"LLM-KB.csv\"\n",
    "df = pd.read_csv(file_path)\n",
    "\n",
    "# Apply specific text removal to the 'content' column\n",
    "df['Content'] = df['Content'].apply(remove_specific_text)  # Update the 'content' column directly\n",
    "\n",
    "# Save the cleaned data to a new CSV file\n",
    "cleaned_file_path = \"Cleaned_LLM-KB.csv\"\n",
    "df.to_csv(cleaned_file_path, index=False)\n",
    "\n",
    "print(\"Cleaned data saved to:\", cleaned_file_path)\n"
   ]
  }
 ],
 "metadata": {
  "kernelspec": {
   "display_name": "Python 3",
   "language": "python",
   "name": "python3"
  },
  "language_info": {
   "codemirror_mode": {
    "name": "ipython",
    "version": 3
   },
   "file_extension": ".py",
   "mimetype": "text/x-python",
   "name": "python",
   "nbconvert_exporter": "python",
   "pygments_lexer": "ipython3",
   "version": "3.11.0"
  }
 },
 "nbformat": 4,
 "nbformat_minor": 2
}
