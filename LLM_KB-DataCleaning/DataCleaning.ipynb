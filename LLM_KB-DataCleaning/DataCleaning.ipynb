{
 "cells": [
  {
   "cell_type": "code",
   "execution_count": 31,
   "metadata": {},
   "outputs": [],
   "source": [
    "# Define the function to remove specific text\n",
    "def remove_specific_text(text):\n",
    "    # Remove specific text\n",
    "    text = text.replace(\"Jump to:\\nRelated Knowledge\\n\", \"\")\n",
    "    text = text.replace(\"Show References and Credits\", \"\")\n",
    "    return text"
   ]
  },
  {
   "cell_type": "code",
   "execution_count": 32,
   "metadata": {},
   "outputs": [
    {
     "name": "stdout",
     "output_type": "stream",
     "text": [
      "               Timestamp                                              Title  \\\n",
      "0             14/06/2024  How to cut your city’s consumption-based emiss...   \n",
      "1    14/06/2024 17:29:21          Mapped: Cities with a climate action plan   \n",
      "2    14/06/2024 17:29:42     Greenhouse gas emissions interactive dashboard   \n",
      "3    14/06/2024 17:31:12  How to shift your city’s investments from foss...   \n",
      "4    14/06/2024 17:31:36                15-minute city initiatives explorer   \n",
      "..                   ...                                                ...   \n",
      "785  15/06/2024 23:09:55    Transit-Oriented Development Knowledge Products   \n",
      "786  15/06/2024 23:10:26  5 reasons why your city should join the energy...   \n",
      "787  15/06/2024 23:10:56  At the University of California our investment...   \n",
      "788  15/06/2024 23:11:19  Inclusive stakeholder engagement: Engagement p...   \n",
      "789  15/06/2024 23:11:41    Action Selection and Prioritisation (ASAP) tool   \n",
      "\n",
      "                                               Content  \n",
      "0    To date, the focus and necessary foundation of...  \n",
      "1    Cities are playing a lead role in cutting gree...  \n",
      "2    With this dashboard, you can explore historica...  \n",
      "3    Cities around the world are building better fi...  \n",
      "4    The 15-minute city urban planning concept stri...  \n",
      "..                                                 ...  \n",
      "785  This comprehensive toolkit provides a host of ...  \n",
      "786  By Mark Watts, Executive Director of C40 Citie...  \n",
      "787  By Jagdeep Singh Bachher, University of Califo...  \n",
      "788  Communities such as those living in informal s...  \n",
      "789  In climate action planning, action prioritisat...  \n",
      "\n",
      "[790 rows x 3 columns]\n"
     ]
    }
   ],
   "source": [
    "import pandas as pd\n",
    "\n",
    "# Load the data\n",
    "file_path = \"LLM-KB.csv\"\n",
    "df = pd.read_csv(file_path)\n",
    "\n",
    "# Apply specific text removal to the 'content' column\n",
    "df['Content'] = df['Content'].apply(remove_specific_text)  # Update the 'content' column directly\n",
    "\n",
    "print(df)\n"
   ]
  },
  {
   "cell_type": "code",
   "execution_count": 33,
   "metadata": {},
   "outputs": [],
   "source": [
    "import re\n",
    "# Function to clean the timestamp and combine title and content\n",
    "def clean_data(row):\n",
    "    # Extract the date from the timestamp\n",
    "    timestamp = row['Timestamp'].split(' ')[0]\n",
    "    # Combine the title and content\n",
    "    combined_text = f\"Title: {row['Title']}\\nContent: {row['Content']}\"\n",
    "    \n",
    "    return combined_text"
   ]
  },
  {
   "cell_type": "code",
   "execution_count": 34,
   "metadata": {},
   "outputs": [
    {
     "name": "stdout",
     "output_type": "stream",
     "text": [
      "0      Title: How to cut your city’s consumption-base...\n",
      "1      Title: Mapped: Cities with a climate action pl...\n",
      "2      Title: Greenhouse gas emissions interactive da...\n",
      "3      Title: How to shift your city’s investments fr...\n",
      "4      Title: 15-minute city initiatives explorer\\nCo...\n",
      "                             ...                        \n",
      "785    Title: Transit-Oriented Development Knowledge ...\n",
      "786    Title: 5 reasons why your city should join the...\n",
      "787    Title: At the University of California our inv...\n",
      "788    Title: Inclusive stakeholder engagement: Engag...\n",
      "789    Title: Action Selection and Prioritisation (AS...\n",
      "Length: 790, dtype: object\n"
     ]
    }
   ],
   "source": [
    "# Apply the cleaning function to each row\n",
    "df = df.apply(clean_data, axis=1)\n",
    "print(df)"
   ]
  },
  {
   "cell_type": "code",
   "execution_count": 35,
   "metadata": {},
   "outputs": [
    {
     "name": "stdout",
     "output_type": "stream",
     "text": [
      "Cleaned data saved to: Cleaned_LLM-KB.csv\n"
     ]
    }
   ],
   "source": [
    "# Save the cleaned data to a new CSV file\n",
    "cleaned_file_path = \"Cleaned_LLM-KB.csv\"\n",
    "df.to_csv(cleaned_file_path, index=False)\n",
    "\n",
    "print(\"Cleaned data saved to:\", cleaned_file_path)"
   ]
  }
 ],
 "metadata": {
  "kernelspec": {
   "display_name": "Python 3",
   "language": "python",
   "name": "python3"
  },
  "language_info": {
   "codemirror_mode": {
    "name": "ipython",
    "version": 3
   },
   "file_extension": ".py",
   "mimetype": "text/x-python",
   "name": "python",
   "nbconvert_exporter": "python",
   "pygments_lexer": "ipython3",
   "version": "3.11.0"
  }
 },
 "nbformat": 4,
 "nbformat_minor": 2
}
