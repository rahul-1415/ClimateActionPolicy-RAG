{
 "cells": [
  {
   "cell_type": "code",
   "execution_count": 1,
   "id": "5f9f44e3-232d-445c-840f-69cdd3b7e4d5",
   "metadata": {},
   "outputs": [],
   "source": [
    "from langchain_community.document_loaders.csv_loader import CSVLoader\n",
    "from langchain.text_splitter import RecursiveCharacterTextSplitter\n",
    "from langchain_community.embeddings import HuggingFaceBgeEmbeddings\n",
    "from langchain_chroma import Chroma\n",
    "import chromadb\n",
    "from pathlib import Path\n",
    "import os\n",
    "import nltk\n",
    "\n"
   ]
  },
  {
   "cell_type": "code",
   "execution_count": 2,
   "id": "e7caebdd",
   "metadata": {},
   "outputs": [],
   "source": [
    "# Load the CSV file\n",
    "file_path = \"Cleaned_LLM-KB.csv\"\n",
    "loader = CSVLoader(file_path=file_path)\n",
    "data = loader.load()\n"
   ]
  },
  {
   "cell_type": "code",
   "execution_count": 3,
   "id": "e4aa7ea3",
   "metadata": {},
   "outputs": [],
   "source": [
    "#Splitting\n",
    "from langchain.text_splitter import RecursiveCharacterTextSplitter\n",
    "text_splitter = RecursiveCharacterTextSplitter(chunk_size=3000,chunk_overlap=64)\n",
    "chunked_docs = text_splitter.split_documents(data)"
   ]
  },
  {
   "cell_type": "code",
   "execution_count": 4,
   "id": "770e3f5d-bfc6-4370-9f19-2e87795aab97",
   "metadata": {},
   "outputs": [],
   "source": [
    "# Split the documents\n",
    "text_splitter = RecursiveCharacterTextSplitter(chunk_size=3000, chunk_overlap=64)\n",
    "chunked_docs = text_splitter.split_documents(data)"
   ]
  },
  {
   "cell_type": "code",
   "execution_count": 5,
   "id": "4c0d6594-de45-417d-8573-c49649f70656",
   "metadata": {},
   "outputs": [
    {
     "name": "stdout",
     "output_type": "stream",
     "text": [
      "Number of unique split documents: 1877\n"
     ]
    }
   ],
   "source": [
    "# Print the number of unique split documents\n",
    "s = set()\n",
    "for doc in chunked_docs:\n",
    "    s.add(doc.page_content)\n",
    "print(\"Number of unique split documents:\", len(s))"
   ]
  },
  {
   "cell_type": "code",
   "execution_count": 6,
   "id": "c52bd473",
   "metadata": {},
   "outputs": [
    {
     "name": "stdout",
     "output_type": "stream",
     "text": [
      "DB_DIR :  /Users/rahul/Projects/AI-Project/ClimateActionPolicy-RAG/Chroma1/env_policy\n"
     ]
    }
   ],
   "source": [
    "# Set the absolute path for the Chroma database\n",
    "ABS_PATH = Path().resolve().joinpath('Chroma1')\n",
    "DB_DIR = os.path.join(ABS_PATH, \"env_policy\")\n",
    "print('DB_DIR : ', DB_DIR)"
   ]
  },
  {
   "cell_type": "code",
   "execution_count": 7,
   "id": "05684d5f",
   "metadata": {},
   "outputs": [],
   "source": [
    "# Define client settings for Chroma\n",
    "client_settings = chromadb.config.Settings(\n",
    "    is_persistent=True,\n",
    "    persist_directory=DB_DIR,\n",
    "    anonymized_telemetry=False,\n",
    ")"
   ]
  },
  {
   "cell_type": "code",
   "execution_count": 8,
   "id": "2310d61e",
   "metadata": {},
   "outputs": [
    {
     "name": "stderr",
     "output_type": "stream",
     "text": [
      "/Library/Frameworks/Python.framework/Versions/3.11/lib/python3.11/site-packages/tqdm/auto.py:21: TqdmWarning: IProgress not found. Please update jupyter and ipywidgets. See https://ipywidgets.readthedocs.io/en/stable/user_install.html\n",
      "  from .autonotebook import tqdm as notebook_tqdm\n"
     ]
    }
   ],
   "source": [
    "# Initialize the HuggingFaceBgeEmbeddings with the correct model\n",
    "embedder = HuggingFaceBgeEmbeddings(model_name=\"BAAI/bge-small-en\")"
   ]
  },
  {
   "cell_type": "code",
   "execution_count": 9,
   "id": "d6218939",
   "metadata": {},
   "outputs": [],
   "source": [
    "# Embed the split documents\n",
    "embedded_docs = embedder.embed_documents([doc.page_content for doc in chunked_docs])\n"
   ]
  },
  {
   "cell_type": "code",
   "execution_count": 10,
   "id": "1bdc6839",
   "metadata": {},
   "outputs": [],
   "source": [
    "# Create the Chroma vector store from the embedded documents\n",
    "bge_vectorstore = Chroma.from_documents(\n",
    "    documents=chunked_docs,\n",
    "    embedding=embedder,\n",
    "    client_settings=client_settings,\n",
    "    collection_name=\"env_policy_bge\",\n",
    "    collection_metadata={\"hnsw\": \"cosine\"}\n",
    ")\n"
   ]
  },
  {
   "cell_type": "code",
   "execution_count": 11,
   "id": "c0cb1844-f7cd-4abb-9139-fdfc5295867c",
   "metadata": {},
   "outputs": [],
   "source": [
    "retriever = bge_vectorstore.as_retriever(\n",
    "                                  search_type=\"mmr\",\n",
    "                                  search_kwargs={\"k\": 5, \"include_metadata\": True}\n",
    "                                  )\n",
    "                                  "
   ]
  },
  {
   "cell_type": "markdown",
   "id": "0639db04",
   "metadata": {},
   "source": []
  },
  {
   "cell_type": "code",
   "execution_count": 12,
   "id": "56a67fa0-edd5-47a3-8757-0f7352659ae2",
   "metadata": {},
   "outputs": [
    {
     "data": {
      "text/plain": [
       "[Document(page_content='Timestamp: 14/06/2024 18:15:04\\nTitle: Climate budgeting: What it is, what it isn’t, and how it works\\nContent: Climate budgeting puts climate at the heart of decision-making, alongside other priority areas, helping to drive the short-term action that is so desperately needed. This article defines exactly what climate budgeting is, what it isn’t, and introduces how it works. For more on the benefits of adopting one, read Climate budgets: Why your city needs one.\\nClimate budgeting is a governance system for delivering climate targets\\nA climate budget is a governance system that mainstreams climate commitments and considerations into decision-making on policies, actions and budget. This is done by integrating climate targets from the city’s Climate Action Plan (CAP) into the financial budgeting process and assigning responsibility for implementation, monitoring, evaluation and reporting across the city government. It creates transparency and accountability, and highlights deviations from targets.\\nA climate budget establishes a city’s short-term targets and actions, typically every year or two, to deliver the long-term climate targets of the city’s CAP. As part of the financial budgeting process and in line with the budgetary cycle, the city proposes, adopts, implements, monitors and reports on climate measures to meet short-term targets. The climate budget should state clear targets and actions. It should also state, wherever possible, the estimated emission reduction effects over time, as well as the costs and financing involved.\\nThe climate budget should initially cover actions financed by the budget. It should then be expanded to include actions implemented by using all instruments at the city government’s disposal (for example, regulation and policy). The climate budget also identifies action areas that are the responsibility of national and regional governments, business communities and residents, providing a basis for horizontal and vertical integration and collaboration.\\nThe climate budget should initially cover city-wide Global Protocol for Community-Scale (GPC) BASIC-level emissions and could be built out over time to include consumption-based emissions, climate adaptation, equity and inclusivity, and more.\\nClimate budgeting and climate action planning', metadata={'row': 32, 'source': 'Cleaned_LLM_KB.csv'}),\n",
       " Document(page_content='0: Title: How cities can put a price on carbon\\nContent: Putting a price on carbon and other greenhouse gas (GHG) emissions directly incentivises action by making polluting activities more expensive. It provides a mechanism for governments at all levels to capture the external costs of emissions, from climate impacts to healthcare bills. It also generates funding that can enable the implementation of other climate policies.\\nIn this article, we explain the main approaches available to cities: emissions trading systems, carbon taxes and other forms of charging, and standards and regulations. As carbon pricing is commonly-used shorthand for the pricing of GHG emissions more generally, we use these terms interchangeably here.\\nPricing policies should be informed by the city’s climate targets, an understanding of the greatest emissions sources, regulatory powers and local economic context, and the priority climate actions to take1 – ideally, these would be determined through a climate action planning process.\\nWhy put a price on carbon?\\nBy putting a price on carbon and other GHG emissions, cities can:\\nMake climate action fairer. Pricing forces those most responsible for causing climate change to take on the greatest financial responsibility for change.\\nRaise revenues for equitable climate action. Standards, taxes, trading systems and other tools have the potential to bring in significant funding, which can enable the implementation of climate actions and targeted support for vulnerable and low-income groups. In California, for example, revenues from the cap-and-trade system have allowed the state to implement climate projects worth a cumulative US$8.3 billion since it launched in 2013, with 50% benefitting priority populations.2\\nAccelerate private-sector transitions to net zero. It sends a clear signal to major emitters, such as large building owners and polluting industries, on the need to change their practices.\\nForce greater disclosure and awareness about the carbon footprint of organisations, buildings, activities and more. Measurement and disclose of emissions as part of pricing schemes can itself improve transparency and accelerate action, as well as inform climate policy.\\nTrigger national or global action by demonstrating the viability of pricing policies. In China, for example, after six city regions including Beijing and Shanghai ran successful emissions trading system pilots, the Chinese government implemented a national system that built on the experience and lessons of the city pilots.3\\nIntroduce emissions trading systems, also known as ‘cap and trade’', metadata={'row': 24, 'source': 'Cleaned_LLM-KB.csv'}),\n",
       " Document(page_content='0: Title: Why a ‘just transition’ is essential for advancing ambitious city climate action\\nContent: To limit warming to 1.5°C, global emissions need to drop drastically by 2030. Meeting this goal requires systemic change towards a net-zero and resilient economy at an unprecedented scale and pace. A ‘just transition’ is about leaving no one behind in this shift. City policies and investments that seek to ensure a just transition that is fair to workers, and which puts equity and inclusivity at the heart of decision-making, can help to achieve change at the rapid pace we need. It can also ensure better outcomes for those impacted by climate change and climate actions. Here’s why.\\nA just transition will help to build political support for ambitious climate action\\nPrioritising a just transition means navigating a complex web of interests and needs, aligning diverging views and ensuring that there is an inclusive social dialogue with all stakeholders – especially those workers and communities affected. In addition to planning measures to avoid or address the negative impacts of climate action, coalition- and consensus-building is intrinsic to this process. It helps to get broad buy-in from stakeholders, including those that may otherwise oppose climate actions. Building strong coalitions with local unions, employers, workforce development organisations and communities can also help to break down political barriers at regional and national levels.\\nCities and local governments are uniquely positioned to lead the way. Because much of the real change happens at local level, cities and local governments have a vital role to play in delivering a just transition. Local economic development and urban regeneration policies are key to the long-term success of this transition. Cities can influence the transition through partnerships with local stakeholders to deliver action on the ground. They can also advocate for stronger local powers, more funding and participatory decision-making at regional and national level.\\nA just transition safeguards livelihoods and maximises the employment benefits of climate actions\\n© Monty Rakusen/Image Source/Getty Images\\nClimate actions necessarily require the creation of jobs and new industries: from retrofitting and solar installation to cycle-lane construction and repair services. In the United States, for example, the Bureau of Labor Statistics expects the fastest- and third fastest-growing jobs from 2020 to 2030 to be wind-turbine technicians and solar-panel installers, respectively.1\\nEmphasising a ‘just’ approach in the city’s plans for climate action creates more, better-quality jobs. It means putting in place policies to safeguard the livelihoods of workers affected by job losses and their wider communities, as well as to maximise job creation from climate action and to raise the quality of those jobs. In turn, this will help to build broad political support for ambitious climate action.', metadata={'row': 93, 'source': 'Cleaned_LLM-KB.csv'}),\n",
       " Document(page_content='Systematically evaluating the climate impact of proposed projects. Montreal has created a climate test to evaluate potential projects, policies or decisions in terms of their contribution to climate goals.7 In Berlin, since 2021, all Senate bills are subjected to a climate check, which measures the consequences of all climate-related decisions, such as building energy use and public procurement. Berlin’s Environment Department has released a guide (in German) to support the objective assessment of measures in terms of CO2-equivalent emissions across climate-critical sectors.8\\nDeveloping a climate budget. This is a governance system that mainstreams climate considerations throughout financial processes and decision-making. It turns long-term climate targets into concrete, financed and immediate actions, as part of the city’s ordinary budgeting process. Oslo’s climate budget is the most extensive example of this approach to date. Visit our Climate budgets page to find resources to help cities design a climate budget approach, and start by reading Climate budgets: why your city needs one.\\nIntegrate climate into financial governance\\nAchieving the above climate-smart improvements relies on changes to the structures and processes that govern city finance, to enable greater collaboration between key government departments. Climate budgeting is one way to foster such a systemic transition. Additionally, cities can:\\nProactively engage with your city’s chief financial officer (CFO) to gain their support in shifting your city’s financial system.9 Top-level support will be vital to mainstreaming climate into financial processes, and the CFO or equivalent officer in your city will usually be the most important person to achieving it.\\nCreate a cross-disciplinary working group made up of people from both the environmental and finance ministries.10 This helps to accelerate collaboration on climate across government, making environmental policymakers more finance-savvy in proposing green projects and financial policymakers more climate-literate.\\nTrack and publicly report on climate performance across your city’s finances. Wherever possible, report on the climate performance of your capital and operating budgets, as well as climate-related financial risks (see earlier box), to boost transparency and encourage climate action across and outside city government.\\nFoster intergovernmental collaboration to improve the enabling environment for climate-smart financial decisions. Intergovernmental fiscal relationships and national government conditions shape how cities can use central funding and city fiscal powers, like the ability to borrow and to issue green bonds.11 Where possible, work to strengthen intergovernmental collaboration and advocate for improved conditions, including for fiscal transfer programmes, which incentivise local government to prioritise climate-smart investments.12', metadata={'row': 72, 'source': 'Cleaned_LLM_KB.csv'}),\n",
       " Document(page_content='How to get started on your city’s climate action plan. The first step in climate action planning is to create the right foundation and enabling conditions for success. This explores what that means in practice – from securing the commitment of city leadership, setting up a climate action planning team and mechanisms for internal collaboration, to appraising existing policies and defining a long-term vision to guide the climate action planning process. The CAP team and internal collaboration mechanisms are aspects of climate governance, which is discussed further in the next article.\\nClimate governance and stakeholder engagement\\nGood climate governance and stakeholder engagement cut across the whole process of climate action planning – and the implementation of the CAP itself.\\nHow to strengthen climate governance for an effective climate action plan. Good climate governance is integral to the effective design and implementation of a city’s CAP. Here, we outline the principles, tools and resources that can help cities create a supportive policy framework and governance structure for the CAP, and establish enabling conditions for implementation.\\nHow to engage stakeholders for powerful and inclusive climate action planning. An inclusive, collaborative process for climate action planning is as important as the CAP itself. It builds widespread community and political support, fosters credibility and strengthens the resulting plan. This article sets out steps, approaches and tools to help cities design and deliver an inclusive, equitable and strategic engagement strategy. It can guide the city’s engagement strategy for the overall planning process, as well as strategies for specific steps.\\nBuilding the evidence base\\nA science-based CAP that delivers the greatest benefits for the city and its residents must be underpinned by evidence on the city’s emissions, climate risks, and wider priorities. Building this evidence base is typically an iterative process, with insights from the needs assessment informing the risk assessment and vice versa.\\nHow to develop and manage a city-wide greenhouse gas emission inventory. Taking effective action to mitigate climate change requires access to good-quality data on greenhouse gas (GHG) emissions. An inventory enables cities to understand the contribution of different activities, determine where best to focus mitigation efforts, set emission reduction targets, design effective strategies for meeting them, and monitor progress. This article looks at the options available to measure GHG emissions and tools for developing and managing an inventory.\\nHow to do a climate change risk assessment. A climate change risk assessment (CCRA) allows the city to understand the likelihood of current and future climate hazards, and the potential impacts of these hazards on the city and its residents. This article looks at the tools, approaches and considerations for conducting a CCRA.', metadata={'row': 156, 'source': 'Cleaned_LLM_KB.csv'})]"
      ]
     },
     "execution_count": 12,
     "metadata": {},
     "output_type": "execute_result"
    }
   ],
   "source": [
    "query = \"Explain climate policy\"\n",
    "retreived_docs = retriever.invoke(query)\n",
    "retreived_docs"
   ]
  },
  {
   "cell_type": "code",
   "execution_count": null,
   "id": "26caa9e6-383c-431e-b162-a26f274103cd",
   "metadata": {},
   "outputs": [],
   "source": []
  }
 ],
 "metadata": {
  "kernelspec": {
   "display_name": "Python 3",
   "language": "python",
   "name": "python3"
  },
  "language_info": {
   "codemirror_mode": {
    "name": "ipython",
    "version": 3
   },
   "file_extension": ".py",
   "mimetype": "text/x-python",
   "name": "python",
   "nbconvert_exporter": "python",
   "pygments_lexer": "ipython3",
   "version": "3.11.0"
  }
 },
 "nbformat": 4,
 "nbformat_minor": 5
}
