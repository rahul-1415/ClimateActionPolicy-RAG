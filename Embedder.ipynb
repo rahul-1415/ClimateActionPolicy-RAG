{
 "cells": [
  {
   "cell_type": "code",
   "execution_count": 2,
   "id": "5f9f44e3-232d-445c-840f-69cdd3b7e4d5",
   "metadata": {},
   "outputs": [],
   "source": [
    "from langchain_community.document_loaders.csv_loader import CSVLoader\n",
    "from langchain.text_splitter import RecursiveCharacterTextSplitter\n",
    "from langchain_community.embeddings import HuggingFaceBgeEmbeddings\n",
    "from langchain_chroma import Chroma\n",
    "import chromadb\n",
    "from pathlib import Path\n",
    "import os\n",
    "\n",
    "\n",
    "# Load the CSV file\n",
    "file_path = \"Cleaned_LLM-KB.csv\"\n",
    "loader = CSVLoader(file_path=file_path)\n",
    "data = loader.load()"
   ]
  },
  {
   "cell_type": "code",
   "execution_count": 3,
   "id": "770e3f5d-bfc6-4370-9f19-2e87795aab97",
   "metadata": {},
   "outputs": [],
   "source": [
    "#Splitting\n",
    "from langchain.text_splitter import RecursiveCharacterTextSplitter\n",
    "text_splitter = RecursiveCharacterTextSplitter(chunk_size=3000,chunk_overlap=64)\n",
    "chunked_docs = text_splitter.split_documents(data)"
   ]
  },
  {
   "cell_type": "code",
   "execution_count": 4,
   "id": "4c0d6594-de45-417d-8573-c49649f70656",
   "metadata": {},
   "outputs": [],
   "source": [
    "# Split the documents\n",
    "text_splitter = RecursiveCharacterTextSplitter(chunk_size=3000, chunk_overlap=64)\n",
    "chunked_docs = text_splitter.split_documents(data)"
   ]
  },
  {
   "cell_type": "code",
   "execution_count": 5,
   "id": "c52bd473",
   "metadata": {},
   "outputs": [
    {
     "name": "stdout",
     "output_type": "stream",
     "text": [
      "Number of unique split documents: 1877\n"
     ]
    }
   ],
   "source": [
    "# Print the number of unique split documents\n",
    "s = set()\n",
    "for doc in chunked_docs:\n",
    "    s.add(doc.page_content)\n",
    "print(\"Number of unique split documents:\", len(s))"
   ]
  },
  {
   "cell_type": "code",
   "execution_count": 6,
   "id": "05684d5f",
   "metadata": {},
   "outputs": [
    {
     "name": "stdout",
     "output_type": "stream",
     "text": [
      "DB_DIR :  /Users/rahul/Projects/AI-Project/ClimateActionPolicy-RAG/Chroma1/env_policy\n"
     ]
    }
   ],
   "source": [
    "# Set the absolute path for the Chroma database\n",
    "ABS_PATH = Path().resolve().joinpath('Chroma1')\n",
    "DB_DIR = os.path.join(ABS_PATH, \"env_policy\")\n",
    "print('DB_DIR : ', DB_DIR)"
   ]
  },
  {
   "cell_type": "code",
   "execution_count": 7,
   "id": "2310d61e",
   "metadata": {},
   "outputs": [],
   "source": [
    "# Define client settings for Chroma\n",
    "client_settings = chromadb.config.Settings(\n",
    "    is_persistent=True,\n",
    "    persist_directory=DB_DIR,\n",
    "    anonymized_telemetry=False,\n",
    ")"
   ]
  },
  {
   "cell_type": "code",
   "execution_count": 8,
   "id": "c6f12a10-75bc-4b2b-80bf-dd3fa5c7ac9e",
   "metadata": {},
   "outputs": [
    {
     "name": "stderr",
     "output_type": "stream",
     "text": [
      "/Library/Frameworks/Python.framework/Versions/3.11/lib/python3.11/site-packages/tqdm/auto.py:21: TqdmWarning: IProgress not found. Please update jupyter and ipywidgets. See https://ipywidgets.readthedocs.io/en/stable/user_install.html\n",
      "  from .autonotebook import tqdm as notebook_tqdm\n"
     ]
    }
   ],
   "source": [
    "# Initialize the HuggingFaceBgeEmbeddings with the correct model\n",
    "embedder = HuggingFaceBgeEmbeddings(model_name=\"BAAI/bge-small-en\")"
   ]
  },
  {
   "cell_type": "code",
   "execution_count": 9,
   "id": "d6218939",
   "metadata": {},
   "outputs": [],
   "source": [
    "# Embed the split documents\n",
    "embedded_docs = embedder.embed_documents([doc.page_content for doc in chunked_docs])\n"
   ]
  },
  {
   "cell_type": "code",
   "execution_count": 10,
   "id": "1bdc6839",
   "metadata": {},
   "outputs": [],
   "source": [
    "# Create the Chroma vector store from the embedded documents\n",
    "bge_vectorstore = Chroma.from_documents(\n",
    "    documents=chunked_docs,\n",
    "    embedding=embedder,\n",
    "    client_settings=client_settings,\n",
    "    collection_name=\"env_policy_bge\",\n",
    "    collection_metadata={\"hnsw\": \"cosine\"}\n",
    ")\n"
   ]
  },
  {
   "cell_type": "code",
   "execution_count": 11,
   "id": "c0cb1844-f7cd-4abb-9139-fdfc5295867c",
   "metadata": {},
   "outputs": [],
   "source": [
    "retriever = bge_vectorstore.as_retriever(\n",
    "                                  search_type=\"mmr\",\n",
    "                                  search_kwargs={\"k\": 5, \"include_metadata\": True}\n",
    "                                  )\n",
    "                                  "
   ]
  },
  {
   "cell_type": "markdown",
   "id": "0639db04",
   "metadata": {},
   "source": []
  },
  {
   "cell_type": "code",
   "execution_count": 12,
   "id": "56a67fa0-edd5-47a3-8757-0f7352659ae2",
   "metadata": {},
   "outputs": [
    {
     "data": {
      "text/plain": [
       "[Document(page_content='Timestamp: 14/06/2024 18:15:04\\nTitle: Climate budgeting: What it is, what it isn’t, and how it works\\nContent: Climate budgeting puts climate at the heart of decision-making, alongside other priority areas, helping to drive the short-term action that is so desperately needed. This article defines exactly what climate budgeting is, what it isn’t, and introduces how it works. For more on the benefits of adopting one, read Climate budgets: Why your city needs one.\\nClimate budgeting is a governance system for delivering climate targets\\nA climate budget is a governance system that mainstreams climate commitments and considerations into decision-making on policies, actions and budget. This is done by integrating climate targets from the city’s Climate Action Plan (CAP) into the financial budgeting process and assigning responsibility for implementation, monitoring, evaluation and reporting across the city government. It creates transparency and accountability, and highlights deviations from targets.\\nA climate budget establishes a city’s short-term targets and actions, typically every year or two, to deliver the long-term climate targets of the city’s CAP. As part of the financial budgeting process and in line with the budgetary cycle, the city proposes, adopts, implements, monitors and reports on climate measures to meet short-term targets. The climate budget should state clear targets and actions. It should also state, wherever possible, the estimated emission reduction effects over time, as well as the costs and financing involved.\\nThe climate budget should initially cover actions financed by the budget. It should then be expanded to include actions implemented by using all instruments at the city government’s disposal (for example, regulation and policy). The climate budget also identifies action areas that are the responsibility of national and regional governments, business communities and residents, providing a basis for horizontal and vertical integration and collaboration.\\nThe climate budget should initially cover city-wide Global Protocol for Community-Scale (GPC) BASIC-level emissions and could be built out over time to include consumption-based emissions, climate adaptation, equity and inclusivity, and more.\\nClimate budgeting and climate action planning', metadata={'row': 32, 'source': 'Cleaned_LLM_KB.csv'}),\n",
       " Document(page_content='B.4. Adaptation options and their limits in a warmer world\\nAdaptation options that are feasible and effective today will become constrained and less effective with increasing global warming. With increasing global warming, losses and damages will increase and additional human and natural systems will reach adaptation limits. Maladaptation can be avoided by flexible, multi-sectoral, inclusive, long-term planning and implementation of adaptation actions, with co-benefits to many sectors and systems.\\nB.5. Carbon budgets and net zero emissions\\nLimiting human-caused global warming requires net zero CO2 emissions. Cumulative carbon emissions until the time of reaching net-zero CO2 emissions and the level of greenhouse gas emission reductions this decade largely determine whether warming can be limited to 1.5°C or 2°C. Projected CO2 emissions from existing fossil fuel infrastructure without additional abatement would exceed the remaining carbon budget for 1.5°C.\\nB.6. Mitigation pathways\\nAll global modelled pathways that limit warming to 1.5°C with no or limited overshoot, and those that limit warming to 2°C, involve rapid and deep and, in most cases, immediate greenhouse gas emissions reductions in all sectors this decade. Global net zero CO2 emissions are reached for these pathway categories, in the early 2050s and around the early 2070s, respectively.\\nB.7. Overshoot: Exceeding a warming level and returning\\nIf warming exceeds a specified level such as 1.5°C, it could gradually be reduced again by achieving and sustaining net negative global CO2 emissions. This would require additional deployment of carbon dioxide removal, compared to pathways without overshoot, leading to greater feasibility and sustainability concerns. Overshoot entails adverse impacts, some irreversible, and additional risks for human and natural systems, all growing with the magnitude and duration of overshoot.\\nC. Responses in the near term\\nC.1. Urgency of near-term integrated climate action\\nClimate change is a threat to human well-being and planetary health. There is a rapidly closing window of opportunity to secure a liveable and sustainable future for all. Climate resilient development integrates adaptation and mitigation to advance sustainable development for all, and is enabled by increased international cooperation including improved access to adequate financial resources, particularly for vulnerable regions, sectors and groups, and inclusive governance and coordinated policies. The choices and actions implemented in this decade will have impacts now and for thousands of years.\\nC.2. The benefits of near-term action', metadata={'row': 318, 'source': 'Cleaned_LLM_KB.csv'}),\n",
       " Document(page_content='0: Title: How cities can put a price on carbon\\nContent: Putting a price on carbon and other greenhouse gas (GHG) emissions directly incentivises action by making polluting activities more expensive. It provides a mechanism for governments at all levels to capture the external costs of emissions, from climate impacts to healthcare bills. It also generates funding that can enable the implementation of other climate policies.\\nIn this article, we explain the main approaches available to cities: emissions trading systems, carbon taxes and other forms of charging, and standards and regulations. As carbon pricing is commonly-used shorthand for the pricing of GHG emissions more generally, we use these terms interchangeably here.\\nPricing policies should be informed by the city’s climate targets, an understanding of the greatest emissions sources, regulatory powers and local economic context, and the priority climate actions to take1 – ideally, these would be determined through a climate action planning process.\\nWhy put a price on carbon?\\nBy putting a price on carbon and other GHG emissions, cities can:\\nMake climate action fairer. Pricing forces those most responsible for causing climate change to take on the greatest financial responsibility for change.\\nRaise revenues for equitable climate action. Standards, taxes, trading systems and other tools have the potential to bring in significant funding, which can enable the implementation of climate actions and targeted support for vulnerable and low-income groups. In California, for example, revenues from the cap-and-trade system have allowed the state to implement climate projects worth a cumulative US$8.3 billion since it launched in 2013, with 50% benefitting priority populations.2\\nAccelerate private-sector transitions to net zero. It sends a clear signal to major emitters, such as large building owners and polluting industries, on the need to change their practices.\\nForce greater disclosure and awareness about the carbon footprint of organisations, buildings, activities and more. Measurement and disclose of emissions as part of pricing schemes can itself improve transparency and accelerate action, as well as inform climate policy.\\nTrigger national or global action by demonstrating the viability of pricing policies. In China, for example, after six city regions including Beijing and Shanghai ran successful emissions trading system pilots, the Chinese government implemented a national system that built on the experience and lessons of the city pilots.3\\nIntroduce emissions trading systems, also known as ‘cap and trade’', metadata={'row': 24, 'source': 'Cleaned_LLM-KB.csv'}),\n",
       " Document(page_content='0: Title: IPCC Synthesis Report on Climate Change 2023 (AR6)\\nContent: There are multiple, feasible and effective options to reduce greenhouse gas emissions and adapt to human-caused climate change, and they are available now, as outlined in the latest Intergovernmental Panel on Climate Change (IPCC) report.\\nMore than half of the world’s population lives in cities. They are home to most of our built assets, economic activity and greenhouse gas emissions. Ambitious action by cities is critical, therefore, to respond to the climate emergency. Cities can use the Climate Action Planning Guide to develop effective climate action plans.\\nThe report brings into sharp focus the losses and damages the world is already experiencing and will continue to experience into the future, hitting the most vulnerable people and ecosystems especially hard. Taking the right action now could result in the transformational change essential for a sustainable, equitable world.\\nThe solution lies in climate resilient development. This involves integrating measures to adapt to climate change with actions to reduce or avoid greenhouse gas (GHG) emissions in ways that provide wider benefits. Climate resilient development becomes progressively more challenging with every increment of warming. This is why the choices cities and national governments make in the next few years will play a critical role in deciding our future and that of generations to come.\\nThe below headline statements are the overarching conclusions from the report’s Summary for Policymakers:\\nA. Current status and trends\\nA.1. Observed warming and its causes\\nHuman activities, principally through emissions of greenhouse gases, have unequivocally caused global warming, with global surface temperature reaching 1.1°C above 1850-1900 in 2011-2020. Global greenhouse gas emissions have continued to increase, with unequal historical and ongoing contributions arising from unsustainable energy use, land use and land-use change, lifestyles and patterns of consumption and production across regions, between and within countries, and among individuals.\\nA.2. Observed changes and impacts\\nWidespread and rapid changes in the atmosphere, ocean, cryosphere and biosphere have occurred. Human-caused climate change is already affecting many weather and climate extremes in every region across the globe. This has led to widespread adverse impacts and related losses and damages to nature and people. Vulnerable communities who have historically contributed the least to current climate change are disproportionately affected.\\nA.3. Current progress in adaptation and gaps and challenges', metadata={'row': 318, 'source': 'Cleaned_LLM-KB.csv'}),\n",
       " Document(page_content='0: Title: Why a ‘just transition’ is essential for advancing ambitious city climate action\\nContent: To limit warming to 1.5°C, global emissions need to drop drastically by 2030. Meeting this goal requires systemic change towards a net-zero and resilient economy at an unprecedented scale and pace. A ‘just transition’ is about leaving no one behind in this shift. City policies and investments that seek to ensure a just transition that is fair to workers, and which puts equity and inclusivity at the heart of decision-making, can help to achieve change at the rapid pace we need. It can also ensure better outcomes for those impacted by climate change and climate actions. Here’s why.\\nA just transition will help to build political support for ambitious climate action\\nPrioritising a just transition means navigating a complex web of interests and needs, aligning diverging views and ensuring that there is an inclusive social dialogue with all stakeholders – especially those workers and communities affected. In addition to planning measures to avoid or address the negative impacts of climate action, coalition- and consensus-building is intrinsic to this process. It helps to get broad buy-in from stakeholders, including those that may otherwise oppose climate actions. Building strong coalitions with local unions, employers, workforce development organisations and communities can also help to break down political barriers at regional and national levels.\\nCities and local governments are uniquely positioned to lead the way. Because much of the real change happens at local level, cities and local governments have a vital role to play in delivering a just transition. Local economic development and urban regeneration policies are key to the long-term success of this transition. Cities can influence the transition through partnerships with local stakeholders to deliver action on the ground. They can also advocate for stronger local powers, more funding and participatory decision-making at regional and national level.\\nA just transition safeguards livelihoods and maximises the employment benefits of climate actions\\n© Monty Rakusen/Image Source/Getty Images\\nClimate actions necessarily require the creation of jobs and new industries: from retrofitting and solar installation to cycle-lane construction and repair services. In the United States, for example, the Bureau of Labor Statistics expects the fastest- and third fastest-growing jobs from 2020 to 2030 to be wind-turbine technicians and solar-panel installers, respectively.1\\nEmphasising a ‘just’ approach in the city’s plans for climate action creates more, better-quality jobs. It means putting in place policies to safeguard the livelihoods of workers affected by job losses and their wider communities, as well as to maximise job creation from climate action and to raise the quality of those jobs. In turn, this will help to build broad political support for ambitious climate action.', metadata={'row': 93, 'source': 'Cleaned_LLM-KB.csv'})]"
      ]
     },
     "execution_count": 12,
     "metadata": {},
     "output_type": "execute_result"
    }
   ],
   "source": [
    "query = \"Explain climate policy\"\n",
    "retreived_docs = retriever.invoke(query)\n",
    "retreived_docs"
   ]
  },
  {
   "cell_type": "code",
   "execution_count": null,
   "id": "26caa9e6-383c-431e-b162-a26f274103cd",
   "metadata": {},
   "outputs": [],
   "source": []
  }
 ],
 "metadata": {
  "kernelspec": {
   "display_name": "Python 3",
   "language": "python",
   "name": "python3"
  },
  "language_info": {
   "codemirror_mode": {
    "name": "ipython",
    "version": 3
   },
   "file_extension": ".py",
   "mimetype": "text/x-python",
   "name": "python",
   "nbconvert_exporter": "python",
   "pygments_lexer": "ipython3",
   "version": "3.11.0"
  }
 },
 "nbformat": 4,
 "nbformat_minor": 5
}
