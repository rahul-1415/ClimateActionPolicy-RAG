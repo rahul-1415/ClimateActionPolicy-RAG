{
 "cells": [
  {
   "cell_type": "code",
   "execution_count": 1,
   "id": "5f9f44e3-232d-445c-840f-69cdd3b7e4d5",
   "metadata": {},
   "outputs": [],
   "source": [
    "from langchain_community.document_loaders.csv_loader import CSVLoader\n",
    "from langchain.text_splitter import RecursiveCharacterTextSplitter\n",
    "from langchain_community.embeddings import HuggingFaceBgeEmbeddings\n",
    "from langchain_chroma import Chroma\n",
    "import chromadb\n",
    "from pathlib import Path\n",
    "import os\n",
    "\n",
    "\n",
    "# Load the CSV file\n",
    "file_path = \"Reduced_LLM_KB.csv\"\n",
    "loader = CSVLoader(file_path=file_path)\n",
    "data = loader.load()\n",
    "data = data[:4]\n"
   ]
  },
  {
   "cell_type": "code",
   "execution_count": 2,
   "id": "770e3f5d-bfc6-4370-9f19-2e87795aab97",
   "metadata": {},
   "outputs": [],
   "source": [
    "#Splitting\n",
    "from langchain.text_splitter import RecursiveCharacterTextSplitter\n",
    "text_splitter = RecursiveCharacterTextSplitter(chunk_size=3000,chunk_overlap=64)\n",
    "chunked_docs = text_splitter.split_documents(data)"
   ]
  },
  {
   "cell_type": "code",
   "execution_count": 3,
   "id": "4c0d6594-de45-417d-8573-c49649f70656",
   "metadata": {},
   "outputs": [],
   "source": [
    "# Split the documents\n",
    "text_splitter = RecursiveCharacterTextSplitter(chunk_size=3000, chunk_overlap=64)\n",
    "chunked_docs = text_splitter.split_documents(data)"
   ]
  },
  {
   "cell_type": "code",
   "execution_count": 4,
   "id": "c52bd473",
   "metadata": {},
   "outputs": [
    {
     "name": "stdout",
     "output_type": "stream",
     "text": [
      "Number of unique split documents: 16\n"
     ]
    }
   ],
   "source": [
    "# Print the number of unique split documents\n",
    "s = set()\n",
    "for doc in chunked_docs:\n",
    "    s.add(doc.page_content)\n",
    "print(\"Number of unique split documents:\", len(s))"
   ]
  },
  {
   "cell_type": "code",
   "execution_count": 5,
   "id": "05684d5f",
   "metadata": {},
   "outputs": [
    {
     "name": "stdout",
     "output_type": "stream",
     "text": [
      "DB_DIR :  /Users/rahul/Desktop/AI-Project/ClimatePolicyRAG/Chroma1/env_policy\n"
     ]
    }
   ],
   "source": [
    "# Set the absolute path for the Chroma database\n",
    "ABS_PATH = Path().resolve().joinpath('Chroma1')\n",
    "DB_DIR = os.path.join(ABS_PATH, \"env_policy\")\n",
    "print('DB_DIR : ', DB_DIR)"
   ]
  },
  {
   "cell_type": "code",
   "execution_count": 6,
   "id": "2310d61e",
   "metadata": {},
   "outputs": [],
   "source": [
    "# Define client settings for Chroma\n",
    "client_settings = chromadb.config.Settings(\n",
    "    is_persistent=True,\n",
    "    persist_directory=DB_DIR,\n",
    "    anonymized_telemetry=False,\n",
    ")"
   ]
  },
  {
   "cell_type": "code",
   "execution_count": 7,
   "id": "c6f12a10-75bc-4b2b-80bf-dd3fa5c7ac9e",
   "metadata": {},
   "outputs": [
    {
     "name": "stderr",
     "output_type": "stream",
     "text": [
      "/Library/Frameworks/Python.framework/Versions/3.11/lib/python3.11/site-packages/tqdm/auto.py:21: TqdmWarning: IProgress not found. Please update jupyter and ipywidgets. See https://ipywidgets.readthedocs.io/en/stable/user_install.html\n",
      "  from .autonotebook import tqdm as notebook_tqdm\n"
     ]
    }
   ],
   "source": [
    "# Initialize the HuggingFaceBgeEmbeddings with the correct model\n",
    "embedder = HuggingFaceBgeEmbeddings(model_name=\"BAAI/bge-small-en\")"
   ]
  },
  {
   "cell_type": "code",
   "execution_count": 8,
   "id": "d6218939",
   "metadata": {},
   "outputs": [],
   "source": [
    "# Embed the split documents\n",
    "embedded_docs = embedder.embed_documents([doc.page_content for doc in chunked_docs])\n"
   ]
  },
  {
   "cell_type": "code",
   "execution_count": 9,
   "id": "1bdc6839",
   "metadata": {},
   "outputs": [],
   "source": [
    "# Create the Chroma vector store from the embedded documents\n",
    "bge_vectorstore = Chroma.from_documents(\n",
    "    documents=chunked_docs,\n",
    "    embedding=embedder,\n",
    "    client_settings=client_settings,\n",
    "    collection_name=\"env_policy_bge\",\n",
    "    collection_metadata={\"hnsw\": \"cosine\"}\n",
    ")\n"
   ]
  },
  {
   "cell_type": "code",
   "execution_count": 10,
   "id": "c0cb1844-f7cd-4abb-9139-fdfc5295867c",
   "metadata": {},
   "outputs": [],
   "source": [
    "retriever = bge_vectorstore.as_retriever(\n",
    "                                  search_type=\"mmr\",\n",
    "                                  search_kwargs={\"k\": 5, \"include_metadata\": True}\n",
    "                                  )\n",
    "                                  "
   ]
  },
  {
   "cell_type": "markdown",
   "id": "0639db04",
   "metadata": {},
   "source": []
  },
  {
   "cell_type": "code",
   "execution_count": 11,
   "id": "56a67fa0-edd5-47a3-8757-0f7352659ae2",
   "metadata": {},
   "outputs": [
    {
     "name": "stderr",
     "output_type": "stream",
     "text": [
      "Number of requested results 20 is greater than number of elements in index 16, updating n_results = 16\n"
     ]
    },
    {
     "data": {
      "text/plain": [
       "[Document(page_content='Content: city around world building better financial strategy . heart transition lie strategic reallocation investment away high-emitting activity clean energy climate-friendly industry . move prudent financial standpoint , well aligned climate goal – investment portfolio excluding fossil fuel delivered superior return past decade , fossil fuel investment increasingly risky.1 article set city get started moving investment manage risk grasp opportunity presented transition low carbon economy . look reallocation investment held city employee , example city pension fund . increase fund delivery city ’ climate measure , part shift support sustainable industry large . read 6 way drive climate investment route paying city ’ climate project , programme investment . make public commitment divest fossil fuel scale investment sustainable solution political commitment city ’ senior leadership essential , sending strong message asset manager stakeholder generating public interest . make binding , difficult reverse possible , example passing motion , integrating commitment city ’ climate action plan relevant strategy , publishing long-term divestment plan clear goal , deadline measurable interim target . approach vary depending governing structure city pension fund municipal asset currently invested fossil fuel , among factor . shift investment fossil fuel toward sustainable solution take time implemented gradually , requiring continued progress commitment across successive city administration . often , city first commit divesting fossil fuel ( remaining fossil free , city ’ currently fossil fuel holding ) , commitment increase sustainable investment achieve net-zero investment portfolio may come later . consider joining international commitment gain visibility recognition , learn inspire peer city . city ( and/or pension fund ) consider joining becoming signatory : paris aligned asset owner ( paao ) commitment , outcome paris aligned investment initiative ( paii ) , established 2019 investor-led forum support investor align portfolio investment activity goal paris agreement . city-relevant eight alliance glasgow financial alliance net zero ( gfanz ) , global coalition leading financial institution committed accelerating decarbonisation economy . c40 city divest-invest forum accelerator . led london , forum first-of-its-kind initiative helping urban leader make leap effective divestment accelerated green investment . accelerator public commitment made mayor ( equivalent city leadership ) . joining open city , regardless c40 membership . 2023 accelerator report set activity progress made signatory . new york city pension fund ’ path fossil fuel holding toward net-zero investment portfolio goal set 2018 three city new york pension fund – nyc employee ’ retirement system ( nycers ) , teacher ’ retirement system ( trs ) board education retirement system ( bers ) – divest fossil fuel reserve owner within five year , consistent fiduciary duty , achieved 2022.', metadata={'row': 3, 'source': 'Reduced_LLM_KB.csv'}),\n",
       " Document(page_content='shape city ’ vision approach reducing emission consumption requires change every level , structural intervention supply chain industry individual choice . partnership wide range public , private non-profit organisation therefore critical effective action . work stakeholder develop shared vision city ’ approach shifting sustainable consumption , well design , implement monitor action . thriving city initiative ’ city portrait canvas workshop tool designed help city foster big-picture thinking group discussion needed shape local vision sustainable consumption . engage stakeholder powerful inclusive climate action planning provides advice tool collaborative planning . partner include : national regional government . city need push national regional government take bolder action work national regulation advance city policy . working coalition city stakeholder may help advocate change . also read global covenant mayor ’ guide multilevel action . private sector . work business trade body set bold target , design effective workable regulation , develop new solution , introduce certification scheme sustainable practice understand latest green innovation private sector.7 civil society . partnership non-governmental organisation , community group , trade network medium help raise awareness , build support momentum , supply useful insight research , provide independent scrutiny progress industry.8 resident . public awareness campaign behavioural change initiative targeting resident community vital sector consumption emission depend individual choice , food . well offering health cost benefit , action give resident group highly motivated address climate footprint opportunity take direct action . introduce tried-and-tested policy key consumption area – innovate significant consumption-based emission sector urban policymakers focus building infrastructure , food , waste , private transport , aviation , textile , electronics household appliances.9 well directly reducing city ’ consumption emission , policy demand encourage consumption lower-carbon product material help develop market locally beyond city ’ border . equally , cross-border nature consumption emission mean innovation collaboration needed state city , supplier consumer , develop solution . two broad category action city take:10 action reduce carbon intensity product material . many product material produced lower embedded emission , example , using lower-carbon material process greater efficiency le waste along supply chain . action shift consumer choice toward sustainable option . mean encouraging shift different , lower-carbon product , service activity ( eating plant-based food le meat , shifting spending high-carbon material good local culture leisure activity ) , well reducing consumption new product altogether ( instance , enabling repair circular economy ) . action reduce emission urban consumption still infancy city , describe emerging tried-and-tested approach key sector inform city ’', metadata={'row': 0, 'source': 'Reduced_LLM_KB.csv'}),\n",
       " Document(page_content='Timestamp: 14/06/2024 17:29:21\\nTitle: Mapped: Cities with a climate action plan\\nContent: city playing lead role cutting greenhouse gas emission meet paris agreement ’ science-based , internationally accepted target limiting global heating 1.5°c . every city wanting take effective action mitigate climate change adapt effect need climate action plan ( cap ) – evidence-based roadmap delivering fair share emission cut strengthening resilience . ’ development implementation paris agreement-aligned cap requirement every c40 city . c40 global network nearly 100 mayor city forefront climate leadership , city earn keep membership action . c40 city staff support ass city ’ cap ensure line goal paris agreement , half c40 city published cap . experience city developing cap informed knowledge hub ’ step-by-step guide climate action planning , provides advice support every city – every size , every country , regardless c40 membership – develop 1.5°c-aligned cap . city cap diverse city . responds city ’ unique context , challenge , opportunity , presented one document comprise series connected plan strategy . map , explore cap c40 city published plan date . cap shared publicly provide good example , idea inspiration others looking take impactful climate action . click city ’ icon link cap . also find city ’ greenhouse gas emission inventory . map contains cap c40 member city . many city ambitious cap included verified paris agreement-compatible c40 city staff .', metadata={'row': 1, 'source': 'Reduced_LLM_KB.csv'}),\n",
       " Document(page_content='Timestamp: 14/06/2024\\nTitle: How to cut your city’s consumption-based emissions', metadata={'row': 0, 'source': 'Reduced_LLM_KB.csv'}),\n",
       " Document(page_content='Content: date , focus necessary foundation climate plan emission produced activity within city boundary , measured sector-based greenhouse gas ( ghg ) inventory . however , miss key source city ’ total emission : consumption imported good service . avoid climate breakdown , next decade leading city ’ emission must cut two-thirds , including emission driven urban demand.1 city essential role play cutting emission embodied product service consume , food building material . city work towards sustainable urban consumption explains significance consumption emission local benefit action address . article explains step urban policymakers take , along emerging tried-and-tested approach key urban consumption sector . understand city ’ consumption-based emission conduct consumption-based emission inventory ( cbei ) , possible . cbei measure city ’ consumption footprint . finding enable city understand detail significant source consumption-based emission design effective strategy reduce . city including portland , oregon , san francisco , paris london already developed cbeis . cbei account total lifecycle emission good service consumed within city – produced within city boundary well imported elsewhere . city ’ sector-based emission inventory supported global protocol standardised framework , yet equivalent standardised framework assessing consumption-based emission . nevertheless , sei ’ estimating consumption-based ghg emission city scale offer advice . detailed , city-level cbei critical . city begin work reduce consumption-based emission without one – many city already – cbei established later . get started , city source data , use indicator , seek academic study assessment national government city , example , might help paint picture likely source city ’ consumption emission . stockholm , instance , used national calculation consumption emission statistic sweden swedish environmental protection agency.2 cutting ghg emission consumption : indicator tool action share learning london new york city city use indicator plan measure action cut consumption emission , place addition cbei . includes sample ‘ actionable data indicator ’ sector including food , building , transportation product electronics appliance . portland , shared data learning interactive data story portland among first city develop cbei . city found 62 % carbon dioxide emission consumption created production phase product service , rather transportation use , often receive attention . biggest source consumption emission portland use vehicle city , already covered portland ’ sector-based emission inventory earlier climate planning . new priority sector emerge portland ’ consumption-based approach include food , service healthcare , construction consumer goods.3 set target goal consumption-based emission target goal consumption-based emission important guiding strategic planning decision-making , improving accountability communicating direction travel business public . target reducing', metadata={'row': 0, 'source': 'Reduced_LLM_KB.csv'})]"
      ]
     },
     "execution_count": 11,
     "metadata": {},
     "output_type": "execute_result"
    }
   ],
   "source": [
    "query = \"Explain climate policy\"\n",
    "retreived_docs = retriever.invoke(query)\n",
    "retreived_docs"
   ]
  },
  {
   "cell_type": "code",
   "execution_count": null,
   "id": "26caa9e6-383c-431e-b162-a26f274103cd",
   "metadata": {},
   "outputs": [],
   "source": []
  }
 ],
 "metadata": {
  "kernelspec": {
   "display_name": "Python 3",
   "language": "python",
   "name": "python3"
  },
  "language_info": {
   "codemirror_mode": {
    "name": "ipython",
    "version": 3
   },
   "file_extension": ".py",
   "mimetype": "text/x-python",
   "name": "python",
   "nbconvert_exporter": "python",
   "pygments_lexer": "ipython3",
   "version": "3.11.0"
  }
 },
 "nbformat": 4,
 "nbformat_minor": 5
}
