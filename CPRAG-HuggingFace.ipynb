{
 "cells": [
  {
   "cell_type": "code",
   "execution_count": 14,
   "metadata": {},
   "outputs": [],
   "source": [
    "from langchain_community.embeddings import HuggingFaceBgeEmbeddings\n",
    "from langchain_chroma import Chroma\n",
    "import chromadb\n",
    "from pathlib import Path\n",
    "import os\n",
    "from transformers import pipeline, AutoModelForSeq2SeqLM, AutoTokenizer\n",
    "import torch\n"
   ]
  },
  {
   "cell_type": "code",
   "execution_count": 2,
   "metadata": {},
   "outputs": [
    {
     "name": "stdout",
     "output_type": "stream",
     "text": [
      "DB_DIR: /Users/rahul/Projects/AI-Project/ClimateActionPolicy-RAG/Chroma1/env_policy\n"
     ]
    }
   ],
   "source": [
    "# Set the absolute path for the Chroma database\n",
    "ABS_PATH = Path().resolve().joinpath('Chroma1')\n",
    "DB_DIR = os.path.join(ABS_PATH, \"env_policy\")\n",
    "print('DB_DIR:', DB_DIR)"
   ]
  },
  {
   "cell_type": "code",
   "execution_count": 3,
   "metadata": {},
   "outputs": [],
   "source": [
    "# Define client settings for Chroma\n",
    "client_settings = chromadb.config.Settings(\n",
    "    is_persistent=True,\n",
    "    persist_directory=DB_DIR,\n",
    "    anonymized_telemetry=False,\n",
    ")"
   ]
  },
  {
   "cell_type": "code",
   "execution_count": 4,
   "metadata": {},
   "outputs": [],
   "source": [
    "# Initialize the HuggingFaceBgeEmbeddings with the correct model\n",
    "embedder = HuggingFaceBgeEmbeddings(model_name=\"BAAI/bge-small-en\")\n"
   ]
  },
  {
   "cell_type": "code",
   "execution_count": 5,
   "metadata": {},
   "outputs": [],
   "source": [
    "# Load the Chroma vector store\n",
    "bge_vectorstore = Chroma(\n",
    "    embedding_function=embedder,\n",
    "    client_settings=client_settings,\n",
    "    collection_name=\"env_policy_bge\",\n",
    "    collection_metadata={\"hnsw\": \"cosine\"}\n",
    ")\n"
   ]
  },
  {
   "cell_type": "code",
   "execution_count": 6,
   "metadata": {},
   "outputs": [],
   "source": [
    "# Initialize the retriever\n",
    "retriever = bge_vectorstore.as_retriever(\n",
    "    search_type=\"mmr\",\n",
    "    search_kwargs={\"k\": 5, \"include_metadata\": True}\n",
    ")"
   ]
  },
  {
   "cell_type": "code",
   "execution_count": 7,
   "metadata": {},
   "outputs": [],
   "source": [
    "# Define the query\n",
    "query = \"Give me the top three things to consider when writing my climate action plan.\"\n",
    "\n"
   ]
  },
  {
   "cell_type": "code",
   "execution_count": 10,
   "metadata": {},
   "outputs": [
    {
     "name": "stdout",
     "output_type": "stream",
     "text": [
      "[Document(page_content='Timestamp: 14/06/2024 19:50:18\\nTitle: How to prioritise actions for your climate action plan\\nContent: At the heart of a city’s climate action plan (CAP) is a set of actions that have been selected, prioritised and defined to ensure that the vision, goals and targets of the plan can be achieved. There is no one correct set of actions for achieving your city’s climate change goals. Ultimately, the actions in your plan need to be underpinned by high ambition, a strong evidence base, robust engagement and governance structures. They should have in-built flexibility to allow the city to learn from successes and failures and to adapt the approach over time.\\nOur CAP guide will be updated shortly in line with the Cities Climate Transition Framework, released in December 2023.\\nThere are many ways to develop a set of actions for your city’s CAP. Whether your city is developing its first CAP, or consolidating or strengthening existing plans, this article offers guidance on the process of selecting, prioritising and defining those actions. We outline the main factors for your city’s climate action planning team – which should lead this process – to consider, and highlight resources that can be used to support the process.\\nWhat is a climate action?\\nA climate action is any activity your city commits to implementing to achieve its vision and strategies for adapting to climate change and reducing emissions. Actions include any policy, project, programme, strategy, partnership, investment or infrastructure that leads to emission reduction and climate resilience. They can be at any size, scale or stage of implementation, from concept to implementation and monitoring, and have a variety of origins. For example, actions may be new, pre-existing from earlier or connected city plans, or non-negotiable under legislation or binding commitments. They may contribute directly to the city’s adaptation and emission reduction outcomes, such as actions to move to renewable energy or the widespread use of public transport. Or they may be enabling actions that strengthen or facilitate other aspects of a CAP, for example, by building capacity, demonstrating leadership, strengthening the evidence base, enhancing governance or seeking finance.\\nTogether, these actions should present a clear, coherent and robust approach to meeting your city’s climate change vision, goals and targets; an adaptation-related example of how these elements connect is shown below. The resulting CAP should include a clear narrative that explains why the set of actions has been selected.\\nIdentify and give structure to a ‘longlist’ of actions\\nAhead of this stage in the climate action planning process, your city should have developed mitigation and adaptation strategies. These strategies may have given rise to a ‘longlist’ of potential actions. If the strategy process has not gone as far as to formulate a clear long list of actions, this should be the first step in prioritising and defining CAP actions.', metadata={'row': 100, 'source': 'Cleaned_LLM_KB.csv'}), Document(page_content='Timestamp: 15/06/2024 13:48:17\\nTitle: IPCC Synthesis Report on Climate Change 2023 (AR6)\\nContent: There are multiple, feasible and effective options to reduce greenhouse gas emissions and adapt to human-caused climate change, and they are available now, as outlined in the latest Intergovernmental Panel on Climate Change (IPCC) report.\\nMore than half of the world’s population lives in cities. They are home to most of our built assets, economic activity and greenhouse gas emissions. Ambitious action by cities is critical, therefore, to respond to the climate emergency. Cities can use the Climate Action Planning Guide to develop effective climate action plans.\\nThe report brings into sharp focus the losses and damages the world is already experiencing and will continue to experience into the future, hitting the most vulnerable people and ecosystems especially hard. Taking the right action now could result in the transformational change essential for a sustainable, equitable world.\\nThe solution lies in climate resilient development. This involves integrating measures to adapt to climate change with actions to reduce or avoid greenhouse gas (GHG) emissions in ways that provide wider benefits. Climate resilient development becomes progressively more challenging with every increment of warming. This is why the choices cities and national governments make in the next few years will play a critical role in deciding our future and that of generations to come.\\nThe below headline statements are the overarching conclusions from the report’s Summary for Policymakers:\\nA. Current status and trends\\nA.1. Observed warming and its causes\\nHuman activities, principally through emissions of greenhouse gases, have unequivocally caused global warming, with global surface temperature reaching 1.1°C above 1850-1900 in 2011-2020. Global greenhouse gas emissions have continued to increase, with unequal historical and ongoing contributions arising from unsustainable energy use, land use and land-use change, lifestyles and patterns of consumption and production across regions, between and within countries, and among individuals.\\nA.2. Observed changes and impacts\\nWidespread and rapid changes in the atmosphere, ocean, cryosphere and biosphere have occurred. Human-caused climate change is already affecting many weather and climate extremes in every region across the globe. This has led to widespread adverse impacts and related losses and damages to nature and people. Vulnerable communities who have historically contributed the least to current climate change are disproportionately affected.\\nA.3. Current progress in adaptation and gaps and challenges', metadata={'row': 318, 'source': 'Cleaned_LLM_KB.csv'}), Document(page_content='Aim to strike a balance between collecting sufficient information and having enough indicators to allow for the prioritisation, decision-making and monitoring needed to ensure the city is meeting its climate goals, and placing too heavy a burden on departments. Asking for too much or excessively complex information, especially in the first year of adopting climate budgeting, may discourage departments from taking part. Oversimplifying is better than overcomplicating, especially in the beginning. Start with as few questions as possible, aim to ensure questions are actionable (that you can do something with the answer), learn from teams’ feedback and experience of working with the revised budget template and adapt the template over time. Often, more questions and indicators can be added as agencies become more familiar with the process.\\nIdentify and propose unfunded measures and those that require legislation in the budget template\\nThe template should also collect information about measures that departments would like to implement, but which are not yet funded. The unfunded list can become a concrete pipeline of priority measures for which the city can seek or leverage funding. Indeed, the opportunity to find funding for actions a department wishes to implement can be an important incentive to participate in the process. Similarly, many sectoral climate actions require legislation in place of or in addition to funding. The revised budget template can be a vehicle for collecting information from departments about required legislation (city, state, national or regional level). Many of the climate measures identified in Oslo’s climate budget, for example, are of a regulatory nature.\\nPublish the list of unfunded measures and those requiring legislation as part of the climate budget. This can help to clarify and highlight funding and legislative needs to other stakeholders and support transparency and accountability.\\nUse the information to prioritise measures for the climate budget\\nBased on annual budget priorities, cities should develop a prioritisation matrix to assess the proposals holistically and objectively. Many cities lack funding for climate action and must make hard choices. A compiled list of all proposals will allow a selection that delivers on strategic priorities. It will also be a transparent process, where decision-makers are aware of which proposals are unfunded. Some of these may receive funding at a later stage, possibly in the budget revision, or be revisited in the next budget year.\\nIntegrate climate reporting into ordinary budget MER procedures, including grant/allocation letters and budget reporting instructions', metadata={'row': 34, 'source': 'Cleaned_LLM_KB.csv'}), Document(page_content='Plan Compilation\\nTotal Articles : 1\\nThe final step in the process of developing a climate action plan is writing it. This outlines best practices for designing, writing and launching a CAP that effectively communicates the city’s commitment to climate action, the strategies and actions the city will employ, and the evidence that underpins them.\\n\\nMonitoring, Evaluation and Reporting\\nTotal Articles : 1\\nMonitoring, evaluating and reporting (MER) enables the city to track the CAP’s implementation and impact, demonstrating the value of actions taken and allowing the city to make informed adjustments – maximising the success of its implementation.', metadata={'row': 175, 'source': 'Cleaned_LLM_KB.csv'}), Document(page_content='Finance: To stay below 1.5°C, we can expect the level of investment to be orders of magnitude greater than previously thought. In the energy sector alone, it is estimated that we will need an investment of US$2.4 trillion annually between 2016 and 2035 to keep to the target.\\n  Getting to 1.5°C: A call to action\\nThe sobering conclusion of the Summary for Urban Policymakers is that we need to pursue aggressive strategies to limit global heating to 1.5°C, while preparing our towns, cities for the climate impacts that are already happening.\\nWe have also seen in recent weeks that it is very easy to get climate action wrong. President Macron’s combination of tax cuts for the wealthy, along with fuel duty rises which have disproportionately effect those on lower incomes, has provoked a strong reaction across France. As a result, climate action is wrongly tainted as being unfair and reducing the social and economic well-being of the majority, while the one percent can afford to carry on polluting.\\nInstead, climate justice and social justice need to go hand and hand. That is why we need inclusive and just climate action that delivers for all citizens in every part of the globe. Without urgent action, continued progress will become incredibly challenging. In this sense, action on climate change is development.\\nCitizens are increasingly demanding action and changing their own lifestyles. Mayors can take heart from this and engage with communities to drive bigger changes. The Global Climate Action Summit in San Francisco this year showed the huge latent potential for regional government, business and cities to work together, whatever their respective national governments’ levels of ambition.\\nTherefore, 1.5°C is likely to become the most important number in human history.\\nIt is already the target adopted by C40, since 2016, as the level of ambition needed to be part of our network. I am looking forward to working with C40 mayors and all our partners in 2019 to redouble our efforts to make this transformation a reality.', metadata={'row': 784, 'source': 'Cleaned_LLM_KB.csv'})]\n"
     ]
    }
   ],
   "source": [
    "# Retrieve documents\n",
    "retrieved_docs = retriever.invoke(query)\n",
    "print(retrieved_docs)\n"
   ]
  },
  {
   "cell_type": "code",
   "execution_count": 11,
   "metadata": {},
   "outputs": [],
   "source": [
    "# Function to create a context from retrieved documents\n",
    "def create_context_from_docs(docs):\n",
    "    return \" \".join([doc.page_content for doc in docs])\n"
   ]
  },
  {
   "cell_type": "code",
   "execution_count": 12,
   "metadata": {},
   "outputs": [
    {
     "name": "stdout",
     "output_type": "stream",
     "text": [
      "Timestamp: 14/06/2024 19:50:18\n",
      "Title: How to prioritise actions for your climate action plan\n",
      "Content: At the heart of a city’s climate action plan (CAP) is a set of actions that have been selected, prioritised and defined to ensure that the vision, goals and targets of the plan can be achieved. There is no one correct set of actions for achieving your city’s climate change goals. Ultimately, the actions in your plan need to be underpinned by high ambition, a strong evidence base, robust engagement and governance structures. They should have in-built flexibility to allow the city to learn from successes and failures and to adapt the approach over time.\n",
      "Our CAP guide will be updated shortly in line with the Cities Climate Transition Framework, released in December 2023.\n",
      "There are many ways to develop a set of actions for your city’s CAP. Whether your city is developing its first CAP, or consolidating or strengthening existing plans, this article offers guidance on the process of selecting, prioritising and defining those actions. We outline the main factors for your city’s climate action planning team – which should lead this process – to consider, and highlight resources that can be used to support the process.\n",
      "What is a climate action?\n",
      "A climate action is any activity your city commits to implementing to achieve its vision and strategies for adapting to climate change and reducing emissions. Actions include any policy, project, programme, strategy, partnership, investment or infrastructure that leads to emission reduction and climate resilience. They can be at any size, scale or stage of implementation, from concept to implementation and monitoring, and have a variety of origins. For example, actions may be new, pre-existing from earlier or connected city plans, or non-negotiable under legislation or binding commitments. They may contribute directly to the city’s adaptation and emission reduction outcomes, such as actions to move to renewable energy or the widespread use of public transport. Or they may be enabling actions that strengthen or facilitate other aspects of a CAP, for example, by building capacity, demonstrating leadership, strengthening the evidence base, enhancing governance or seeking finance.\n",
      "Together, these actions should present a clear, coherent and robust approach to meeting your city’s climate change vision, goals and targets; an adaptation-related example of how these elements connect is shown below. The resulting CAP should include a clear narrative that explains why the set of actions has been selected.\n",
      "Identify and give structure to a ‘longlist’ of actions\n",
      "Ahead of this stage in the climate action planning process, your city should have developed mitigation and adaptation strategies. These strategies may have given rise to a ‘longlist’ of potential actions. If the strategy process has not gone as far as to formulate a clear long list of actions, this should be the first step in prioritising and defining CAP actions. Timestamp: 15/06/2024 13:48:17\n",
      "Title: IPCC Synthesis Report on Climate Change 2023 (AR6)\n",
      "Content: There are multiple, feasible and effective options to reduce greenhouse gas emissions and adapt to human-caused climate change, and they are available now, as outlined in the latest Intergovernmental Panel on Climate Change (IPCC) report.\n",
      "More than half of the world’s population lives in cities. They are home to most of our built assets, economic activity and greenhouse gas emissions. Ambitious action by cities is critical, therefore, to respond to the climate emergency. Cities can use the Climate Action Planning Guide to develop effective climate action plans.\n",
      "The report brings into sharp focus the losses and damages the world is already experiencing and will continue to experience into the future, hitting the most vulnerable people and ecosystems especially hard. Taking the right action now could result in the transformational change essential for a sustainable, equitable world.\n",
      "The solution lies in climate resilient development. This involves integrating measures to adapt to climate change with actions to reduce or avoid greenhouse gas (GHG) emissions in ways that provide wider benefits. Climate resilient development becomes progressively more challenging with every increment of warming. This is why the choices cities and national governments make in the next few years will play a critical role in deciding our future and that of generations to come.\n",
      "The below headline statements are the overarching conclusions from the report’s Summary for Policymakers:\n",
      "A. Current status and trends\n",
      "A.1. Observed warming and its causes\n",
      "Human activities, principally through emissions of greenhouse gases, have unequivocally caused global warming, with global surface temperature reaching 1.1°C above 1850-1900 in 2011-2020. Global greenhouse gas emissions have continued to increase, with unequal historical and ongoing contributions arising from unsustainable energy use, land use and land-use change, lifestyles and patterns of consumption and production across regions, between and within countries, and among individuals.\n",
      "A.2. Observed changes and impacts\n",
      "Widespread and rapid changes in the atmosphere, ocean, cryosphere and biosphere have occurred. Human-caused climate change is already affecting many weather and climate extremes in every region across the globe. This has led to widespread adverse impacts and related losses and damages to nature and people. Vulnerable communities who have historically contributed the least to current climate change are disproportionately affected.\n",
      "A.3. Current progress in adaptation and gaps and challenges Aim to strike a balance between collecting sufficient information and having enough indicators to allow for the prioritisation, decision-making and monitoring needed to ensure the city is meeting its climate goals, and placing too heavy a burden on departments. Asking for too much or excessively complex information, especially in the first year of adopting climate budgeting, may discourage departments from taking part. Oversimplifying is better than overcomplicating, especially in the beginning. Start with as few questions as possible, aim to ensure questions are actionable (that you can do something with the answer), learn from teams’ feedback and experience of working with the revised budget template and adapt the template over time. Often, more questions and indicators can be added as agencies become more familiar with the process.\n",
      "Identify and propose unfunded measures and those that require legislation in the budget template\n",
      "The template should also collect information about measures that departments would like to implement, but which are not yet funded. The unfunded list can become a concrete pipeline of priority measures for which the city can seek or leverage funding. Indeed, the opportunity to find funding for actions a department wishes to implement can be an important incentive to participate in the process. Similarly, many sectoral climate actions require legislation in place of or in addition to funding. The revised budget template can be a vehicle for collecting information from departments about required legislation (city, state, national or regional level). Many of the climate measures identified in Oslo’s climate budget, for example, are of a regulatory nature.\n",
      "Publish the list of unfunded measures and those requiring legislation as part of the climate budget. This can help to clarify and highlight funding and legislative needs to other stakeholders and support transparency and accountability.\n",
      "Use the information to prioritise measures for the climate budget\n",
      "Based on annual budget priorities, cities should develop a prioritisation matrix to assess the proposals holistically and objectively. Many cities lack funding for climate action and must make hard choices. A compiled list of all proposals will allow a selection that delivers on strategic priorities. It will also be a transparent process, where decision-makers are aware of which proposals are unfunded. Some of these may receive funding at a later stage, possibly in the budget revision, or be revisited in the next budget year.\n",
      "Integrate climate reporting into ordinary budget MER procedures, including grant/allocation letters and budget reporting instructions Plan Compilation\n",
      "Total Articles : 1\n",
      "The final step in the process of developing a climate action plan is writing it. This outlines best practices for designing, writing and launching a CAP that effectively communicates the city’s commitment to climate action, the strategies and actions the city will employ, and the evidence that underpins them.\n",
      "\n",
      "Monitoring, Evaluation and Reporting\n",
      "Total Articles : 1\n",
      "Monitoring, evaluating and reporting (MER) enables the city to track the CAP’s implementation and impact, demonstrating the value of actions taken and allowing the city to make informed adjustments – maximising the success of its implementation. Finance: To stay below 1.5°C, we can expect the level of investment to be orders of magnitude greater than previously thought. In the energy sector alone, it is estimated that we will need an investment of US$2.4 trillion annually between 2016 and 2035 to keep to the target.\n",
      "  Getting to 1.5°C: A call to action\n",
      "The sobering conclusion of the Summary for Urban Policymakers is that we need to pursue aggressive strategies to limit global heating to 1.5°C, while preparing our towns, cities for the climate impacts that are already happening.\n",
      "We have also seen in recent weeks that it is very easy to get climate action wrong. President Macron’s combination of tax cuts for the wealthy, along with fuel duty rises which have disproportionately effect those on lower incomes, has provoked a strong reaction across France. As a result, climate action is wrongly tainted as being unfair and reducing the social and economic well-being of the majority, while the one percent can afford to carry on polluting.\n",
      "Instead, climate justice and social justice need to go hand and hand. That is why we need inclusive and just climate action that delivers for all citizens in every part of the globe. Without urgent action, continued progress will become incredibly challenging. In this sense, action on climate change is development.\n",
      "Citizens are increasingly demanding action and changing their own lifestyles. Mayors can take heart from this and engage with communities to drive bigger changes. The Global Climate Action Summit in San Francisco this year showed the huge latent potential for regional government, business and cities to work together, whatever their respective national governments’ levels of ambition.\n",
      "Therefore, 1.5°C is likely to become the most important number in human history.\n",
      "It is already the target adopted by C40, since 2016, as the level of ambition needed to be part of our network. I am looking forward to working with C40 mayors and all our partners in 2019 to redouble our efforts to make this transformation a reality.\n"
     ]
    }
   ],
   "source": [
    "# Create context from retrieved documents\n",
    "context = create_context_from_docs(retrieved_docs)\n",
    "print(context)\n"
   ]
  },
  {
   "cell_type": "markdown",
   "metadata": {},
   "source": [
    "facebook/bart-large-cnn"
   ]
  },
  {
   "cell_type": "code",
   "execution_count": 11,
   "metadata": {},
   "outputs": [
    {
     "name": "stderr",
     "output_type": "stream",
     "text": [
      "/Library/Frameworks/Python.framework/Versions/3.11/lib/python3.11/site-packages/huggingface_hub/file_download.py:1132: FutureWarning: `resume_download` is deprecated and will be removed in version 1.0.0. Downloads always resume when possible. If you want to force a new download, use `force_download=True`.\n",
      "  warnings.warn(\n",
      "Some weights of BartForConditionalGeneration were not initialized from the model checkpoint at facebook/bart-large-cnn and are newly initialized: ['model.shared.weight']\n",
      "You should probably TRAIN this model on a down-stream task to be able to use it for predictions and inference.\n"
     ]
    }
   ],
   "source": [
    "# Initialize the text generation pipeline with a summarization model\n",
    "generator = pipeline('summarization', model='facebook/bart-large-cnn')"
   ]
  },
  {
   "cell_type": "code",
   "execution_count": 16,
   "metadata": {},
   "outputs": [],
   "source": [
    "def generate_with_bart(context, question, max_length=1024):\n",
    "    input_text = f\"{context} {question}\"\n",
    "    # Split the input_text into chunks of max_length\n",
    "    input_chunks = [input_text[i:i + max_length] for i in range(0, len(input_text), max_length)]\n",
    "    summaries = []\n",
    "    for chunk in input_chunks:\n",
    "        result = generator(chunk, max_length=150, min_length=40, do_sample=False)\n",
    "        summaries.append(result[0]['summary_text'])\n",
    "    return \" \".join(summaries)"
   ]
  },
  {
   "cell_type": "code",
   "execution_count": 17,
   "metadata": {},
   "outputs": [],
   "source": [
    "# Define the context and question\n",
    "\n",
    "question = \"Give me the top three things to consider when writing my climate action plan.\"\n"
   ]
  },
  {
   "cell_type": "code",
   "execution_count": 18,
   "metadata": {},
   "outputs": [
    {
     "name": "stdout",
     "output_type": "stream",
     "text": [
      "Answer: There is no one correct set of actions for achieving your city’s climate change goals. The actions in your plan need to be underpinned by high ambition. They should have in-built flexibility to allow the city to learn from successes and failures and to adapt the approach over time. Actions include any policy, project, programme, strategy, partnership, investment or infrastructure that leads to emission reduction and climate resilience. They can be at any size, scale or stage of implementation, from concept to implementation and monitoring. Identify and give structure to a ‘longlist’ of actions. These actions should present a clear, coherent and robust approach to meeting your city’s climate change vision, goals and targets. There are multiple, feasible and effective options to reduce greenhouse gas emissions and adapt to human-caused climate change. Cities can use the Climate Action Planning Guide to develop effective climate action plans. Taking right action now could result in the transformational change essential for a sustainable, equitable world. Global surface temperature reached 1.1°C above 1850-1900 in 2011-2020. Global greenhouse gas emissions have continued to increase. Unfair contributions arising from unsustainable energy use, land use and land-use change, lifestyles and patterns of consumption and production. Human-caused climate change is already affecting many weather and climate extremes. Vulnerable communities who have historically contributed the least to current climate change are disproportionately affected. Aim to strike a balance between collecting sufficient information and having enough indicators. Identify and propose unfunded measures and those that require legislation in the budget template. The template should also collect information about measures that departments would like to implement, but which are not yet funded. Many cities lack funding for climate action and must make hard choices. A compiled list of all proposals will allow a selection that delivers on strategic priorities. It will also be a transparent process, where decision-makers are aware of which proposals are unfunded. The final step in the process of developing a climate plan is writing it. This outlines best practices for designing, writing and launching a CAP. To stay below 1.5°C, we can expect the level of investment to be orders of magnitude greater than previously thought. The sobering conclusion of the Summary for Urban Policymakers is that we need to pursue aggressive strategies to limit global heating to 1.5°C. We need to prepare our towns, cities for the climate impacts that are already happening. Without urgent action, continued progress will become incredibly cha Citizens are increasingly demanding action and changing their own lifestyles. Mayors can take heart from this and engage with communities to drive bigger changes. The Global Climate Action Summit in San Francisco this year showed the huge latent potential for regional government, business and cities to work together.\n"
     ]
    }
   ],
   "source": [
    "# Generate the answer using the context and the question\n",
    "answer = generate_with_bart(context, question)\n",
    "\n",
    "print(\"Answer:\", answer)"
   ]
  },
  {
   "cell_type": "code",
   "execution_count": 12,
   "metadata": {},
   "outputs": [],
   "source": [
    "# Define the question\n",
    "question = \"Give me the top three things to consider when writing my climate action plan.\"\n"
   ]
  },
  {
   "cell_type": "markdown",
   "metadata": {},
   "source": [
    "distilgpt2"
   ]
  },
  {
   "cell_type": "code",
   "execution_count": 19,
   "metadata": {},
   "outputs": [],
   "source": [
    "# Initialize the Hugging Face text generation pipeline\n",
    "generator = pipeline('text-generation', model='distilgpt2')"
   ]
  },
  {
   "cell_type": "code",
   "execution_count": 20,
   "metadata": {},
   "outputs": [],
   "source": [
    "# Function to generate an answer using the Hugging Face generator\n",
    "def generate_with_huggingface(context, question):\n",
    "    input_text = f\"{context} {question}\"\n",
    "    # Split input_text into chunks that the model can handle\n",
    "    max_length = 512  # Adjust this length according to the model's capacity\n",
    "    input_chunks = [input_text[i:i + max_length] for i in range(0, len(input_text), max_length)]\n",
    "    generated_text = \"\"\n",
    "    for chunk in input_chunks:\n",
    "        result = generator(chunk, max_length=max_length, num_return_sequences=1)\n",
    "        generated_text += result[0]['generated_text']\n",
    "    return generated_text\n"
   ]
  },
  {
   "cell_type": "code",
   "execution_count": 21,
   "metadata": {},
   "outputs": [
    {
     "name": "stderr",
     "output_type": "stream",
     "text": [
      "Setting `pad_token_id` to `eos_token_id`:50256 for open-end generation.\n",
      "Setting `pad_token_id` to `eos_token_id`:50256 for open-end generation.\n",
      "Setting `pad_token_id` to `eos_token_id`:50256 for open-end generation.\n",
      "Setting `pad_token_id` to `eos_token_id`:50256 for open-end generation.\n",
      "Setting `pad_token_id` to `eos_token_id`:50256 for open-end generation.\n",
      "Setting `pad_token_id` to `eos_token_id`:50256 for open-end generation.\n",
      "Setting `pad_token_id` to `eos_token_id`:50256 for open-end generation.\n",
      "Setting `pad_token_id` to `eos_token_id`:50256 for open-end generation.\n",
      "Setting `pad_token_id` to `eos_token_id`:50256 for open-end generation.\n",
      "Setting `pad_token_id` to `eos_token_id`:50256 for open-end generation.\n",
      "Setting `pad_token_id` to `eos_token_id`:50256 for open-end generation.\n",
      "Setting `pad_token_id` to `eos_token_id`:50256 for open-end generation.\n",
      "Setting `pad_token_id` to `eos_token_id`:50256 for open-end generation.\n",
      "Setting `pad_token_id` to `eos_token_id`:50256 for open-end generation.\n",
      "Setting `pad_token_id` to `eos_token_id`:50256 for open-end generation.\n",
      "Setting `pad_token_id` to `eos_token_id`:50256 for open-end generation.\n",
      "Setting `pad_token_id` to `eos_token_id`:50256 for open-end generation.\n",
      "Setting `pad_token_id` to `eos_token_id`:50256 for open-end generation.\n",
      "Setting `pad_token_id` to `eos_token_id`:50256 for open-end generation.\n",
      "Setting `pad_token_id` to `eos_token_id`:50256 for open-end generation.\n",
      "Setting `pad_token_id` to `eos_token_id`:50256 for open-end generation.\n",
      "Setting `pad_token_id` to `eos_token_id`:50256 for open-end generation.\n"
     ]
    },
    {
     "name": "stdout",
     "output_type": "stream",
     "text": [
      "Answer: Timestamp: 14/06/2024 19:50:18\n",
      "Title: How to prioritise actions for your climate action plan\n",
      "Content: At the heart of a city’s climate action plan (CAP) is a set of actions that have been selected, prioritised and defined to ensure that the vision, goals and targets of the plan can be achieved. There is no one correct set of actions for achieving your city’s climate change goals. Ultimately, the actions in your plan need to be underpinned by high ambition, a strong evidence base, robust engagement and goverment to ensure that actions for all areas and regions are implemented.\n",
      "It is crucial to follow the vision outlined here as the following:\n",
      "To ensure the success of our global climate negotiations, we are taking action now to achieve each and every change that our people and the world should address. Together, we will win in the next elections. Our vision is not the only way forward, but we need to be very clear where each and every action at this stage needs to be prioritised, prioritised and explained.\n",
      "The main goal of the CAP is to ensure that each and every event has the same level of impact and it should be prioritised as the first round of the COP21 climate talks.\n",
      "As of the end of 2016, global temperature increases more slowly than has been anticipated.\n",
      "Our goal is to meet each and every day a more stable world.\n",
      "In the COP21 climate negotiations we are now building on this focus, and through a broad set of actions we will seek to implement the climate plan by 2015.\n",
      "The COP21 climate negotiations focus on actions that have been selected for the future of the world and are focused on the role of countries in the global climate negotiations towards a stronger world for each of these global aims. We believe that the COP21 climate negotiations will help guide both countries in climate negotiations both for emissions reduction and for global growth.nance structures. They should have in-built flexibility to allow the city to learn from successes and failures and to adapt the approach over time.\n",
      "Our CAP guide will be updated shortly in line with the Cities Climate Transition Framework, released in December 2023.\n",
      "There are many ways to develop a set of actions for your city’s CAP. Whether your city is developing its first CAP, or consolidating or strengthening existing plans, this article offers guidance on the process of selecting, prioritising and defiying the CAP.\n",
      "You can download the following content:\n",
      "Here are a few tips on how to develop your CAP:\n",
      "Take the time to get in touch with the development team for your city planning process. Once you have made an engagement, you will need the knowledge to develop the CAP plan that you have previously worked with.\n",
      "If you choose the initial CAP plans (for example, for example, for a residential building at a different time) you should be able to use it to build your new policy strategy. You may think of this in terms of the initial CAP plan that the city was previously developing and the plan is going to be good for your local, multi-city planning process.\n",
      "The second way to achieve the CAP is by using the CAP guidelines. If your planning plans don't work, then you should not go ahead and just follow these guidelines.\n",
      "This gives you the confidence that you are likely to make a valid decision because they are based on the best strategy. You will want for the overall CAP structure to be based on what information you want to know about your community. This will give you the confidence to start researching and developing the CAP plan in the next two years, and you will really be more confident with your goals than you can think of.\n",
      "Remember you have a small budget, you have many big ideas, you have many large projects, you have very limited budgets that you can't do to build your plan. There are only so many ways to spend your money in different parts of the city. However, take your time and decide what you want to do with it. For example, if you are building a downtown neighborhood, it is not really that important for your planning. This could be because it is not economically feasible for your city to buy lots of construction sites. But this could also be because construction sites need the right amount of building, and your city needs you to be able to buy up large amounts of building space and develop a good plan to manage the area on the basis of aning those actions. We outline the main factors for your city’s climate action planning team – which should lead this process – to consider, and highlight resources that can be used to support the process.\n",
      "What is a climate action?\n",
      "A climate action is any activity your city commits to implementing to achieve its vision and strategies for adapting to climate change and reducing emissions. Actions include any policy, project, programme, strategy, partnership, investment or infrastructure that leads to emissio levels, with any policy, development or infrastructure plan to improve public health and environment as well as promote adaptation and sustainability in the community. It aims to reduce greenhouse gas emissions by 10 % to 1.5 per cent.\n",
      "How do you deal with climate change?\n",
      "The Environmental Impact and Impact Committee is an independent committee that acts to create an efficient and robust environment for the City, and will act as an independent commission to guide policy and development to address the issues. Responsibilities include an understanding of the environmental impact of any policy proposals, and planning plans. Its resources include:\n",
      "• Development and support for the development of a climate action programme\n",
      "• Resources, infrastructure planning and partnership support (including funding for initiatives such as energy-efficient power stations and smart meters, or providing for public space on public transport and the city’s parks, parks and trails)\n",
      "• Environmental policy and development planning plans\n",
      "• Environment and planning plans\n",
      "• Community planning and partnership support (including funding for programmes such as energy-efficient power stations and smart meters, or providing for public space on public transport and the city’s parks, parks and trails)\n",
      "• Local authorities and environmental policy and development planning – building and installing, using, and implementing public spaces, and implementing public spaces, and implementing public spaces, and implementing public spaces, and implementing public spaces, and implementing public spaces, and implementing public spaces, and implementing public spaces, and implementing public spaces, and implementing public spaces, and implementing public spaces, and implementing public spaces, and implementing public spaces, and implementing public spaces, and implementing public spaces, and implementing public spaces, and implementing public spaces, and implementing public spaces, and implementing public spaces, and implementing public spaces, and implementing public spaces, and implementing public spaces, and implementing public spaces, and implementing public spaces, and implementing public spaces, and implementing public spaces, and implementing public spaces, and implementing public spaces, and implementing public spaces, and implementing public spaces, and implementing public spaces, and implementing public spaces, and implementing public spaces, and implementingn reduction and climate resilience. They can be at any size, scale or stage of implementation, from concept to implementation and monitoring, and have a variety of origins. For example, actions may be new, pre-existing from earlier or connected city plans, or non-negotiable under legislation or binding commitments. They may contribute directly to the city’s adaptation and emission reduction outcomes, such as actions to move to renewable energy or the widespread use of public transport. Or they may be enabliated by proposed actions to reduce the carbon dioxide emissions caused by emissions from industrial plant construction and the maintenance and maintenance of human infrastructure.\n",
      "\n",
      "\n",
      "\n",
      "\n",
      "\n",
      "\n",
      "\n",
      "\n",
      "The study, supported by the U.N. Special Rapporteur on Climate Change, states:\n",
      "‵ A new set of policies and mechanisms to reduce carbon dioxide emissions will be proposed under new or planned plans implemented in the future. These measures include:\n",
      "1) the reduction of fossil fuel emissions by 2030 by 2050 and the reduction of carbon dioxide emissions by 2050.\n",
      "2) the reduction of human energy consumption by 2050.\n",
      "3) the reduction of CO2 emissions by 2050.\n",
      "4) to remove GHG emissions by 2050.\n",
      "5) the reduction of CO2 emissions by 2050.\n",
      "6) the reduction of CO2 emissions by 2050.\n",
      "7) the reduction of GHG emissions by 2050.\n",
      "8) for the removal of GHG climate change, including those from the future.\n",
      "9) the reduction of CO2 emissions by 2050.\n",
      "10) for achieving a better level of climate adaptation through 2050.\n",
      "11) for reducing emissions from coal and natural gas production through 2045 and also by 2050.\n",
      "12) for achieving maximum emission reduction, including existing emissions reductions, with increasing capacity, with more carbon.\n",
      "13) for achieving the emission reductions below those achieved in the future.ng actions that strengthen or facilitate other aspects of a CAP, for example, by building capacity, demonstrating leadership, strengthening the evidence base, enhancing governance or seeking finance.\n",
      "Together, these actions should present a clear, coherent and robust approach to meeting your city’s climate change vision, goals and targets; an adaptation-related example of how these elements connect is shown below. The resulting CAP should include a clear narrative that explains why the set of actions has be adopted—in the first place—while still being grounded in context and addressing our climate change crisis.\n",
      "But the CAP’s approach may not work when people are talking about how they’re working: It turns out those who believe that the CAP’s approach means their community does the work of helping communities become more resilient. In one of the many ways the CAP comes into conflict with the reality that human resilience is a critical component of our communities’s resilience. For example, it is difficult to argue with this claim that the impact of having a CAP on people is only partly because of how this role changes when the community has been affected by the impacts of human stress. The CAP can now offer a more holistic approach to understand, understand and engage more impacted people’s communities.\n",
      "The CAP’s approach to how they provide community resources can be used for addressing the challenges that have been brought down upon communities. One could argue that, after decades of efforts under its management and leadership, a CAP has been unable to solve all of its problems adequately. Instead, it is now able to build communities with better understanding of the challenges facing communities. As the CAP’s strategy to provide community resources to their communities has increasingly grown, one should expect the CAP’s strategy to improve across the country’s communities and bring them to more sustainable solutions.en selected.\n",
      "Identify and give structure to a ‘longlist’ of actions\n",
      "Ahead of this stage in the climate action planning process, your city should have developed mitigation and adaptation strategies. These strategies may have given rise to a ‘longlist’ of potential actions. If the strategy process has not gone as far as to formulate a clear long list of actions, this should be the first step in prioritising and defining CAP actions. Timestamp: 15/06/2024 13:48:17\n",
      "Title: IPCC Synthesis Report on Climate Change.\n",
      "Identify and present the proposed new plan and prepare it by submitting it to the COP21 climate assessment stage.\n",
      "The plan would inform policy development and mitigation action plans. This policy action would aim at:\n",
      "Prevent climate change from happening in future years\n",
      "Prevent future climate change from happening in future years\n",
      "Prevent global warming from happening in future years\n",
      "Prevent global warming from happening in future years\n",
      "In general, the plan would have the following objectives in mind:\n",
      "Plan for the development of COP21 on a comprehensive and comprehensive basis.\n",
      "Ensure that every action in the COP21 Climate Assessment requires a strong plan of action from the lead panel.\n",
      "Recommendations for how well CAP action would be taken in response to climate change\n",
      "Confront an effective mechanism for taking action from the lead panel\n",
      "A broad set of policies that reduce the carbon emissions in future years\n",
      "Provide comprehensive and coordinated tools, including information and information tools for reducing emissions\n",
      "Ensure the adoption and implementation of CAP action by a lead panel\n",
      "A unified strategy for planning a detailed and detailed CAP action plan\n",
      "A global action plan to prepare key actions in order to protect the planet from the climate change of the future.\n",
      "Recommendations on how to implement specific CAP actions\n",
      "Strengthen public debate over climate change and the issue of human habitability.\n",
      "Identify and present the proposed new plan and prepare it by submitting it to the COP21 climate assessment stage\n",
      "If the plan had not gone as far as to formulate a clear long list of actions, this should be the first step in prioritising and defining CAP actions. This plan would inform policy development and mitigation action plans. This plan would aim at:\n",
      "Prevent climate change from happening in future years\n",
      "Prevent climate change from happening in future years\n",
      "Prevent global warming from happening in future years\n",
      "Prevent global warming from happening in future years\n",
      "Prevent global warming from happening in future years\n",
      " 2023 (AR6)\n",
      "Content: There are multiple, feasible and effective options to reduce greenhouse gas emissions and adapt to human-caused climate change, and they are available now, as outlined in the latest Intergovernmental Panel on Climate Change (IPCC) report.\n",
      "More than half of the world’s population lives in cities. They are home to most of our built assets, economic activity and greenhouse gas emissions. Ambitious action by cities is critical, therefore, to respond to the climate emergency. Cities can use   the capacity to effectively address all its environmental challenges, such as climate change‪ but those challenges may not be accomplished through more effective actions based on more robust economic and environmental management programs.\n",
      "To address each of these challenges, the United States will need a host of new and innovative strategies to reduce greenhouse gas emissions and mitigate human-caused greenhouse gas emissions.\n",
      "To meet these goals, the United States would need at least 10 different regional, provincial, and individual states to meet such goals.\n",
      "For example, we have set out five priorities for a country to be a model for the development of sustainable solutions for the developing world, including the deployment of renewable energy technologies that can offset our emissions.\n",
      "One strategy would focus on ensuring that sustainable development can take priority and provide sustainable means for building a sustainable, resilient, resilient, sustainable community with its citizens.\n",
      "The other strategy would focus on achieving this goal by leveraging new, innovative, cost-effective, and environmentally resilient solutions to achieve the country‏ of increasing greenhouse gas emissions.\n",
      "Each plan has the potential to accelerate climate change by increasing production levels, increasing the intensity of emissions and allowing for more affordable energy consumption.\n",
      "In the United States, these goals would account for over 85% of total global greenhouse gas emissions.\n",
      "Since the United States has a great variety of low energy systems, these strategies would complement current and emerging technologies.\n",
      "One strategy would focus on ensuring that sustainable development can take priority and provided sustainable means for building a sustainable, resilient, resilient community with its citizens.\n",
      "Another strategy would help to develop, mitigate, and create sustainable, resilient communities through the use of smart and effective technologies that can mitigate our emissions.\n",
      "The United States currently accounts for at least 80% of global greenhouse gas emissions.\n",
      "The United States is currently responsible for about two thirds of global greenhouse gas emissions.\n",
      "Of those countries, we have a unique opportunity to make progress as a result of having our carbon footprint reduced by 5% over the past fivethe Climate Action Planning Guide to develop effective climate action plans.\n",
      "The report brings into sharp focus the losses and damages the world is already experiencing and will continue to experience into the future, hitting the most vulnerable people and ecosystems especially hard. Taking the right action now could result in the transformational change essential for a sustainable, equitable world.\n",
      "The solution lies in climate resilient development. This involves integrating measures to adapt to climate chasms, reducing the intensity of climate change, and taking the proper steps to prevent such catastrophes. These mechanisms will be used to better control and control the impact of extreme events of rising sea level rise.\n",
      "The Global Climate Action Plan is for a public-private partnership of experts and organizations committed to providing the public and international public with a new set of new climate action actions on climate risk and impact. This will be made possible by using the latest climate action solutions to enhance their public and international engagement.\n",
      "Developing effective, sustainable, and sustainable planning strategies will take many diverse and innovative approaches, which will make it the next generation of new economic and social technologies. The Global Climate Action Plan takes into account both the individual and individual effects of climate change and does not have the potential to create a sustainable (and sustainable) global economy.\n",
      "The climate action plan is committed to the sustainable, sustainable, inclusive and sustainable solutions of an energy recovery strategy.\n",
      "The Global Climate Action Plan is funded by the UK Bank of Wales to support projects and organizations with funding from the State of the Union to enhance the investment and development of renewable energy by furthering UK technology, services and development capabilities, including a number of climate action plan proposals.ange with actions to reduce or avoid greenhouse gas (GHG) emissions in ways that provide wider benefits. Climate resilient development becomes progressively more challenging with every increment of warming. This is why the choices cities and national governments make in the next few years will play a critical role in deciding our future and that of generations to come.\n",
      "The below headline statements are the overarching conclusions from the report’s Summary for Policymakers:\n",
      "A. Current status and trends\n",
      "A.1. ices of greenhouse gas emission from global warming are projected to be substantially more potent than that of carbon dioxide or other greenhouse gases. We are currently under the leadership of the UN Climate Change Initiative and the National Climatic Data Administration to forecast future future risks and challenges in increasing future emissions and global warming. As we approach future temperature increases we are making them more and more difficult for countries to respond to new challenges.\n",
      "C.1. ices of greenhouse gas emission from global warming are expected to be substantially more powerful than that of carbon dioxide or other greenhouse gases. We are currently under the leadership of the UN Climate Change Initiative and the National Climatic Data Administration to forecast future risks and challenges in increasing future emissions and global warming. As we approach future temperature increases we are making them more and more difficult for countries to respond to new challenges.\n",
      "C.2. ices of greenhouse gas emission from global warming are projected to be substantially more powerful than that of carbon dioxide or other greenhouse gases. We are currently under the leadership of the UN Climate Change Initiative and the National Climatic Data Administration to forecast future risks and challenges in increasing future emissions and global warming. As we approach future temperature increases we are making them more and more difficult for countries to respond to new challenges.\n",
      "C.3. ices of greenhouse gas emission from global warming are expected to be significantly more powerful than that of carbon dioxide or other greenhouse gases. We are currently under the leadership of the UN Climate Change Initiative and the National Climatic Data Administration to forecast future risks and challenges in increasing future emissions and global warming. As we approach future temperature increases we are making them more and more difficult for countries to respond to new challenges.\n",
      "C.4. ices of greenhouse gas emission from global warming are projected to be substantially more powerful than that of carbon dioxide or other greenhouse gases. We are currently under the leadership of the UN Climate Change Initiative and the National Climatic Data Administration to forecast future risks and challenges in increasing future emissions and global warming. As we approach future temperature increases we are making them moreObserved warming and its causes\n",
      "Human activities, principally through emissions of greenhouse gases, have unequivocally caused global warming, with global surface temperature reaching 1.1°C above 1850-1900 in 2011-2020. Global greenhouse gas emissions have continued to increase, with unequal historical and ongoing contributions arising from unsustainable energy use, land use and land-use change, lifestyles and patterns of consumption and production across regions, between and within countries, and among inde (1,0,039), and in urban, urban, urban, and mountainous areas. Human activities that are likely to exacerbate climate change are expected to cause long-term consequences for these societies. The human impact of human activity, particularly the production of energy, is likely to cause the human effects of climate change. The mechanisms contributing to global warming may be summarized in this review. However, there is a direct association between greenhouse gases and carbon dioxide emissions.\n",
      "\n",
      "Policies and recommendations for policy, and impacts such as climate action, may be adopted by governments, and it is common to have, to a limited extent, established policies, and policies that address climate change (1,039,15). Recent research indicates that policies that address global warming (2) may have little or no impact on climate change. Therefore, in many areas, such as energy production, the relationship between greenhouse gas emission and carbon dioxide emissions can vary significantly between countries and different countries. In each report, the United Nations Framework Convention on Climate Change (UNFCCC) provides some general recommendations for climate-change policy, with an emphasis on human and non-environmental policy recommendations (4,5,6). The United States, the Netherlands, and other countries, such as China, have followed the framework with several policies and strategies. Most countries do not follow these policies, especially in their climate policy approach because of the complex nature of their own climate system.\n",
      "The primary aim of the UNFCCC is to identify and provide the public tools that will help guide policy implementation and reduce global greenhouse gas emissions by reducing human action and mitigation. The report, based on five major national organizations, identifies the major national, global, and regional trends in greenhouse gas emissions, including changes occurring between 2005 and 2016. The authors conclude that the UNFCCC, led by the University of California, Irvine, must follow these major trends and focus on mitigating and mitigating carbon emissions by increasing consumption and consumption of energy.\n",
      "Estimates of human and non-environmental greenhouse gas emissions\n",
      "Based on international standards and data collectedividuals.\n",
      "A.2. Observed changes and impacts\n",
      "Widespread and rapid changes in the atmosphere, ocean, cryosphere and biosphere have occurred. Human-caused climate change is already affecting many weather and climate extremes in every region across the globe. This has led to widespread adverse impacts and related losses and damages to nature and people. Vulnerable communities who have historically contributed the least to current climate change are disproportionately affected.\n",
      "A.3. Current progress in adaptatio-temperature data\n",
      "An increasing number of scientists have applied scientific methods to understand the impacts of climate change. This includes modeling, modeling, and comparison of the known temperature variations of the planet's natural and planetary climate systems.\n",
      "A.4. Controlling climate change with current climate changes\n",
      "Climate change has also been influencing the development of food production, industrialization, and other human-caused goods and services. Currently the development is not yet completed due to additional constraints on the natural and other forms of food production, as well as environmental impacts. In response to the effects of global warming worldwide, experts and scientists for over a decade have taken the initiative and studied current climate-change effects in the global economy. We do not expect a complete study of global warming to continue from now on.\n",
      "\"In the next 90 years\" explains John Wojcicki, director of the Department of Food and Agricultural Policy at UC Santa Barbara. \"While global warming impacts will continue and evolve over time, the current trends indicate significant reductions in agricultural production. By the end of the century, global emissions would be higher compared to preindustrial periods of low levels of greenhouse gases and rising global temperature,\" he adds.\n",
      "Global temperature is a major contributor of rising human-caused carbon dioxide emissions. A global temperature rising and increasing greenhouse gas emission will increase the temperature at which the atmosphere is projected to fall. But other factors contribute, and thus some of its effects will increase as well. As a result, the future of humans might be subject to more of the greenhouse gases that can be emitted throughout the entire planet.\n",
      "Another factor that remains unknown is that human-caused greenhouse gases are causing more harm than good. For example, with a rising carbon dioxide concentration, we expect that the impact of human-caused greenhouse gases will increase. By 2023, this will mean that \"the natural and external\" emissions of greenhouse gases will increase, as well as to higher levels of greenhouse gases. This will result in a reduction in the global population by over halfn and gaps and challenges Aim to strike a balance between collecting sufficient information and having enough indicators to allow for the prioritisation, decision-making and monitoring needed to ensure the city is meeting its climate goals, and placing too heavy a burden on departments. Asking for too much or excessively complex information, especially in the first year of adopting climate budgeting, may discourage departments from taking part. Oversimplifying is better than overcomplicating, especially in ills and poor financial performance.\n",
      "\n",
      "\n",
      "\n",
      "It's a good start. When the council announced the first budget in February last year, the city's budget had risen above £11.1bn in the financial years. The gap became even bigger with that increase for two months.\n",
      "The City Council was clearly the only country to be in fiscal turmoil for three months in the last four years, after it announced that the city would have no budget after the end of 2012. The financial crisis in 2011 was also one of the worst recession in Australia in more than half a decade.\n",
      "It wasn't just economic and political, it was political, policy and management.\n",
      "The city's budget over the last five years now sits at one of the worst in the world, which includes most of Australia's two biggest economy and is well positioned to challenge the country's government's fiscal-cluttering.\n",
      "The fact that council's top three budget targets are going to go up further in the coming months shows what it must do to tackle the budget deficit from now on.\n",
      "One challenge will be to find and improve our water management system – particularly in this budgeting-based economy where the city has two water systems – rather than putting its resources in a budget that would require investment in infrastructure in order to deal with the cost of running a public infrastructure project.\n",
      "The City Council has asked for more money in the coming months to fund this part of the long-term budget with the $10.1bn to raise it, but this may not have been given to the city in light of the budget shortfall.\n",
      "One of the biggest challenges was creating a system that would reduce the need for long-term capital investment, particularly in the water conservation initiatives. At the time of the budget, just six per cent of council's budget was spent on water conservation. This was not a cost-effective way to get into the water and improve water operations.\n",
      "That's a huge challenge. Water conservation initiatives like the Water Conservation (WCC) are not an essential part of any of these projects at thisthe beginning. Start with as few questions as possible, aim to ensure questions are actionable (that you can do something with the answer), learn from teams’ feedback and experience of working with the revised budget template and adapt the template over time. Often, more questions and indicators can be added as agencies become more familiar with the process.\n",
      "Identify and propose unfunded measures and those that require legislation in the budget template\n",
      "The template should also collect information about mea culpa and ensure there is no ambiguity around a proposal. An individual can come up with any and all necessary information as they know they need to be covered.\n",
      "Identify and provide the following information that will be needed to respond to requests for an estimate of what is required to be done or rejected.\n",
      "Proceed with your estimate of how much you have spent and how much you have spent. Include the following information, such as how much you have spent and how much you have spent on your personal budget, as the amount you have donated to an organization, whether you are involved in work as an organization or with organizations. Keep a close eye on your own salary that you should be able to afford. If not, you may be required to write out your own estimate and put the cost of the tax for other expenses.\n",
      "If you want your information, please email us at support.ac.uk. We would love to hear from you about upcoming expenses, projects and recommendations, and we would love to hear from you about future expenses.\n",
      "The budget template\n",
      "You should take your time to create and submit your proposal, so that the document has a very succinct and concise description of the various expenses you are having your office charge on the budget, as well as all relevant information about each item. This information will be available for analysis, analysis and review online. Please note that this document will not be published by an individual, nor by the government; unless you request more details, please contact us directly.\n",
      "The budget template\n",
      "An estimate of your personal budget (or, if you wish the same, a summary of what you have done, what is being sold or sold) is not an exhaustive plan. It will give you a reasonable idea of what your budget will be going forward and what might be the most optimal and best way to achieve this. The budget template can be a guide to how you should set the budget for yourself.\n",
      "When deciding whether to invest in a new company or for the future, you should plan to ask for some specific information thatsures that departments would like to implement, but which are not yet funded. The unfunded list can become a concrete pipeline of priority measures for which the city can seek or leverage funding. Indeed, the opportunity to find funding for actions a department wishes to implement can be an important incentive to participate in the process. Similarly, many sectoral climate actions require legislation in place of or in addition to funding. The revised budget template can be a vehicle for collecting informatiability.\n",
      "\n",
      "\n",
      "\n",
      "‏\n",
      "For more of your work, visit the Department of Public Works.on from departments about required legislation (city, state, national or regional level). Many of the climate measures identified in Oslo’s climate budget, for example, are of a regulatory nature.\n",
      "Publish the list of unfunded measures and those requiring legislation as part of the climate budget. This can help to clarify and highlight funding and legislative needs to other stakeholders and support transparency and accountability.\n",
      "Use the information to prioritise measures for the climate budget\n",
      "Based on annum and the number of times the Copenhagen Agreement or Paris Agreement is ratified, the government should have final say on the amount of funding that can be allocated to the climate budget.ual budget priorities, cities should develop a prioritisation matrix to assess the proposals holistically and objectively. Many cities lack funding for climate action and must make hard choices. A compiled list of all proposals will allow a selection that delivers on strategic priorities. It will also be a transparent process, where decision-makers are aware of which proposals are unfunded. Some of these may receive funding at a later stage, possibly in the budget revision, or be revisited in the next budge. Local governments may also apply for changes to public infrastructure funding as well as to support local government funding projects.\n",
      "\n",
      "\n",
      "\n",
      "Achieving Sustainable Climate Change by Supporting Local Government Goals\n",
      "\n",
      "The Global Climate Change Data Center uses an existing Global Climate Research Network (GCC) that monitors over 90 major countries on an annual scale (by definition for global global climate change) to guide, report, and communicate with the global public about its role. The key role was to inform policy areas, and promote effective policy, while also addressing the challenges faced between developing and changing governments.\n",
      "The Global Climate Change Data Center's Global Climate Data Center is open for discussion and debate. There is a website for online discussion that gives information about the challenges and outcomes associated with climate change. For further information, see: http://climatechangedatacenter.org\n",
      "Share this: Print\n",
      "\n",
      "\n",
      "\n",
      "\n",
      "\n",
      "\n",
      "\n",
      "\n",
      "\n",
      "\n",
      "\n",
      "\n",
      "\n",
      "\n",
      "\n",
      "\n",
      "\n",
      "\n",
      "\n",
      "\n",
      "\n",
      "\n",
      "\n",
      "\n",
      "\n",
      "\n",
      "\n",
      "\n",
      "\n",
      "\n",
      "\n",
      "\n",
      "\n",
      "\n",
      "\n",
      "\n",
      "\n",
      "\n",
      "\n",
      "\n",
      "\n",
      "\n",
      "\n",
      "\n",
      "\n",
      "\n",
      "\n",
      "\n",
      "\n",
      "\n",
      "\n",
      "\n",
      "\n",
      "\n",
      "\n",
      "\n",
      "\n",
      "\n",
      "\n",
      "\n",
      "\n",
      "\n",
      "\n",
      "\n",
      "\n",
      "\n",
      "\n",
      "\n",
      "\n",
      "\n",
      "\n",
      "\n",
      "\n",
      "\n",
      "\n",
      "\n",
      "\n",
      "\n",
      "\n",
      "\n",
      "\n",
      "\n",
      "\n",
      "\n",
      "\n",
      "\n",
      "\n",
      "\n",
      "\n",
      "\n",
      "\n",
      "\n",
      "\n",
      "\n",
      "\n",
      "\n",
      "\n",
      "\n",
      "\n",
      "\n",
      "\n",
      "\n",
      "\n",
      "\n",
      "\n",
      "\n",
      "\n",
      "\n",
      "\n",
      "\n",
      "\n",
      "\n",
      "\n",
      "\n",
      "\n",
      "\n",
      "\n",
      "\n",
      "\n",
      "\n",
      "\n",
      "\n",
      "\n",
      "\n",
      "\n",
      "\n",
      "\n",
      "\n",
      "\n",
      "\n",
      "\n",
      "\n",
      "\n",
      "\n",
      "\n",
      "\n",
      "\n",
      "\n",
      "\n",
      "\n",
      "\n",
      "\n",
      "\n",
      "\n",
      "\n",
      "\n",
      "\n",
      "\n",
      "\n",
      "\n",
      "\n",
      "\n",
      "\n",
      "\n",
      "\n",
      "\n",
      "t year.\n",
      "Integrate climate reporting into ordinary budget MER procedures, including grant/allocation letters and budget reporting instructions Plan Compilation\n",
      "Total Articles : 1\n",
      "The final step in the process of developing a climate action plan is writing it. This outlines best practices for designing, writing and launching a CAP that effectively communicates the city’s commitment to climate action, the strategies and actions the city will employ, and the evidence that underpins them.\n",
      "\n",
      "Monitoring, Evaluation and Implementation\n",
      "These processes, and recommendations will have to be taken into consideration when looking to identify the biggest challenges the city faces. and Reporting\n",
      "Total Articles : 1\n",
      "Monitoring, evaluating and reporting (MER) enables the city to track the CAP’s implementation and impact, demonstrating the value of actions taken and allowing the city to make informed adjustments – maximising the success of its implementation. Finance: To stay below 1.5°C, we can expect the level of investment to be orders of magnitude greater than previously thought. In the energy sector alone, it is estimated that we will need an investment of US$2.4 trillion annually bt, or nearly ten times the global GDP. In the energy sector alone, I expect the level of investment to be orders of magnitude greater than previously thought. In the energy sector alone, it is estimated that we will need an investment of US$2.4 trillion annually bt, or nearly ten times the global GDP. In the energy sector alone, I expect the level of investment to be orders of magnitude greater than previously thought.\n",
      "Actions and Investment\n",
      "In addition, we expect to achieve an investment of US$2.4 trillion annually\n",
      "Actions and Investment\n",
      "In addition, we expect to achieve an investment of US$2.4 trillion annually The capital and tax burden (SFR) will decrease by 1.0% each year.\n",
      "Actions and Investment\n",
      "In addition, we expect to achieve an investment of US$2.4 trillion annually The capital and tax burden (SFR) will decrease by 1.0% each year. Actions and Investment\n",
      "As always, to meet all applicable regulatory requirements, the City should meet all applicable regulatory requirements by 2015 or the rest of the year.\n",
      "This report considers the benefits of an investment of US$20 billion or more.\n",
      "As always, to meet all applicable regulatory requirements, the City should meet all applicable regulatory requirements by 2015 or the rest of the year.\n",
      "An Overview of Investment\n",
      "The City receives a significant investment from the International Trade Organization (ITO). It receives an estimated $1.4 trillion in revenue annually, mostly from the world's largest trade entities.\n",
      "In addition, the City collects approximately 40 percent of total international trade revenues from the World Bank. This total is roughly 3.5 times the international GDP and is approximately 3.5 times global GDP. While this is a relatively small fraction of global gross domestic product, it is an important source of investment for all sectors:\n",
      "Transforming infrastructure\n",
      "The City can create or export new infrastructure by leveraging new technology. This has implications for the development of newetween 2016 and 2035 to keep to the target.\n",
      "  Getting to 1.5°C: A call to action\n",
      "The sobering conclusion of the Summary for Urban Policymakers is that we need to pursue aggressive strategies to limit global heating to 1.5°C, while preparing our towns, cities for the climate impacts that are already happening.\n",
      "We have also seen in recent weeks that it is very easy to get climate action wrong. President Macron’s combination of tax cuts for the wealthy, along with fuel duty rises which have disproportionately iced up the rate of growth in urban and rural areas while creating massive environmental risks and exacerbating climate change and increasing pollution.\n",
      "The Paris Agreement has been the target, and the Paris Accord will not do much more to combat climate change. The Paris Agreement, though, would also bring more focus and more attention into the debates over the role of emissions reductions in cities and communities in global warming.effect those on lower incomes, has provoked a strong reaction across France. As a result, climate action is wrongly tainted as being unfair and reducing the social and economic well-being of the majority, while the one percent can afford to carry on polluting.\n",
      "Instead, climate justice and social justice need to go hand and hand. That is why we need inclusive and just climate action that delivers for all citizens in every part of the globe. Without urgent action, continued progress will become incredibly chaotically unsustainable.llenging. In this sense, action on climate change is development.\n",
      "Citizens are increasingly demanding action and changing their own lifestyles. Mayors can take heart from this and engage with communities to drive bigger changes. The Global Climate Action Summit in San Francisco this year showed the huge latent potential for regional government, business and cities to work together, whatever their respective national governments’ levels of ambition.\n",
      "Therefore, 1.5°C is likely to become the most important numbed state of global warming.\n",
      "2.5°C is likely to become the hottest state in the world. It’s expected to be the most significant global temperature rise since the 1970s. The biggest heatwave on record took place in 1990 (by comparison to a similar intensity in the 1990s), more than 20 inches by 2005. If we continue to ignore the need for a more detailed climate data base, some countries would lose much of their already vulnerable ecosystems by 2100. So, consider the implications—and possible ramifications—of the massive heat wave that continues to devastate the entire region.\n",
      "3.1°C will lead to the worst wildfire ever recorded in America. As Climate Change continues to worsen, so too has human and environmental pollution levels. By 2020, temperatures will rise about 5 degrees Celsius (7.5 degrees Fahrenheit) and even 5 degrees Fahrenheit (0.25 degrees Fahrenheit).\n",
      "However, the rise in greenhouse gases such as carbon dioxide (CO2), which can release as much as 2.8 billion tons of carbon dioxide, will become a big driver of the warming trends in the region.\n",
      "4.2°C will lead to the worst loss of over 400,000 lives and millions more lives through the 2100s. That’a devastating loss of over 400,000 lives, and millions of lives through 2010 will cause hundreds of thousands more to suffer significant carbon dioxide emissions. The destruction of a large swath of rural and urban areas will result in millions of deaths, and thousands more deaths.\n",
      "5.2°C alone will lead to the worst loss of over 8,000 people. In addition, these impacts will impact more than 7 million people, from 2.6 to 1.4 million more worldwide, since the 1980s, in most developed countries. This impacts 1.3 times as many as the World Health Organization’s estimates are made.\n",
      "By 2050, more than 1 billion people who may be in need of water and sanitation will lose their homes, cities, villages, communities or livelihoodber in human history.\n",
      "It is already the target adopted by C40, since 2016, as the level of ambition needed to be part of our network. I am looking forward to working with C40 mayors and all our partners in 2019 to redouble our efforts to make this transformation a reality. Give me the top three things to consider when writing my climate action plan.\n",
      "C40: What are your thoughts about the global warming threat?\n",
      "C40: I think we must make it clear on many occasions that there is an urgent urgency to ensure that there is sufficient economic data to show that the international community is acting in an efficient way to address this issue. And, I think this is vital for us to bring the climate agenda together instead of taking the wrong approach.\n",
      "We are in the process of making this change, making the international community less afraid to act. And it is crucial for our governments to be prepared to act on issues that matter, whether they are in particular human rights.\n",
      "C40: One of the things you need to make sure we continue to be vigilant about when it comes to global warming, is the need to make sure that those who are involved and who are trying to act against it don't want to turn over the records and have them destroyed. That can happen by setting the targets for a range of issues.\n",
      "We hope in 2015 that the international community's willingness to act on these issues will be the reason we need government action.\n",
      "C40: What do you think of the Paris climate agreement?\n",
      "C40: The agreement, we are confident it is a victory for the world. We believe that we won't only win a fair deal but we will build on that success as a whole.\n",
      "We are hopeful that we can secure the agreement that is binding on everyone in the body who is in charge of the world's climate policy and we will take that responsibility, which includes us, on the climate change agenda for 2017.\n",
      "C40: What is the long-term long-term future of the global climate agreement and what will be the current set of target-setting priorities for the world's states?\n",
      "C40: It is a long-term goal, but the long term target-setting goals are at the beginning of phase one.\n",
      "On the horizon, we can achieve our goals that we will make clear under the next 10 or 15 years as the goals are established. To achieve that, we must create, plan for, and manage, those commitments that could be achieved at\n"
     ]
    }
   ],
   "source": [
    "# Generate the answer using the context and the question\n",
    "answer = generate_with_huggingface(context, question)\n",
    "\n",
    "print(\"Answer:\", answer)"
   ]
  },
  {
   "cell_type": "markdown",
   "metadata": {},
   "source": [
    "google/flan-t5-large"
   ]
  },
  {
   "cell_type": "code",
   "execution_count": 20,
   "metadata": {},
   "outputs": [],
   "source": [
    "from transformers import T5Tokenizer, T5ForConditionalGeneration\n",
    "\n",
    "# Initialize the tokenizer and model\n",
    "tokenizer = T5Tokenizer.from_pretrained('google/flan-t5-large')\n",
    "model = T5ForConditionalGeneration.from_pretrained('google/flan-t5-large')"
   ]
  },
  {
   "cell_type": "code",
   "execution_count": 25,
   "metadata": {},
   "outputs": [],
   "source": [
    "# Function to generate an answer using the T5 model\n",
    "def generate_with_t5(context, question):\n",
    "    input_text = f\"context: {context} question: {question}\"\n",
    "    inputs = tokenizer(input_text, return_tensors=\"pt\", max_length=512, truncation=True)\n",
    "    \n",
    "    # Generate the output\n",
    "    outputs = model.generate(\n",
    "        inputs.input_ids,\n",
    "        max_length=1000,\n",
    "        min_length=500,\n",
    "        num_beams=5,\n",
    "        early_stopping=True\n",
    "    )\n",
    "    \n",
    "    # Decode the generated text\n",
    "    answer = tokenizer.decode(outputs[0], skip_special_tokens=True)\n",
    "    return answer"
   ]
  },
  {
   "cell_type": "code",
   "execution_count": 26,
   "metadata": {},
   "outputs": [],
   "source": [
    "# Define the context and question\n",
    "question = \"Give me the top three things to consider when writing my climate action plan.\"\n"
   ]
  },
  {
   "cell_type": "code",
   "execution_count": 27,
   "metadata": {},
   "outputs": [
    {
     "name": "stdout",
     "output_type": "stream",
     "text": [
      "Answer: How to select, prioritise and define actions for your city’s climate action plan - Cities Climate Transition Guide - Greenhouse Gases and Climate Change - Greenhouse Gases and Climate Change - Greenhouse Gases and Climate Change - Greenhouse Gases and Climate Change - Greenhouse Gases and Climate Change - Greenhouse Gases and Climate Change - Greenhouse Gases and Climate Change - Greenhouse Gases and Climate Change - Greenhouse Gases and Climate Change - Greenhouse Gases and Climate Change - Greenhouse Gases and Climate Change - Greenhouse Gases and Climate Change - Greenhouse Gases and Climate Change - Greenhouse Gases and Climate Change - Greenhouse Gases and Climate Change - Greenhouse Gases and Climate Change - Greenhouse Gases and Climate Change - Greenhouse Gases and Climate Change - Greenhouse Gases and Climate Change - Greenhouse Gases and Climate Change - Greenhouse Gases and Climate Change - Greenhouse Gases and Climate Change - Greenhouse Gases and Climate Change - Greenhouse Gases and Climate Change - Greenhouse Gases and Climate Change - Greenhouse Gases and Climate Change - Greenhouse Gases and Climate Change - Greenhouse Gases and Climate Change - Greenhouse Gases and Climate Change - Greenhouse Gases and Climate Change - Greenhouse Gases and Climate Change - Greenhouse Gases and Climate Change - Greenhouse Gases and Climate Change - Greenhouse Gases and Climate Change - Greenhouse Gases and Climate Change - Greenhouse Gases and Climate Change - Greenhouse Gases and Climate Change - Greenhouse Gases and Climate Change - Greenhouse Gases and Climate Change - Greenhouse Gases and Climate Change - Greenhouse Gases and Climate Change - Greenhouse Gases and Climate Change - Greenhouse Gases and Climate Change - Greenhouse Gases and Climate Change - Greenhouse Gases and Climate Change - Greenhouse Gases and Climate Change - Greenhouse Gases and Climate Change - Greenhouse Gases and Climate Change\n"
     ]
    }
   ],
   "source": [
    "# Generate the answer using the context and the question\n",
    "answer = generate_with_t5(context, question)\n",
    "\n",
    "print(\"Answer:\", answer)"
   ]
  },
  {
   "cell_type": "markdown",
   "metadata": {},
   "source": [
    "BERT"
   ]
  },
  {
   "cell_type": "code",
   "execution_count": 51,
   "metadata": {},
   "outputs": [
    {
     "name": "stderr",
     "output_type": "stream",
     "text": [
      "/Library/Frameworks/Python.framework/Versions/3.11/lib/python3.11/site-packages/huggingface_hub/file_download.py:1132: FutureWarning: `resume_download` is deprecated and will be removed in version 1.0.0. Downloads always resume when possible. If you want to force a new download, use `force_download=True`.\n",
      "  warnings.warn(\n"
     ]
    }
   ],
   "source": [
    "# Initialize the Hugging Face question-answering pipeline\n",
    "qa_pipeline = pipeline(\"question-answering\", model=\"bert-large-uncased-whole-word-masking-finetuned-squad\", tokenizer=\"bert-large-uncased-whole-word-masking-finetuned-squad\")\n"
   ]
  },
  {
   "cell_type": "code",
   "execution_count": 52,
   "metadata": {},
   "outputs": [],
   "source": [
    "# Function to generate an answer using the BERT model for question-answering\n",
    "def generate_with_bert(context, question):\n",
    "    result = qa_pipeline(question=question, context=context)\n",
    "    return result['answer']\n"
   ]
  },
  {
   "cell_type": "code",
   "execution_count": 54,
   "metadata": {},
   "outputs": [
    {
     "name": "stderr",
     "output_type": "stream",
     "text": [
      "The tokenizer class you load from this checkpoint is not the same type as the class this function is called from. It may result in unexpected tokenization. \n",
      "The tokenizer class you load from this checkpoint is 'RagTokenizer'. \n",
      "The class this function is called from is 'DPRQuestionEncoderTokenizer'.\n",
      "The tokenizer class you load from this checkpoint is not the same type as the class this function is called from. It may result in unexpected tokenization. \n",
      "The tokenizer class you load from this checkpoint is 'RagTokenizer'. \n",
      "The class this function is called from is 'DPRQuestionEncoderTokenizerFast'.\n",
      "The tokenizer class you load from this checkpoint is not the same type as the class this function is called from. It may result in unexpected tokenization. \n",
      "The tokenizer class you load from this checkpoint is 'RagTokenizer'. \n",
      "The class this function is called from is 'BartTokenizer'.\n",
      "The tokenizer class you load from this checkpoint is not the same type as the class this function is called from. It may result in unexpected tokenization. \n",
      "The tokenizer class you load from this checkpoint is 'RagTokenizer'. \n",
      "The class this function is called from is 'BartTokenizerFast'.\n"
     ]
    },
    {
     "ename": "ImportError",
     "evalue": "\nRagRetriever requires the 🤗 Datasets library but it was not found in your environment. You can install it with:\n```\npip install datasets\n```\nIn a notebook or a colab, you can install it by executing a cell with\n```\n!pip install datasets\n```\nthen restarting your kernel.\n\nNote that if you have a local folder named `datasets` or a local python file named `datasets.py` in your current\nworking directory, python may try to import this instead of the 🤗 Datasets library. You should rename this folder or\nthat python file if that's the case. Please note that you may need to restart your runtime after installation.\n",
     "output_type": "error",
     "traceback": [
      "\u001b[0;31m---------------------------------------------------------------------------\u001b[0m",
      "\u001b[0;31mImportError\u001b[0m                               Traceback (most recent call last)",
      "Cell \u001b[0;32mIn[54], line 5\u001b[0m\n\u001b[1;32m      3\u001b[0m \u001b[38;5;66;03m# Initialize the tokenizer, retriever, and model\u001b[39;00m\n\u001b[1;32m      4\u001b[0m tokenizer \u001b[38;5;241m=\u001b[39m RagTokenizer\u001b[38;5;241m.\u001b[39mfrom_pretrained(\u001b[38;5;124m\"\u001b[39m\u001b[38;5;124mfacebook/rag-sequence-nq\u001b[39m\u001b[38;5;124m\"\u001b[39m)\n\u001b[0;32m----> 5\u001b[0m retriever \u001b[38;5;241m=\u001b[39m \u001b[43mRagRetriever\u001b[49m\u001b[38;5;241;43m.\u001b[39;49m\u001b[43mfrom_pretrained\u001b[49m\u001b[43m(\u001b[49m\u001b[38;5;124;43m\"\u001b[39;49m\u001b[38;5;124;43mfacebook/rag-sequence-nq\u001b[39;49m\u001b[38;5;124;43m\"\u001b[39;49m\u001b[43m,\u001b[49m\u001b[43m \u001b[49m\u001b[43mindex_name\u001b[49m\u001b[38;5;241;43m=\u001b[39;49m\u001b[38;5;124;43m\"\u001b[39;49m\u001b[38;5;124;43mexact\u001b[39;49m\u001b[38;5;124;43m\"\u001b[39;49m\u001b[43m)\u001b[49m\n\u001b[1;32m      6\u001b[0m model \u001b[38;5;241m=\u001b[39m RagSequenceForGeneration\u001b[38;5;241m.\u001b[39mfrom_pretrained(\u001b[38;5;124m\"\u001b[39m\u001b[38;5;124mfacebook/rag-sequence-nq\u001b[39m\u001b[38;5;124m\"\u001b[39m)\n\u001b[1;32m      8\u001b[0m \u001b[38;5;66;03m# Function to generate an answer using RAG\u001b[39;00m\n",
      "File \u001b[0;32m/Library/Frameworks/Python.framework/Versions/3.11/lib/python3.11/site-packages/transformers/models/rag/retrieval_rag.py:420\u001b[0m, in \u001b[0;36mRagRetriever.from_pretrained\u001b[0;34m(cls, retriever_name_or_path, indexed_dataset, **kwargs)\u001b[0m\n\u001b[1;32m    418\u001b[0m \u001b[38;5;129m@classmethod\u001b[39m\n\u001b[1;32m    419\u001b[0m \u001b[38;5;28;01mdef\u001b[39;00m \u001b[38;5;21mfrom_pretrained\u001b[39m(\u001b[38;5;28mcls\u001b[39m, retriever_name_or_path, indexed_dataset\u001b[38;5;241m=\u001b[39m\u001b[38;5;28;01mNone\u001b[39;00m, \u001b[38;5;241m*\u001b[39m\u001b[38;5;241m*\u001b[39mkwargs):\n\u001b[0;32m--> 420\u001b[0m     \u001b[43mrequires_backends\u001b[49m\u001b[43m(\u001b[49m\u001b[38;5;28;43mcls\u001b[39;49m\u001b[43m,\u001b[49m\u001b[43m \u001b[49m\u001b[43m[\u001b[49m\u001b[38;5;124;43m\"\u001b[39;49m\u001b[38;5;124;43mdatasets\u001b[39;49m\u001b[38;5;124;43m\"\u001b[39;49m\u001b[43m,\u001b[49m\u001b[43m \u001b[49m\u001b[38;5;124;43m\"\u001b[39;49m\u001b[38;5;124;43mfaiss\u001b[39;49m\u001b[38;5;124;43m\"\u001b[39;49m\u001b[43m]\u001b[49m\u001b[43m)\u001b[49m\n\u001b[1;32m    421\u001b[0m     config \u001b[38;5;241m=\u001b[39m kwargs\u001b[38;5;241m.\u001b[39mpop(\u001b[38;5;124m\"\u001b[39m\u001b[38;5;124mconfig\u001b[39m\u001b[38;5;124m\"\u001b[39m, \u001b[38;5;28;01mNone\u001b[39;00m) \u001b[38;5;129;01mor\u001b[39;00m RagConfig\u001b[38;5;241m.\u001b[39mfrom_pretrained(retriever_name_or_path, \u001b[38;5;241m*\u001b[39m\u001b[38;5;241m*\u001b[39mkwargs)\n\u001b[1;32m    422\u001b[0m     rag_tokenizer \u001b[38;5;241m=\u001b[39m RagTokenizer\u001b[38;5;241m.\u001b[39mfrom_pretrained(retriever_name_or_path, config\u001b[38;5;241m=\u001b[39mconfig)\n",
      "File \u001b[0;32m/Library/Frameworks/Python.framework/Versions/3.11/lib/python3.11/site-packages/transformers/utils/import_utils.py:1012\u001b[0m, in \u001b[0;36mrequires_backends\u001b[0;34m(obj, backends)\u001b[0m\n\u001b[1;32m   1010\u001b[0m failed \u001b[38;5;241m=\u001b[39m [msg\u001b[38;5;241m.\u001b[39mformat(name) \u001b[38;5;28;01mfor\u001b[39;00m available, msg \u001b[38;5;129;01min\u001b[39;00m checks \u001b[38;5;28;01mif\u001b[39;00m \u001b[38;5;129;01mnot\u001b[39;00m available()]\n\u001b[1;32m   1011\u001b[0m \u001b[38;5;28;01mif\u001b[39;00m failed:\n\u001b[0;32m-> 1012\u001b[0m     \u001b[38;5;28;01mraise\u001b[39;00m \u001b[38;5;167;01mImportError\u001b[39;00m(\u001b[38;5;124m\"\u001b[39m\u001b[38;5;124m\"\u001b[39m\u001b[38;5;241m.\u001b[39mjoin(failed))\n",
      "\u001b[0;31mImportError\u001b[0m: \nRagRetriever requires the 🤗 Datasets library but it was not found in your environment. You can install it with:\n```\npip install datasets\n```\nIn a notebook or a colab, you can install it by executing a cell with\n```\n!pip install datasets\n```\nthen restarting your kernel.\n\nNote that if you have a local folder named `datasets` or a local python file named `datasets.py` in your current\nworking directory, python may try to import this instead of the 🤗 Datasets library. You should rename this folder or\nthat python file if that's the case. Please note that you may need to restart your runtime after installation.\n"
     ]
    }
   ],
   "source": [
    "from transformers import RagTokenizer, RagRetriever, RagSequenceForGeneration\n",
    "\n",
    "# Initialize the tokenizer, retriever, and model\n",
    "tokenizer = RagTokenizer.from_pretrained(\"facebook/rag-sequence-nq\")\n",
    "retriever = RagRetriever.from_pretrained(\"facebook/rag-sequence-nq\", index_name=\"exact\")\n",
    "model = RagSequenceForGeneration.from_pretrained(\"facebook/rag-sequence-nq\")\n",
    "\n",
    "# Function to generate an answer using RAG\n",
    "def generate_with_rag(question, context_docs):\n",
    "    # Tokenize the input\n",
    "    inputs = tokenizer(question, return_tensors=\"pt\")\n",
    "    \n",
    "    # Retrieve relevant documents\n",
    "    input_ids = inputs[\"input_ids\"]\n",
    "    question_hidden_states = model.question_encoder(input_ids)[0]\n",
    "    docs_dict = retriever(input_ids.cpu().numpy(), question_hidden_states.cpu().detach().numpy(), return_tensors=\"pt\")\n",
    "    \n",
    "    doc_scores = torch.bmm(question_hidden_states.unsqueeze(1), docs_dict[\"retrieved_doc_embeds\"].transpose(1, 2)).squeeze(1)\n",
    "    retrieved_doc_ids = docs_dict[\"context_input_ids\"]\n",
    "    retrieved_doc_attention_mask = docs_dict[\"context_attention_mask\"]\n",
    "\n",
    "    # Generate the response\n",
    "    outputs = model.generate(\n",
    "        input_ids,\n",
    "        context_input_ids=retrieved_doc_ids,\n",
    "        context_attention_mask=retrieved_doc_attention_mask,\n",
    "        doc_scores=doc_scores,\n",
    "        max_length=200\n",
    "    )\n",
    "\n",
    "    # Decode the generated response\n",
    "    answer = tokenizer.batch_decode(outputs, skip_special_tokens=True)[0]\n",
    "    return answer\n",
    "\n",
    "# Generate the answer using the context and the question\n",
    "answer = generate_with_rag(question, context)\n",
    "\n",
    "print(\"Answer:\", answer)"
   ]
  },
  {
   "cell_type": "markdown",
   "metadata": {},
   "source": [
    "facebook/rag-token-base"
   ]
  },
  {
   "cell_type": "code",
   "execution_count": 21,
   "metadata": {},
   "outputs": [
    {
     "name": "stdout",
     "output_type": "stream",
     "text": [
      "Input Text:\n",
      "Generate a summary based on the top three considerations for writing a climate action plan: Timestamp: 14/06/2024 19:50:18\n",
      "Title: How to prioritise actions for your climate action plan\n",
      "Content: At the heart of a city’s climate action plan (CAP) is a set of actions that have been selected, prioritised and defined to ensure that the vision, goals and targets of the plan can be achieved. There is no one correct set of actions for achieving your city’s climate change goals. Ultimately, the actions in your plan need to be underpinned by high ambition, a strong evidence base, robust engagement and governance structures. They should have in-built flexibility to allow the city to learn from successes and failures and to adapt the approach over time.\n",
      "Our CAP guide will be updated shortly in line with the Cities Climate Transition Framework, released in December 2023.\n",
      "There are many ways to develop a set of actions for your city’s CAP. Whether your city is developing its first CAP, or consolidating or strengthening existing plans, this article offers guidance on the process of selecting, prioritising and defining those actions. We outline the main factors for your city’s climate action planning team – which should lead this process – to consider, and highlight resources that can be used to support the process.\n",
      "What is a climate action?\n",
      "A climate action is any activity your city commits to implementing to achieve its vision and strategies for adapting to climate change and reducing emissions. Actions include any policy, project, programme, strategy, partnership, investment or infrastructure that leads to emission reduction and climate resilience. They can be at any size, scale or stage of implementation, from concept to implementation and monitoring, and have a variety of origins. For example, actions may be new, pre-existing from earlier or connected city plans, or non-negotiable under legislation or binding commitments. They may contribute directly to the city’s adaptation and emission reduction outcomes, such as actions to move to renewable energy or the widespread use of public transport. Or they may be enabling actions that strengthen or facilitate other aspects of a CAP, for example, by building capacity, demonstrating leadership, strengthening the evidence base, enhancing governance or seeking finance.\n",
      "Together, these actions should present a clear, coherent and robust approach to meeting your city’s climate change vision, goals and targets; an adaptation-related example of how these elements connect is shown below. The resulting CAP should include a clear narrative that explains why the set of actions has been selected.\n",
      "Identify and give structure to a ‘longlist’ of actions\n",
      "Ahead of this stage in the climate action planning process, your city should have developed mitigation and adaptation strategies. These strategies may have given rise to a ‘longlist’ of potential actions. If the strategy process has not gone as far as to formulate a clear long list of actions, this should be the first step in prioritising and defining CAP actions. Timestamp: 15/06/2024 13:48:17\n",
      "Title: IPCC Synthesis Report on Climate Change 2023 (AR6)\n",
      "Content: There are multiple, feasible and effective options to reduce greenhouse gas emissions and adapt to human-caused climate change, and they are available now, as outlined in the latest Intergovernmental Panel on Climate Change (IPCC) report.\n",
      "More than half of the world’s population lives in cities. They are home to most of our built assets, economic activity and greenhouse gas emissions. Ambitious action by cities is critical, therefore, to respond to the climate emergency. Cities can use the Climate Action Planning Guide to develop effective climate action plans.\n",
      "The report brings into sharp focus the losses and damages the world is already experiencing and will continue to experience into the future, hitting the most vulnerable people and ecosystems especially hard. Taking the right action now could result in the transformational change essential for a sustainable, equitable world.\n",
      "The solution lies in climate resilient development. This involves integrating measures to adapt to climate change with actions to reduce or avoid greenhouse gas (GHG) emissions in ways that provide wider benefits. Climate resilient development becomes progressively more challenging with every increment of warming. This is why the choices cities and national governments make in the next few years will play a critical role in deciding our future and that of generations to come.\n",
      "The below headline statements are the overarching conclusions from the report’s Summary for Policymakers:\n",
      "A. Current status and trends\n",
      "A.1. Observed warming and its causes\n",
      "Human activities, principally through emissions of greenhouse gases, have unequivocally caused global warming, with global surface temperature reaching 1.1°C above 1850-1900 in 2011-2020. Global greenhouse gas emissions have continued to increase, with unequal historical and ongoing contributions arising from unsustainable energy use, land use and land-use change, lifestyles and patterns of consumption and production across regions, between and within countries, and among individuals.\n",
      "A.2. Observed changes and impacts\n",
      "Widespread and rapid changes in the atmosphere, ocean, cryosphere and biosphere have occurred. Human-caused climate change is already affecting many weather and climate extremes in every region across the globe. This has led to widespread adverse impacts and related losses and damages to nature and people. Vulnerable communities who have historically contributed the least to current climate change are disproportionately affected.\n",
      "A.3. Current progress in adaptation and gaps and challenges Aim to strike a balance between collecting sufficient information and having enough indicators to allow for the prioritisation, decision-making and monitoring needed to ensure the city is meeting its climate goals, and placing too heavy a burden on departments. Asking for too much or excessively complex information, especially in the first year of adopting climate budgeting, may discourage departments from taking part. Oversimplifying is better than overcomplicating, especially in the beginning. Start with as few questions as possible, aim to ensure questions are actionable (that you can do something with the answer), learn from teams’ feedback and experience of working with the revised budget template and adapt the template over time. Often, more questions and indicators can be added as agencies become more familiar with the process.\n",
      "Identify and propose unfunded measures and those that require legislation in the budget template\n",
      "The template should also collect information about measures that departments would like to implement, but which are not yet funded. The unfunded list can become a concrete pipeline of priority measures for which the city can seek or leverage funding. Indeed, the opportunity to find funding for actions a department wishes to implement can be an important incentive to participate in the process. Similarly, many sectoral climate actions require legislation in place of or in addition to funding. The revised budget template can be a vehicle for collecting information from departments about required legislation (city, state, national or regional level). Many of the climate measures identified in Oslo’s climate budget, for example, are of a regulatory nature.\n",
      "Publish the list of unfunded measures and those requiring legislation as part of the climate budget. This can help to clarify and highlight funding and legislative needs to other stakeholders and support transparency and accountability.\n",
      "Use the information to prioritise measures for the climate budget\n",
      "Based on annual budget priorities, cities should develop a prioritisation matrix to assess the proposals holistically and objectively. Many cities lack funding for climate action and must make hard choices. A compiled list of all proposals will allow a selection that delivers on strategic priorities. It will also be a transparent process, where decision-makers are aware of which proposals are unfunded. Some of these may receive funding at a later stage, possibly in the budget revision, or be revisited in the next budget year.\n",
      "Integrate climate reporting into ordinary budget MER procedures, including grant/allocation letters and budget reporting instructions Plan Compilation\n",
      "Total Articles : 1\n",
      "The final step in the process of developing a climate action plan is writing it. This outlines best practices for designing, writing and launching a CAP that effectively communicates the city’s commitment to climate action, the strategies and actions the city will employ, and the evidence that underpins them.\n",
      "\n",
      "Monitoring, Evaluation and Reporting\n",
      "Total Articles : 1\n",
      "Monitoring, evaluating and reporting (MER) enables the city to track the CAP’s implementation and impact, demonstrating the value of actions taken and allowing the city to make informed adjustments – maximising the success of its implementation. Finance: To stay below 1.5°C, we can expect the level of investment to be orders of magnitude greater than previously thought. In the energy sector alone, it is estimated that we will need an investment of US$2.4 trillion annually between 2016 and 2035 to keep to the target.\n",
      "  Getting to 1.5°C: A call to action\n",
      "The sobering conclusion of the Summary for Urban Policymakers is that we need to pursue aggressive strategies to limit global heating to 1.5°C, while preparing our towns, cities for the climate impacts that are already happening.\n",
      "We have also seen in recent weeks that it is very easy to get climate action wrong. President Macron’s combination of tax cuts for the wealthy, along with fuel duty rises which have disproportionately effect those on lower incomes, has provoked a strong reaction across France. As a result, climate action is wrongly tainted as being unfair and reducing the social and economic well-being of the majority, while the one percent can afford to carry on polluting.\n",
      "Instead, climate justice and social justice need to go hand and hand. That is why we need inclusive and just climate action that delivers for all citizens in every part of the globe. Without urgent action, continued progress will become incredibly challenging. In this sense, action on climate change is development.\n",
      "Citizens are increasingly demanding action and changing their own lifestyles. Mayors can take heart from this and engage with communities to drive bigger changes. The Global Climate Action Summit in San Francisco this year showed the huge latent potential for regional government, business and cities to work together, whatever their respective national governments’ levels of ambition.\n",
      "Therefore, 1.5°C is likely to become the most important number in human history.\n",
      "It is already the target adopted by C40, since 2016, as the level of ambition needed to be part of our network. I am looking forward to working with C40 mayors and all our partners in 2019 to redouble our efforts to make this transformation a reality.\n"
     ]
    }
   ],
   "source": [
    "from transformers import pipeline\n",
    "\n",
    "# Example prompt for RAG generation\n",
    "prompt = \"Generate a summary based on the top three considerations for writing a climate action plan:\"\n",
    "\n",
    "# Combine prompt and retrieved context\n",
    "input_text = f\"{prompt} {context}\"\n",
    "\n",
    "print(\"Input Text:\")\n",
    "print(input_text)\n",
    "\n"
   ]
  },
  {
   "cell_type": "code",
   "execution_count": 23,
   "metadata": {},
   "outputs": [
    {
     "name": "stderr",
     "output_type": "stream",
     "text": [
      "Token indices sequence length is longer than the specified maximum sequence length for this model (2137 > 2048). Running this sequence through the model will result in indexing errors\n",
      "Setting `pad_token_id` to `eos_token_id`:50256 for open-end generation.\n",
      "Input length of input_ids is 2137, but `max_length` is set to 100. This can lead to unexpected behavior. You should consider increasing `max_new_tokens`.\n"
     ]
    },
    {
     "ename": "IndexError",
     "evalue": "index out of range in self",
     "output_type": "error",
     "traceback": [
      "\u001b[0;31m---------------------------------------------------------------------------\u001b[0m",
      "\u001b[0;31mIndexError\u001b[0m                                Traceback (most recent call last)",
      "Cell \u001b[0;32mIn[23], line 5\u001b[0m\n\u001b[1;32m      2\u001b[0m generator \u001b[38;5;241m=\u001b[39m pipeline(\u001b[38;5;124m\"\u001b[39m\u001b[38;5;124mtext-generation\u001b[39m\u001b[38;5;124m\"\u001b[39m, model\u001b[38;5;241m=\u001b[39m\u001b[38;5;124m\"\u001b[39m\u001b[38;5;124mEleutherAI/gpt-neo-2.7B\u001b[39m\u001b[38;5;124m\"\u001b[39m)\n\u001b[1;32m      4\u001b[0m \u001b[38;5;66;03m# Generate text using RAG\u001b[39;00m\n\u001b[0;32m----> 5\u001b[0m generated_text \u001b[38;5;241m=\u001b[39m \u001b[43mgenerator\u001b[49m\u001b[43m(\u001b[49m\u001b[43minput_text\u001b[49m\u001b[43m,\u001b[49m\u001b[43m \u001b[49m\u001b[43mmax_length\u001b[49m\u001b[38;5;241;43m=\u001b[39;49m\u001b[38;5;241;43m100\u001b[39;49m\u001b[43m,\u001b[49m\u001b[43m \u001b[49m\u001b[43mnum_return_sequences\u001b[49m\u001b[38;5;241;43m=\u001b[39;49m\u001b[38;5;241;43m1\u001b[39;49m\u001b[43m)\u001b[49m[\u001b[38;5;241m0\u001b[39m][\u001b[38;5;124m'\u001b[39m\u001b[38;5;124mgenerated_text\u001b[39m\u001b[38;5;124m'\u001b[39m]\n\u001b[1;32m      7\u001b[0m \u001b[38;5;28mprint\u001b[39m(\u001b[38;5;124m\"\u001b[39m\u001b[38;5;124mGenerated Text:\u001b[39m\u001b[38;5;124m\"\u001b[39m)\n\u001b[1;32m      8\u001b[0m \u001b[38;5;28mprint\u001b[39m(generated_text)\n",
      "File \u001b[0;32m/Library/Frameworks/Python.framework/Versions/3.11/lib/python3.11/site-packages/transformers/pipelines/text_generation.py:201\u001b[0m, in \u001b[0;36mTextGenerationPipeline.__call__\u001b[0;34m(self, text_inputs, **kwargs)\u001b[0m\n\u001b[1;32m    160\u001b[0m \u001b[38;5;28;01mdef\u001b[39;00m \u001b[38;5;21m__call__\u001b[39m(\u001b[38;5;28mself\u001b[39m, text_inputs, \u001b[38;5;241m*\u001b[39m\u001b[38;5;241m*\u001b[39mkwargs):\n\u001b[1;32m    161\u001b[0m \u001b[38;5;250m    \u001b[39m\u001b[38;5;124;03m\"\"\"\u001b[39;00m\n\u001b[1;32m    162\u001b[0m \u001b[38;5;124;03m    Complete the prompt(s) given as inputs.\u001b[39;00m\n\u001b[1;32m    163\u001b[0m \n\u001b[0;32m   (...)\u001b[0m\n\u001b[1;32m    199\u001b[0m \u001b[38;5;124;03m          ids of the generated text.\u001b[39;00m\n\u001b[1;32m    200\u001b[0m \u001b[38;5;124;03m    \"\"\"\u001b[39;00m\n\u001b[0;32m--> 201\u001b[0m     \u001b[38;5;28;01mreturn\u001b[39;00m \u001b[38;5;28;43msuper\u001b[39;49m\u001b[43m(\u001b[49m\u001b[43m)\u001b[49m\u001b[38;5;241;43m.\u001b[39;49m\u001b[38;5;21;43m__call__\u001b[39;49m\u001b[43m(\u001b[49m\u001b[43mtext_inputs\u001b[49m\u001b[43m,\u001b[49m\u001b[43m \u001b[49m\u001b[38;5;241;43m*\u001b[39;49m\u001b[38;5;241;43m*\u001b[39;49m\u001b[43mkwargs\u001b[49m\u001b[43m)\u001b[49m\n",
      "File \u001b[0;32m/Library/Frameworks/Python.framework/Versions/3.11/lib/python3.11/site-packages/transformers/pipelines/base.py:1120\u001b[0m, in \u001b[0;36mPipeline.__call__\u001b[0;34m(self, inputs, num_workers, batch_size, *args, **kwargs)\u001b[0m\n\u001b[1;32m   1112\u001b[0m     \u001b[38;5;28;01mreturn\u001b[39;00m \u001b[38;5;28mnext\u001b[39m(\n\u001b[1;32m   1113\u001b[0m         \u001b[38;5;28miter\u001b[39m(\n\u001b[1;32m   1114\u001b[0m             \u001b[38;5;28mself\u001b[39m\u001b[38;5;241m.\u001b[39mget_iterator(\n\u001b[0;32m   (...)\u001b[0m\n\u001b[1;32m   1117\u001b[0m         )\n\u001b[1;32m   1118\u001b[0m     )\n\u001b[1;32m   1119\u001b[0m \u001b[38;5;28;01melse\u001b[39;00m:\n\u001b[0;32m-> 1120\u001b[0m     \u001b[38;5;28;01mreturn\u001b[39;00m \u001b[38;5;28;43mself\u001b[39;49m\u001b[38;5;241;43m.\u001b[39;49m\u001b[43mrun_single\u001b[49m\u001b[43m(\u001b[49m\u001b[43minputs\u001b[49m\u001b[43m,\u001b[49m\u001b[43m \u001b[49m\u001b[43mpreprocess_params\u001b[49m\u001b[43m,\u001b[49m\u001b[43m \u001b[49m\u001b[43mforward_params\u001b[49m\u001b[43m,\u001b[49m\u001b[43m \u001b[49m\u001b[43mpostprocess_params\u001b[49m\u001b[43m)\u001b[49m\n",
      "File \u001b[0;32m/Library/Frameworks/Python.framework/Versions/3.11/lib/python3.11/site-packages/transformers/pipelines/base.py:1127\u001b[0m, in \u001b[0;36mPipeline.run_single\u001b[0;34m(self, inputs, preprocess_params, forward_params, postprocess_params)\u001b[0m\n\u001b[1;32m   1125\u001b[0m \u001b[38;5;28;01mdef\u001b[39;00m \u001b[38;5;21mrun_single\u001b[39m(\u001b[38;5;28mself\u001b[39m, inputs, preprocess_params, forward_params, postprocess_params):\n\u001b[1;32m   1126\u001b[0m     model_inputs \u001b[38;5;241m=\u001b[39m \u001b[38;5;28mself\u001b[39m\u001b[38;5;241m.\u001b[39mpreprocess(inputs, \u001b[38;5;241m*\u001b[39m\u001b[38;5;241m*\u001b[39mpreprocess_params)\n\u001b[0;32m-> 1127\u001b[0m     model_outputs \u001b[38;5;241m=\u001b[39m \u001b[38;5;28;43mself\u001b[39;49m\u001b[38;5;241;43m.\u001b[39;49m\u001b[43mforward\u001b[49m\u001b[43m(\u001b[49m\u001b[43mmodel_inputs\u001b[49m\u001b[43m,\u001b[49m\u001b[43m \u001b[49m\u001b[38;5;241;43m*\u001b[39;49m\u001b[38;5;241;43m*\u001b[39;49m\u001b[43mforward_params\u001b[49m\u001b[43m)\u001b[49m\n\u001b[1;32m   1128\u001b[0m     outputs \u001b[38;5;241m=\u001b[39m \u001b[38;5;28mself\u001b[39m\u001b[38;5;241m.\u001b[39mpostprocess(model_outputs, \u001b[38;5;241m*\u001b[39m\u001b[38;5;241m*\u001b[39mpostprocess_params)\n\u001b[1;32m   1129\u001b[0m     \u001b[38;5;28;01mreturn\u001b[39;00m outputs\n",
      "File \u001b[0;32m/Library/Frameworks/Python.framework/Versions/3.11/lib/python3.11/site-packages/transformers/pipelines/base.py:1026\u001b[0m, in \u001b[0;36mPipeline.forward\u001b[0;34m(self, model_inputs, **forward_params)\u001b[0m\n\u001b[1;32m   1024\u001b[0m     \u001b[38;5;28;01mwith\u001b[39;00m inference_context():\n\u001b[1;32m   1025\u001b[0m         model_inputs \u001b[38;5;241m=\u001b[39m \u001b[38;5;28mself\u001b[39m\u001b[38;5;241m.\u001b[39m_ensure_tensor_on_device(model_inputs, device\u001b[38;5;241m=\u001b[39m\u001b[38;5;28mself\u001b[39m\u001b[38;5;241m.\u001b[39mdevice)\n\u001b[0;32m-> 1026\u001b[0m         model_outputs \u001b[38;5;241m=\u001b[39m \u001b[38;5;28;43mself\u001b[39;49m\u001b[38;5;241;43m.\u001b[39;49m\u001b[43m_forward\u001b[49m\u001b[43m(\u001b[49m\u001b[43mmodel_inputs\u001b[49m\u001b[43m,\u001b[49m\u001b[43m \u001b[49m\u001b[38;5;241;43m*\u001b[39;49m\u001b[38;5;241;43m*\u001b[39;49m\u001b[43mforward_params\u001b[49m\u001b[43m)\u001b[49m\n\u001b[1;32m   1027\u001b[0m         model_outputs \u001b[38;5;241m=\u001b[39m \u001b[38;5;28mself\u001b[39m\u001b[38;5;241m.\u001b[39m_ensure_tensor_on_device(model_outputs, device\u001b[38;5;241m=\u001b[39mtorch\u001b[38;5;241m.\u001b[39mdevice(\u001b[38;5;124m\"\u001b[39m\u001b[38;5;124mcpu\u001b[39m\u001b[38;5;124m\"\u001b[39m))\n\u001b[1;32m   1028\u001b[0m \u001b[38;5;28;01melse\u001b[39;00m:\n",
      "File \u001b[0;32m/Library/Frameworks/Python.framework/Versions/3.11/lib/python3.11/site-packages/transformers/pipelines/text_generation.py:263\u001b[0m, in \u001b[0;36mTextGenerationPipeline._forward\u001b[0;34m(self, model_inputs, **generate_kwargs)\u001b[0m\n\u001b[1;32m    260\u001b[0m         generate_kwargs[\u001b[38;5;124m\"\u001b[39m\u001b[38;5;124mmin_length\u001b[39m\u001b[38;5;124m\"\u001b[39m] \u001b[38;5;241m+\u001b[39m\u001b[38;5;241m=\u001b[39m prefix_length\n\u001b[1;32m    262\u001b[0m \u001b[38;5;66;03m# BS x SL\u001b[39;00m\n\u001b[0;32m--> 263\u001b[0m generated_sequence \u001b[38;5;241m=\u001b[39m \u001b[38;5;28;43mself\u001b[39;49m\u001b[38;5;241;43m.\u001b[39;49m\u001b[43mmodel\u001b[49m\u001b[38;5;241;43m.\u001b[39;49m\u001b[43mgenerate\u001b[49m\u001b[43m(\u001b[49m\u001b[43minput_ids\u001b[49m\u001b[38;5;241;43m=\u001b[39;49m\u001b[43minput_ids\u001b[49m\u001b[43m,\u001b[49m\u001b[43m \u001b[49m\u001b[43mattention_mask\u001b[49m\u001b[38;5;241;43m=\u001b[39;49m\u001b[43mattention_mask\u001b[49m\u001b[43m,\u001b[49m\u001b[43m \u001b[49m\u001b[38;5;241;43m*\u001b[39;49m\u001b[38;5;241;43m*\u001b[39;49m\u001b[43mgenerate_kwargs\u001b[49m\u001b[43m)\u001b[49m\n\u001b[1;32m    264\u001b[0m out_b \u001b[38;5;241m=\u001b[39m generated_sequence\u001b[38;5;241m.\u001b[39mshape[\u001b[38;5;241m0\u001b[39m]\n\u001b[1;32m    265\u001b[0m \u001b[38;5;28;01mif\u001b[39;00m \u001b[38;5;28mself\u001b[39m\u001b[38;5;241m.\u001b[39mframework \u001b[38;5;241m==\u001b[39m \u001b[38;5;124m\"\u001b[39m\u001b[38;5;124mpt\u001b[39m\u001b[38;5;124m\"\u001b[39m:\n",
      "File \u001b[0;32m/Library/Frameworks/Python.framework/Versions/3.11/lib/python3.11/site-packages/torch/utils/_contextlib.py:115\u001b[0m, in \u001b[0;36mcontext_decorator.<locals>.decorate_context\u001b[0;34m(*args, **kwargs)\u001b[0m\n\u001b[1;32m    112\u001b[0m \u001b[38;5;129m@functools\u001b[39m\u001b[38;5;241m.\u001b[39mwraps(func)\n\u001b[1;32m    113\u001b[0m \u001b[38;5;28;01mdef\u001b[39;00m \u001b[38;5;21mdecorate_context\u001b[39m(\u001b[38;5;241m*\u001b[39margs, \u001b[38;5;241m*\u001b[39m\u001b[38;5;241m*\u001b[39mkwargs):\n\u001b[1;32m    114\u001b[0m     \u001b[38;5;28;01mwith\u001b[39;00m ctx_factory():\n\u001b[0;32m--> 115\u001b[0m         \u001b[38;5;28;01mreturn\u001b[39;00m \u001b[43mfunc\u001b[49m\u001b[43m(\u001b[49m\u001b[38;5;241;43m*\u001b[39;49m\u001b[43margs\u001b[49m\u001b[43m,\u001b[49m\u001b[43m \u001b[49m\u001b[38;5;241;43m*\u001b[39;49m\u001b[38;5;241;43m*\u001b[39;49m\u001b[43mkwargs\u001b[49m\u001b[43m)\u001b[49m\n",
      "File \u001b[0;32m/Library/Frameworks/Python.framework/Versions/3.11/lib/python3.11/site-packages/transformers/generation/utils.py:1572\u001b[0m, in \u001b[0;36mGenerationMixin.generate\u001b[0;34m(self, inputs, generation_config, logits_processor, stopping_criteria, prefix_allowed_tokens_fn, synced_gpus, assistant_model, streamer, **kwargs)\u001b[0m\n\u001b[1;32m   1564\u001b[0m     input_ids, model_kwargs \u001b[38;5;241m=\u001b[39m \u001b[38;5;28mself\u001b[39m\u001b[38;5;241m.\u001b[39m_expand_inputs_for_generation(\n\u001b[1;32m   1565\u001b[0m         input_ids\u001b[38;5;241m=\u001b[39minput_ids,\n\u001b[1;32m   1566\u001b[0m         expand_size\u001b[38;5;241m=\u001b[39mgeneration_config\u001b[38;5;241m.\u001b[39mnum_return_sequences,\n\u001b[1;32m   1567\u001b[0m         is_encoder_decoder\u001b[38;5;241m=\u001b[39m\u001b[38;5;28mself\u001b[39m\u001b[38;5;241m.\u001b[39mconfig\u001b[38;5;241m.\u001b[39mis_encoder_decoder,\n\u001b[1;32m   1568\u001b[0m         \u001b[38;5;241m*\u001b[39m\u001b[38;5;241m*\u001b[39mmodel_kwargs,\n\u001b[1;32m   1569\u001b[0m     )\n\u001b[1;32m   1571\u001b[0m     \u001b[38;5;66;03m# 13. run sample\u001b[39;00m\n\u001b[0;32m-> 1572\u001b[0m     \u001b[38;5;28;01mreturn\u001b[39;00m \u001b[38;5;28;43mself\u001b[39;49m\u001b[38;5;241;43m.\u001b[39;49m\u001b[43msample\u001b[49m\u001b[43m(\u001b[49m\n\u001b[1;32m   1573\u001b[0m \u001b[43m        \u001b[49m\u001b[43minput_ids\u001b[49m\u001b[43m,\u001b[49m\n\u001b[1;32m   1574\u001b[0m \u001b[43m        \u001b[49m\u001b[43mlogits_processor\u001b[49m\u001b[38;5;241;43m=\u001b[39;49m\u001b[43mlogits_processor\u001b[49m\u001b[43m,\u001b[49m\n\u001b[1;32m   1575\u001b[0m \u001b[43m        \u001b[49m\u001b[43mlogits_warper\u001b[49m\u001b[38;5;241;43m=\u001b[39;49m\u001b[43mlogits_warper\u001b[49m\u001b[43m,\u001b[49m\n\u001b[1;32m   1576\u001b[0m \u001b[43m        \u001b[49m\u001b[43mstopping_criteria\u001b[49m\u001b[38;5;241;43m=\u001b[39;49m\u001b[43mstopping_criteria\u001b[49m\u001b[43m,\u001b[49m\n\u001b[1;32m   1577\u001b[0m \u001b[43m        \u001b[49m\u001b[43mpad_token_id\u001b[49m\u001b[38;5;241;43m=\u001b[39;49m\u001b[43mgeneration_config\u001b[49m\u001b[38;5;241;43m.\u001b[39;49m\u001b[43mpad_token_id\u001b[49m\u001b[43m,\u001b[49m\n\u001b[1;32m   1578\u001b[0m \u001b[43m        \u001b[49m\u001b[43meos_token_id\u001b[49m\u001b[38;5;241;43m=\u001b[39;49m\u001b[43mgeneration_config\u001b[49m\u001b[38;5;241;43m.\u001b[39;49m\u001b[43meos_token_id\u001b[49m\u001b[43m,\u001b[49m\n\u001b[1;32m   1579\u001b[0m \u001b[43m        \u001b[49m\u001b[43moutput_scores\u001b[49m\u001b[38;5;241;43m=\u001b[39;49m\u001b[43mgeneration_config\u001b[49m\u001b[38;5;241;43m.\u001b[39;49m\u001b[43moutput_scores\u001b[49m\u001b[43m,\u001b[49m\n\u001b[1;32m   1580\u001b[0m \u001b[43m        \u001b[49m\u001b[43mreturn_dict_in_generate\u001b[49m\u001b[38;5;241;43m=\u001b[39;49m\u001b[43mgeneration_config\u001b[49m\u001b[38;5;241;43m.\u001b[39;49m\u001b[43mreturn_dict_in_generate\u001b[49m\u001b[43m,\u001b[49m\n\u001b[1;32m   1581\u001b[0m \u001b[43m        \u001b[49m\u001b[43msynced_gpus\u001b[49m\u001b[38;5;241;43m=\u001b[39;49m\u001b[43msynced_gpus\u001b[49m\u001b[43m,\u001b[49m\n\u001b[1;32m   1582\u001b[0m \u001b[43m        \u001b[49m\u001b[43mstreamer\u001b[49m\u001b[38;5;241;43m=\u001b[39;49m\u001b[43mstreamer\u001b[49m\u001b[43m,\u001b[49m\n\u001b[1;32m   1583\u001b[0m \u001b[43m        \u001b[49m\u001b[38;5;241;43m*\u001b[39;49m\u001b[38;5;241;43m*\u001b[39;49m\u001b[43mmodel_kwargs\u001b[49m\u001b[43m,\u001b[49m\n\u001b[1;32m   1584\u001b[0m \u001b[43m    \u001b[49m\u001b[43m)\u001b[49m\n\u001b[1;32m   1586\u001b[0m \u001b[38;5;28;01melif\u001b[39;00m is_beam_gen_mode:\n\u001b[1;32m   1587\u001b[0m     \u001b[38;5;28;01mif\u001b[39;00m generation_config\u001b[38;5;241m.\u001b[39mnum_return_sequences \u001b[38;5;241m>\u001b[39m generation_config\u001b[38;5;241m.\u001b[39mnum_beams:\n",
      "File \u001b[0;32m/Library/Frameworks/Python.framework/Versions/3.11/lib/python3.11/site-packages/transformers/generation/utils.py:2619\u001b[0m, in \u001b[0;36mGenerationMixin.sample\u001b[0;34m(self, input_ids, logits_processor, stopping_criteria, logits_warper, max_length, pad_token_id, eos_token_id, output_attentions, output_hidden_states, output_scores, return_dict_in_generate, synced_gpus, streamer, **model_kwargs)\u001b[0m\n\u001b[1;32m   2616\u001b[0m model_inputs \u001b[38;5;241m=\u001b[39m \u001b[38;5;28mself\u001b[39m\u001b[38;5;241m.\u001b[39mprepare_inputs_for_generation(input_ids, \u001b[38;5;241m*\u001b[39m\u001b[38;5;241m*\u001b[39mmodel_kwargs)\n\u001b[1;32m   2618\u001b[0m \u001b[38;5;66;03m# forward pass to get next token\u001b[39;00m\n\u001b[0;32m-> 2619\u001b[0m outputs \u001b[38;5;241m=\u001b[39m \u001b[38;5;28;43mself\u001b[39;49m\u001b[43m(\u001b[49m\n\u001b[1;32m   2620\u001b[0m \u001b[43m    \u001b[49m\u001b[38;5;241;43m*\u001b[39;49m\u001b[38;5;241;43m*\u001b[39;49m\u001b[43mmodel_inputs\u001b[49m\u001b[43m,\u001b[49m\n\u001b[1;32m   2621\u001b[0m \u001b[43m    \u001b[49m\u001b[43mreturn_dict\u001b[49m\u001b[38;5;241;43m=\u001b[39;49m\u001b[38;5;28;43;01mTrue\u001b[39;49;00m\u001b[43m,\u001b[49m\n\u001b[1;32m   2622\u001b[0m \u001b[43m    \u001b[49m\u001b[43moutput_attentions\u001b[49m\u001b[38;5;241;43m=\u001b[39;49m\u001b[43moutput_attentions\u001b[49m\u001b[43m,\u001b[49m\n\u001b[1;32m   2623\u001b[0m \u001b[43m    \u001b[49m\u001b[43moutput_hidden_states\u001b[49m\u001b[38;5;241;43m=\u001b[39;49m\u001b[43moutput_hidden_states\u001b[49m\u001b[43m,\u001b[49m\n\u001b[1;32m   2624\u001b[0m \u001b[43m\u001b[49m\u001b[43m)\u001b[49m\n\u001b[1;32m   2626\u001b[0m \u001b[38;5;28;01mif\u001b[39;00m synced_gpus \u001b[38;5;129;01mand\u001b[39;00m this_peer_finished:\n\u001b[1;32m   2627\u001b[0m     \u001b[38;5;28;01mcontinue\u001b[39;00m  \u001b[38;5;66;03m# don't waste resources running the code we don't need\u001b[39;00m\n",
      "File \u001b[0;32m/Library/Frameworks/Python.framework/Versions/3.11/lib/python3.11/site-packages/torch/nn/modules/module.py:1511\u001b[0m, in \u001b[0;36mModule._wrapped_call_impl\u001b[0;34m(self, *args, **kwargs)\u001b[0m\n\u001b[1;32m   1509\u001b[0m     \u001b[38;5;28;01mreturn\u001b[39;00m \u001b[38;5;28mself\u001b[39m\u001b[38;5;241m.\u001b[39m_compiled_call_impl(\u001b[38;5;241m*\u001b[39margs, \u001b[38;5;241m*\u001b[39m\u001b[38;5;241m*\u001b[39mkwargs)  \u001b[38;5;66;03m# type: ignore[misc]\u001b[39;00m\n\u001b[1;32m   1510\u001b[0m \u001b[38;5;28;01melse\u001b[39;00m:\n\u001b[0;32m-> 1511\u001b[0m     \u001b[38;5;28;01mreturn\u001b[39;00m \u001b[38;5;28;43mself\u001b[39;49m\u001b[38;5;241;43m.\u001b[39;49m\u001b[43m_call_impl\u001b[49m\u001b[43m(\u001b[49m\u001b[38;5;241;43m*\u001b[39;49m\u001b[43margs\u001b[49m\u001b[43m,\u001b[49m\u001b[43m \u001b[49m\u001b[38;5;241;43m*\u001b[39;49m\u001b[38;5;241;43m*\u001b[39;49m\u001b[43mkwargs\u001b[49m\u001b[43m)\u001b[49m\n",
      "File \u001b[0;32m/Library/Frameworks/Python.framework/Versions/3.11/lib/python3.11/site-packages/torch/nn/modules/module.py:1520\u001b[0m, in \u001b[0;36mModule._call_impl\u001b[0;34m(self, *args, **kwargs)\u001b[0m\n\u001b[1;32m   1515\u001b[0m \u001b[38;5;66;03m# If we don't have any hooks, we want to skip the rest of the logic in\u001b[39;00m\n\u001b[1;32m   1516\u001b[0m \u001b[38;5;66;03m# this function, and just call forward.\u001b[39;00m\n\u001b[1;32m   1517\u001b[0m \u001b[38;5;28;01mif\u001b[39;00m \u001b[38;5;129;01mnot\u001b[39;00m (\u001b[38;5;28mself\u001b[39m\u001b[38;5;241m.\u001b[39m_backward_hooks \u001b[38;5;129;01mor\u001b[39;00m \u001b[38;5;28mself\u001b[39m\u001b[38;5;241m.\u001b[39m_backward_pre_hooks \u001b[38;5;129;01mor\u001b[39;00m \u001b[38;5;28mself\u001b[39m\u001b[38;5;241m.\u001b[39m_forward_hooks \u001b[38;5;129;01mor\u001b[39;00m \u001b[38;5;28mself\u001b[39m\u001b[38;5;241m.\u001b[39m_forward_pre_hooks\n\u001b[1;32m   1518\u001b[0m         \u001b[38;5;129;01mor\u001b[39;00m _global_backward_pre_hooks \u001b[38;5;129;01mor\u001b[39;00m _global_backward_hooks\n\u001b[1;32m   1519\u001b[0m         \u001b[38;5;129;01mor\u001b[39;00m _global_forward_hooks \u001b[38;5;129;01mor\u001b[39;00m _global_forward_pre_hooks):\n\u001b[0;32m-> 1520\u001b[0m     \u001b[38;5;28;01mreturn\u001b[39;00m \u001b[43mforward_call\u001b[49m\u001b[43m(\u001b[49m\u001b[38;5;241;43m*\u001b[39;49m\u001b[43margs\u001b[49m\u001b[43m,\u001b[49m\u001b[43m \u001b[49m\u001b[38;5;241;43m*\u001b[39;49m\u001b[38;5;241;43m*\u001b[39;49m\u001b[43mkwargs\u001b[49m\u001b[43m)\u001b[49m\n\u001b[1;32m   1522\u001b[0m \u001b[38;5;28;01mtry\u001b[39;00m:\n\u001b[1;32m   1523\u001b[0m     result \u001b[38;5;241m=\u001b[39m \u001b[38;5;28;01mNone\u001b[39;00m\n",
      "File \u001b[0;32m/Library/Frameworks/Python.framework/Versions/3.11/lib/python3.11/site-packages/transformers/models/gpt_neo/modeling_gpt_neo.py:744\u001b[0m, in \u001b[0;36mGPTNeoForCausalLM.forward\u001b[0;34m(self, input_ids, past_key_values, attention_mask, token_type_ids, position_ids, head_mask, inputs_embeds, labels, use_cache, output_attentions, output_hidden_states, return_dict)\u001b[0m\n\u001b[1;32m    736\u001b[0m \u001b[38;5;250m\u001b[39m\u001b[38;5;124mr\u001b[39m\u001b[38;5;124;03m\"\"\"\u001b[39;00m\n\u001b[1;32m    737\u001b[0m \u001b[38;5;124;03mlabels (`torch.LongTensor` of shape `(batch_size, sequence_length)`, *optional*):\u001b[39;00m\n\u001b[1;32m    738\u001b[0m \u001b[38;5;124;03m    Labels for language modeling. Note that the labels **are shifted** inside the model, i.e. you can set\u001b[39;00m\n\u001b[1;32m    739\u001b[0m \u001b[38;5;124;03m    `labels = input_ids` Indices are selected in `[-100, 0, ..., config.vocab_size]` All labels set to `-100`\u001b[39;00m\n\u001b[1;32m    740\u001b[0m \u001b[38;5;124;03m    are ignored (masked), the loss is only computed for labels in `[0, ..., config.vocab_size]`\u001b[39;00m\n\u001b[1;32m    741\u001b[0m \u001b[38;5;124;03m\"\"\"\u001b[39;00m\n\u001b[1;32m    742\u001b[0m return_dict \u001b[38;5;241m=\u001b[39m return_dict \u001b[38;5;28;01mif\u001b[39;00m return_dict \u001b[38;5;129;01mis\u001b[39;00m \u001b[38;5;129;01mnot\u001b[39;00m \u001b[38;5;28;01mNone\u001b[39;00m \u001b[38;5;28;01melse\u001b[39;00m \u001b[38;5;28mself\u001b[39m\u001b[38;5;241m.\u001b[39mconfig\u001b[38;5;241m.\u001b[39muse_return_dict\n\u001b[0;32m--> 744\u001b[0m transformer_outputs \u001b[38;5;241m=\u001b[39m \u001b[38;5;28;43mself\u001b[39;49m\u001b[38;5;241;43m.\u001b[39;49m\u001b[43mtransformer\u001b[49m\u001b[43m(\u001b[49m\n\u001b[1;32m    745\u001b[0m \u001b[43m    \u001b[49m\u001b[43minput_ids\u001b[49m\u001b[43m,\u001b[49m\n\u001b[1;32m    746\u001b[0m \u001b[43m    \u001b[49m\u001b[43mpast_key_values\u001b[49m\u001b[38;5;241;43m=\u001b[39;49m\u001b[43mpast_key_values\u001b[49m\u001b[43m,\u001b[49m\n\u001b[1;32m    747\u001b[0m \u001b[43m    \u001b[49m\u001b[43mattention_mask\u001b[49m\u001b[38;5;241;43m=\u001b[39;49m\u001b[43mattention_mask\u001b[49m\u001b[43m,\u001b[49m\n\u001b[1;32m    748\u001b[0m \u001b[43m    \u001b[49m\u001b[43mtoken_type_ids\u001b[49m\u001b[38;5;241;43m=\u001b[39;49m\u001b[43mtoken_type_ids\u001b[49m\u001b[43m,\u001b[49m\n\u001b[1;32m    749\u001b[0m \u001b[43m    \u001b[49m\u001b[43mposition_ids\u001b[49m\u001b[38;5;241;43m=\u001b[39;49m\u001b[43mposition_ids\u001b[49m\u001b[43m,\u001b[49m\n\u001b[1;32m    750\u001b[0m \u001b[43m    \u001b[49m\u001b[43mhead_mask\u001b[49m\u001b[38;5;241;43m=\u001b[39;49m\u001b[43mhead_mask\u001b[49m\u001b[43m,\u001b[49m\n\u001b[1;32m    751\u001b[0m \u001b[43m    \u001b[49m\u001b[43minputs_embeds\u001b[49m\u001b[38;5;241;43m=\u001b[39;49m\u001b[43minputs_embeds\u001b[49m\u001b[43m,\u001b[49m\n\u001b[1;32m    752\u001b[0m \u001b[43m    \u001b[49m\u001b[43muse_cache\u001b[49m\u001b[38;5;241;43m=\u001b[39;49m\u001b[43muse_cache\u001b[49m\u001b[43m,\u001b[49m\n\u001b[1;32m    753\u001b[0m \u001b[43m    \u001b[49m\u001b[43moutput_attentions\u001b[49m\u001b[38;5;241;43m=\u001b[39;49m\u001b[43moutput_attentions\u001b[49m\u001b[43m,\u001b[49m\n\u001b[1;32m    754\u001b[0m \u001b[43m    \u001b[49m\u001b[43moutput_hidden_states\u001b[49m\u001b[38;5;241;43m=\u001b[39;49m\u001b[43moutput_hidden_states\u001b[49m\u001b[43m,\u001b[49m\n\u001b[1;32m    755\u001b[0m \u001b[43m    \u001b[49m\u001b[43mreturn_dict\u001b[49m\u001b[38;5;241;43m=\u001b[39;49m\u001b[43mreturn_dict\u001b[49m\u001b[43m,\u001b[49m\n\u001b[1;32m    756\u001b[0m \u001b[43m\u001b[49m\u001b[43m)\u001b[49m\n\u001b[1;32m    757\u001b[0m hidden_states \u001b[38;5;241m=\u001b[39m transformer_outputs[\u001b[38;5;241m0\u001b[39m]\n\u001b[1;32m    759\u001b[0m lm_logits \u001b[38;5;241m=\u001b[39m \u001b[38;5;28mself\u001b[39m\u001b[38;5;241m.\u001b[39mlm_head(hidden_states)\n",
      "File \u001b[0;32m/Library/Frameworks/Python.framework/Versions/3.11/lib/python3.11/site-packages/torch/nn/modules/module.py:1511\u001b[0m, in \u001b[0;36mModule._wrapped_call_impl\u001b[0;34m(self, *args, **kwargs)\u001b[0m\n\u001b[1;32m   1509\u001b[0m     \u001b[38;5;28;01mreturn\u001b[39;00m \u001b[38;5;28mself\u001b[39m\u001b[38;5;241m.\u001b[39m_compiled_call_impl(\u001b[38;5;241m*\u001b[39margs, \u001b[38;5;241m*\u001b[39m\u001b[38;5;241m*\u001b[39mkwargs)  \u001b[38;5;66;03m# type: ignore[misc]\u001b[39;00m\n\u001b[1;32m   1510\u001b[0m \u001b[38;5;28;01melse\u001b[39;00m:\n\u001b[0;32m-> 1511\u001b[0m     \u001b[38;5;28;01mreturn\u001b[39;00m \u001b[38;5;28;43mself\u001b[39;49m\u001b[38;5;241;43m.\u001b[39;49m\u001b[43m_call_impl\u001b[49m\u001b[43m(\u001b[49m\u001b[38;5;241;43m*\u001b[39;49m\u001b[43margs\u001b[49m\u001b[43m,\u001b[49m\u001b[43m \u001b[49m\u001b[38;5;241;43m*\u001b[39;49m\u001b[38;5;241;43m*\u001b[39;49m\u001b[43mkwargs\u001b[49m\u001b[43m)\u001b[49m\n",
      "File \u001b[0;32m/Library/Frameworks/Python.framework/Versions/3.11/lib/python3.11/site-packages/torch/nn/modules/module.py:1520\u001b[0m, in \u001b[0;36mModule._call_impl\u001b[0;34m(self, *args, **kwargs)\u001b[0m\n\u001b[1;32m   1515\u001b[0m \u001b[38;5;66;03m# If we don't have any hooks, we want to skip the rest of the logic in\u001b[39;00m\n\u001b[1;32m   1516\u001b[0m \u001b[38;5;66;03m# this function, and just call forward.\u001b[39;00m\n\u001b[1;32m   1517\u001b[0m \u001b[38;5;28;01mif\u001b[39;00m \u001b[38;5;129;01mnot\u001b[39;00m (\u001b[38;5;28mself\u001b[39m\u001b[38;5;241m.\u001b[39m_backward_hooks \u001b[38;5;129;01mor\u001b[39;00m \u001b[38;5;28mself\u001b[39m\u001b[38;5;241m.\u001b[39m_backward_pre_hooks \u001b[38;5;129;01mor\u001b[39;00m \u001b[38;5;28mself\u001b[39m\u001b[38;5;241m.\u001b[39m_forward_hooks \u001b[38;5;129;01mor\u001b[39;00m \u001b[38;5;28mself\u001b[39m\u001b[38;5;241m.\u001b[39m_forward_pre_hooks\n\u001b[1;32m   1518\u001b[0m         \u001b[38;5;129;01mor\u001b[39;00m _global_backward_pre_hooks \u001b[38;5;129;01mor\u001b[39;00m _global_backward_hooks\n\u001b[1;32m   1519\u001b[0m         \u001b[38;5;129;01mor\u001b[39;00m _global_forward_hooks \u001b[38;5;129;01mor\u001b[39;00m _global_forward_pre_hooks):\n\u001b[0;32m-> 1520\u001b[0m     \u001b[38;5;28;01mreturn\u001b[39;00m \u001b[43mforward_call\u001b[49m\u001b[43m(\u001b[49m\u001b[38;5;241;43m*\u001b[39;49m\u001b[43margs\u001b[49m\u001b[43m,\u001b[49m\u001b[43m \u001b[49m\u001b[38;5;241;43m*\u001b[39;49m\u001b[38;5;241;43m*\u001b[39;49m\u001b[43mkwargs\u001b[49m\u001b[43m)\u001b[49m\n\u001b[1;32m   1522\u001b[0m \u001b[38;5;28;01mtry\u001b[39;00m:\n\u001b[1;32m   1523\u001b[0m     result \u001b[38;5;241m=\u001b[39m \u001b[38;5;28;01mNone\u001b[39;00m\n",
      "File \u001b[0;32m/Library/Frameworks/Python.framework/Versions/3.11/lib/python3.11/site-packages/transformers/models/gpt_neo/modeling_gpt_neo.py:582\u001b[0m, in \u001b[0;36mGPTNeoModel.forward\u001b[0;34m(self, input_ids, past_key_values, attention_mask, token_type_ids, position_ids, head_mask, inputs_embeds, use_cache, output_attentions, output_hidden_states, return_dict)\u001b[0m\n\u001b[1;32m    580\u001b[0m \u001b[38;5;28;01mif\u001b[39;00m inputs_embeds \u001b[38;5;129;01mis\u001b[39;00m \u001b[38;5;28;01mNone\u001b[39;00m:\n\u001b[1;32m    581\u001b[0m     inputs_embeds \u001b[38;5;241m=\u001b[39m \u001b[38;5;28mself\u001b[39m\u001b[38;5;241m.\u001b[39mwte(input_ids)\n\u001b[0;32m--> 582\u001b[0m position_embeds \u001b[38;5;241m=\u001b[39m \u001b[38;5;28;43mself\u001b[39;49m\u001b[38;5;241;43m.\u001b[39;49m\u001b[43mwpe\u001b[49m\u001b[43m(\u001b[49m\u001b[43mposition_ids\u001b[49m\u001b[43m)\u001b[49m\n\u001b[1;32m    583\u001b[0m hidden_states \u001b[38;5;241m=\u001b[39m inputs_embeds \u001b[38;5;241m+\u001b[39m position_embeds\n\u001b[1;32m    585\u001b[0m \u001b[38;5;28;01mif\u001b[39;00m token_type_ids \u001b[38;5;129;01mis\u001b[39;00m \u001b[38;5;129;01mnot\u001b[39;00m \u001b[38;5;28;01mNone\u001b[39;00m:\n",
      "File \u001b[0;32m/Library/Frameworks/Python.framework/Versions/3.11/lib/python3.11/site-packages/torch/nn/modules/module.py:1511\u001b[0m, in \u001b[0;36mModule._wrapped_call_impl\u001b[0;34m(self, *args, **kwargs)\u001b[0m\n\u001b[1;32m   1509\u001b[0m     \u001b[38;5;28;01mreturn\u001b[39;00m \u001b[38;5;28mself\u001b[39m\u001b[38;5;241m.\u001b[39m_compiled_call_impl(\u001b[38;5;241m*\u001b[39margs, \u001b[38;5;241m*\u001b[39m\u001b[38;5;241m*\u001b[39mkwargs)  \u001b[38;5;66;03m# type: ignore[misc]\u001b[39;00m\n\u001b[1;32m   1510\u001b[0m \u001b[38;5;28;01melse\u001b[39;00m:\n\u001b[0;32m-> 1511\u001b[0m     \u001b[38;5;28;01mreturn\u001b[39;00m \u001b[38;5;28;43mself\u001b[39;49m\u001b[38;5;241;43m.\u001b[39;49m\u001b[43m_call_impl\u001b[49m\u001b[43m(\u001b[49m\u001b[38;5;241;43m*\u001b[39;49m\u001b[43margs\u001b[49m\u001b[43m,\u001b[49m\u001b[43m \u001b[49m\u001b[38;5;241;43m*\u001b[39;49m\u001b[38;5;241;43m*\u001b[39;49m\u001b[43mkwargs\u001b[49m\u001b[43m)\u001b[49m\n",
      "File \u001b[0;32m/Library/Frameworks/Python.framework/Versions/3.11/lib/python3.11/site-packages/torch/nn/modules/module.py:1520\u001b[0m, in \u001b[0;36mModule._call_impl\u001b[0;34m(self, *args, **kwargs)\u001b[0m\n\u001b[1;32m   1515\u001b[0m \u001b[38;5;66;03m# If we don't have any hooks, we want to skip the rest of the logic in\u001b[39;00m\n\u001b[1;32m   1516\u001b[0m \u001b[38;5;66;03m# this function, and just call forward.\u001b[39;00m\n\u001b[1;32m   1517\u001b[0m \u001b[38;5;28;01mif\u001b[39;00m \u001b[38;5;129;01mnot\u001b[39;00m (\u001b[38;5;28mself\u001b[39m\u001b[38;5;241m.\u001b[39m_backward_hooks \u001b[38;5;129;01mor\u001b[39;00m \u001b[38;5;28mself\u001b[39m\u001b[38;5;241m.\u001b[39m_backward_pre_hooks \u001b[38;5;129;01mor\u001b[39;00m \u001b[38;5;28mself\u001b[39m\u001b[38;5;241m.\u001b[39m_forward_hooks \u001b[38;5;129;01mor\u001b[39;00m \u001b[38;5;28mself\u001b[39m\u001b[38;5;241m.\u001b[39m_forward_pre_hooks\n\u001b[1;32m   1518\u001b[0m         \u001b[38;5;129;01mor\u001b[39;00m _global_backward_pre_hooks \u001b[38;5;129;01mor\u001b[39;00m _global_backward_hooks\n\u001b[1;32m   1519\u001b[0m         \u001b[38;5;129;01mor\u001b[39;00m _global_forward_hooks \u001b[38;5;129;01mor\u001b[39;00m _global_forward_pre_hooks):\n\u001b[0;32m-> 1520\u001b[0m     \u001b[38;5;28;01mreturn\u001b[39;00m \u001b[43mforward_call\u001b[49m\u001b[43m(\u001b[49m\u001b[38;5;241;43m*\u001b[39;49m\u001b[43margs\u001b[49m\u001b[43m,\u001b[49m\u001b[43m \u001b[49m\u001b[38;5;241;43m*\u001b[39;49m\u001b[38;5;241;43m*\u001b[39;49m\u001b[43mkwargs\u001b[49m\u001b[43m)\u001b[49m\n\u001b[1;32m   1522\u001b[0m \u001b[38;5;28;01mtry\u001b[39;00m:\n\u001b[1;32m   1523\u001b[0m     result \u001b[38;5;241m=\u001b[39m \u001b[38;5;28;01mNone\u001b[39;00m\n",
      "File \u001b[0;32m/Library/Frameworks/Python.framework/Versions/3.11/lib/python3.11/site-packages/torch/nn/modules/sparse.py:163\u001b[0m, in \u001b[0;36mEmbedding.forward\u001b[0;34m(self, input)\u001b[0m\n\u001b[1;32m    162\u001b[0m \u001b[38;5;28;01mdef\u001b[39;00m \u001b[38;5;21mforward\u001b[39m(\u001b[38;5;28mself\u001b[39m, \u001b[38;5;28minput\u001b[39m: Tensor) \u001b[38;5;241m-\u001b[39m\u001b[38;5;241m>\u001b[39m Tensor:\n\u001b[0;32m--> 163\u001b[0m     \u001b[38;5;28;01mreturn\u001b[39;00m \u001b[43mF\u001b[49m\u001b[38;5;241;43m.\u001b[39;49m\u001b[43membedding\u001b[49m\u001b[43m(\u001b[49m\n\u001b[1;32m    164\u001b[0m \u001b[43m        \u001b[49m\u001b[38;5;28;43minput\u001b[39;49m\u001b[43m,\u001b[49m\u001b[43m \u001b[49m\u001b[38;5;28;43mself\u001b[39;49m\u001b[38;5;241;43m.\u001b[39;49m\u001b[43mweight\u001b[49m\u001b[43m,\u001b[49m\u001b[43m \u001b[49m\u001b[38;5;28;43mself\u001b[39;49m\u001b[38;5;241;43m.\u001b[39;49m\u001b[43mpadding_idx\u001b[49m\u001b[43m,\u001b[49m\u001b[43m \u001b[49m\u001b[38;5;28;43mself\u001b[39;49m\u001b[38;5;241;43m.\u001b[39;49m\u001b[43mmax_norm\u001b[49m\u001b[43m,\u001b[49m\n\u001b[1;32m    165\u001b[0m \u001b[43m        \u001b[49m\u001b[38;5;28;43mself\u001b[39;49m\u001b[38;5;241;43m.\u001b[39;49m\u001b[43mnorm_type\u001b[49m\u001b[43m,\u001b[49m\u001b[43m \u001b[49m\u001b[38;5;28;43mself\u001b[39;49m\u001b[38;5;241;43m.\u001b[39;49m\u001b[43mscale_grad_by_freq\u001b[49m\u001b[43m,\u001b[49m\u001b[43m \u001b[49m\u001b[38;5;28;43mself\u001b[39;49m\u001b[38;5;241;43m.\u001b[39;49m\u001b[43msparse\u001b[49m\u001b[43m)\u001b[49m\n",
      "File \u001b[0;32m/Library/Frameworks/Python.framework/Versions/3.11/lib/python3.11/site-packages/torch/nn/functional.py:2237\u001b[0m, in \u001b[0;36membedding\u001b[0;34m(input, weight, padding_idx, max_norm, norm_type, scale_grad_by_freq, sparse)\u001b[0m\n\u001b[1;32m   2231\u001b[0m     \u001b[38;5;66;03m# Note [embedding_renorm set_grad_enabled]\u001b[39;00m\n\u001b[1;32m   2232\u001b[0m     \u001b[38;5;66;03m# XXX: equivalent to\u001b[39;00m\n\u001b[1;32m   2233\u001b[0m     \u001b[38;5;66;03m# with torch.no_grad():\u001b[39;00m\n\u001b[1;32m   2234\u001b[0m     \u001b[38;5;66;03m#   torch.embedding_renorm_\u001b[39;00m\n\u001b[1;32m   2235\u001b[0m     \u001b[38;5;66;03m# remove once script supports set_grad_enabled\u001b[39;00m\n\u001b[1;32m   2236\u001b[0m     _no_grad_embedding_renorm_(weight, \u001b[38;5;28minput\u001b[39m, max_norm, norm_type)\n\u001b[0;32m-> 2237\u001b[0m \u001b[38;5;28;01mreturn\u001b[39;00m \u001b[43mtorch\u001b[49m\u001b[38;5;241;43m.\u001b[39;49m\u001b[43membedding\u001b[49m\u001b[43m(\u001b[49m\u001b[43mweight\u001b[49m\u001b[43m,\u001b[49m\u001b[43m \u001b[49m\u001b[38;5;28;43minput\u001b[39;49m\u001b[43m,\u001b[49m\u001b[43m \u001b[49m\u001b[43mpadding_idx\u001b[49m\u001b[43m,\u001b[49m\u001b[43m \u001b[49m\u001b[43mscale_grad_by_freq\u001b[49m\u001b[43m,\u001b[49m\u001b[43m \u001b[49m\u001b[43msparse\u001b[49m\u001b[43m)\u001b[49m\n",
      "\u001b[0;31mIndexError\u001b[0m: index out of range in self"
     ]
    }
   ],
   "source": [
    "# Load the RAG pipeline\n",
    "generator = pipeline(\"text-generation\", model=\"EleutherAI/gpt-neo-2.7B\")\n",
    "\n",
    "# Generate text using RAG\n",
    "generated_text = generator(input_text, max_length=100, num_return_sequences=1)[0]['generated_text']\n",
    "\n",
    "print(\"Generated Text:\")\n",
    "print(generated_text)"
   ]
  },
  {
   "cell_type": "code",
   "execution_count": 15,
   "metadata": {},
   "outputs": [
    {
     "name": "stderr",
     "output_type": "stream",
     "text": [
      "/Library/Frameworks/Python.framework/Versions/3.11/lib/python3.11/site-packages/huggingface_hub/file_download.py:1132: FutureWarning: `resume_download` is deprecated and will be removed in version 1.0.0. Downloads always resume when possible. If you want to force a new download, use `force_download=True`.\n",
      "  warnings.warn(\n",
      "Some weights of BartForConditionalGeneration were not initialized from the model checkpoint at facebook/bart-large-cnn and are newly initialized: ['model.shared.weight']\n",
      "You should probably TRAIN this model on a down-stream task to be able to use it for predictions and inference.\n"
     ]
    }
   ],
   "source": [
    "# Load a Hugging Face model and tokenizer for generation\n",
    "model_name = \"facebook/bart-large-cnn\"\n",
    "tokenizer = AutoTokenizer.from_pretrained(model_name)\n",
    "model = AutoModelForSeq2SeqLM.from_pretrained(model_name)"
   ]
  },
  {
   "cell_type": "code",
   "execution_count": 16,
   "metadata": {},
   "outputs": [],
   "source": [
    "# Set up the generation pipeline\n",
    "generator = pipeline('text2text-generation', model=model, tokenizer=tokenizer, device=0 if torch.cuda.is_available() else -1)\n"
   ]
  },
  {
   "cell_type": "code",
   "execution_count": 19,
   "metadata": {},
   "outputs": [],
   "source": [
    "# Function to handle long input by splitting it into manageable chunks\n",
    "def generate_with_bart(context, question, max_length=1024):\n",
    "    input_text = f\"{context} {question}\"\n",
    "    input_chunks = [input_text[i:i + max_length] for i in range(0, len(input_text), max_length)]\n",
    "    summaries = []\n",
    "    for chunk in input_chunks:\n",
    "        result = generator(chunk, max_length=150, min_length=40, do_sample=False)\n",
    "        summaries.append(result[0]['generated_text'])\n",
    "    return \" \".join(summaries)\n"
   ]
  },
  {
   "cell_type": "code",
   "execution_count": 22,
   "metadata": {},
   "outputs": [],
   "source": [
    "# Define a function to generate a response based on retrieved documents\n",
    "def generate_response(query):\n",
    "    response = generate_with_bart(context, query)\n",
    "    return response"
   ]
  },
  {
   "cell_type": "code",
   "execution_count": 23,
   "metadata": {},
   "outputs": [
    {
     "name": "stdout",
     "output_type": "stream",
     "text": [
      "There is no one correct set of actions for achieving your city’s climate change goals. The actions in your plan need to be underpinned by high ambition. They should have in-built flexibility to allow the city to learn from successes and failures and to adapt the approach over time. Actions include any policy, project, programme, strategy, partnership, investment or infrastructure that leads to emission reduction and climate resilience. They can be at any size, scale or stage of implementation, from concept to implementation and monitoring. Identify and give structure to a ‘longlist’ of actions. These actions should present a clear, coherent and robust approach to meeting your city’s climate change vision, goals and targets. There are multiple, feasible and effective options to reduce greenhouse gas emissions and adapt to human-caused climate change. Cities can use the Climate Action Planning Guide to develop effective climate action plans. Taking right action now could result in the transformational change essential for a sustainable, equitable world. Global surface temperature reached 1.1°C above 1850-1900 in 2011-2020. Global greenhouse gas emissions have continued to increase. Unfair contributions arising from unsustainable energy use, land use and land-use change, lifestyles and patterns of consumption and production. Human-caused climate change is already affecting many weather and climate extremes. Vulnerable communities who have historically contributed the least to current climate change are disproportionately affected. Aim to strike a balance between collecting sufficient information and having enough indicators. Identify and propose unfunded measures and those that require legislation in the budget template. The template should also collect information about measures that departments would like to implement, but which are not yet funded. Many cities lack funding for climate action and must make hard choices. A compiled list of all proposals will allow a selection that delivers on strategic priorities. It will also be a transparent process, where decision-makers are aware of which proposals are unfunded. The final step in the process of developing a climate plan is writing it. This outlines best practices for designing, writing and launching a CAP. To stay below 1.5°C, we can expect the level of investment to be orders of magnitude greater than previously thought. The sobering conclusion of the Summary for Urban Policymakers is that we need to pursue aggressive strategies to limit global heating to 1.5°C. We need to prepare our towns, cities for the climate impacts that are already happening. Without urgent action, continued progress will become incredibly cha Citizens are increasingly demanding action and changing their own lifestyles. Mayors can take heart from this and engage with communities to drive bigger changes. The Global Climate Action Summit in San Francisco this year showed the huge latent potential for regional government, business and cities to work together.\n"
     ]
    }
   ],
   "source": [
    "response = generate_response(query)\n",
    "print(response)\n"
   ]
  },
  {
   "cell_type": "code",
   "execution_count": 24,
   "metadata": {},
   "outputs": [],
   "source": [
    "# Change the model name to use different models\n",
    "model_name = \"google/pegasus-xsum\"  # Example: Using Pegasus for summarization\n",
    "# Other options:\n",
    "# model_name = \"gpt2-large\"\n",
    "# model_name = \"t5-large\"\n",
    "# model_name = \"sshleifer/distilbart-cnn-12-6\"\n",
    "# model_name = \"facebook/bart-base\"\n",
    "\n",
    "tokenizer = AutoTokenizer.from_pretrained(model_name)\n",
    "model = AutoModelForSeq2SeqLM.from_pretrained(model_name)\n",
    "\n",
    "# Set up the generation pipeline\n",
    "generator = pipeline('text2text-generation', model=model, tokenizer=tokenizer, device=0 if torch.cuda.is_available() else -1)"
   ]
  },
  {
   "cell_type": "code",
   "execution_count": 25,
   "metadata": {},
   "outputs": [],
   "source": [
    "# Function to handle long input by splitting it into manageable chunks\n",
    "def generate_with_model(context, question, max_length=1024):\n",
    "    input_text = f\"{context} {question}\"\n",
    "    input_chunks = [input_text[i:i + max_length] for i in range(0, len(input_text), max_length)]\n",
    "    summaries = []\n",
    "    for chunk in input_chunks:\n",
    "        result = generator(chunk, max_length=150, min_length=40, do_sample=False)\n",
    "        summaries.append(result[0]['generated_text'])\n",
    "    return \" \".join(summaries)"
   ]
  },
  {
   "cell_type": "code",
   "execution_count": 26,
   "metadata": {},
   "outputs": [],
   "source": [
    "# Define a function to generate a response based on retrieved documents\n",
    "def generate_response(query):\n",
    "    response = generate_with_model(context, query)\n",
    "    return response\n"
   ]
  },
  {
   "cell_type": "code",
   "execution_count": 27,
   "metadata": {},
   "outputs": [
    {
     "name": "stdout",
     "output_type": "stream",
     "text": [
      "A city’s climate action plan (CAP) is a set of actions that have been selected, prioritised and defined to ensure that the vision, goals and targets of the plan can be achieved. A climate action is any activity your city commits to implementing to achieve its vision and strategies for adapting to climate change and reducing emissions. a climate action is any activity your city commits to implementing to achieve its vision and strategies for adapting to climate change and reducing emissions. A city’s climate action plan (CAP) should include actions that strengthen or facilitate other aspects of a CAP, for example, by building capacity, demonstrating leadership, strengthening the evidence base, enhancing governance or seeking finance. The Intergovernmental Panel on Climate Change (IPCC) has warned that the world is heading towards dangerous levels of climate change and that urgent action is needed to limit the rise in global temperatures to less than 2C above pre-industrial levels. The UN's Intergovernmental Panel on Climate Change (IPCC) has released its latest assessment of the state of global climate change and its drivers, with a view to acting to limit the rise in global temperatures to less than 2C above pre-industrial levels. What is climate change and what should the city do to prepare for, and respond to, climate change and the impacts it is likely to have on the people and nature of the city and its surroundings? Here are some tips on how to create a budget template that your department can use to identify and propose unfunded measures and those that require legislation in the budget template, as well as collect information about measures that departments would like to implement, but which are not yet funded. As cities prepare their climate budgets, they need to know which measures are unfunded and which are required by their local and national governments, as well as by the international community as part of the Paris Agreement. How to write a climate action plan (CAP) and how to monitor, evaluate and report on the actions taken by the city to meet its targets for reducing greenhouse gas emissions, as set out in the Paris Agreement. The UN's Intergovernmental Panel on Climate Change (IPCC) has published its latest assessment of the current state of global climate change and has called for urgent action to limit global warming to 1.5C. As I prepare to chair the C40 mayors’ group in 2019, here are my top three things to consider when writing my climate action plan, which will be adopted at the C40 summit in Katowice, Poland, in December.\n"
     ]
    }
   ],
   "source": [
    "response = generate_response(query)\n",
    "print(response)"
   ]
  }
 ],
 "metadata": {
  "kernelspec": {
   "display_name": "Python 3",
   "language": "python",
   "name": "python3"
  },
  "language_info": {
   "codemirror_mode": {
    "name": "ipython",
    "version": 3
   },
   "file_extension": ".py",
   "mimetype": "text/x-python",
   "name": "python",
   "nbconvert_exporter": "python",
   "pygments_lexer": "ipython3",
   "version": "3.11.0"
  }
 },
 "nbformat": 4,
 "nbformat_minor": 2
}
