{
 "cells": [
  {
   "cell_type": "code",
   "execution_count": 1,
   "metadata": {},
   "outputs": [],
   "source": [
    "from langchain_community.embeddings import HuggingFaceBgeEmbeddings\n",
    "from langchain_chroma import Chroma\n",
    "from langchain_community.llms import Ollama\n",
    "import chromadb\n",
    "from pathlib import Path\n",
    "import os"
   ]
  },
  {
   "cell_type": "code",
   "execution_count": 2,
   "metadata": {},
   "outputs": [
    {
     "name": "stdout",
     "output_type": "stream",
     "text": [
      "DB_DIR: /Users/rahul/Projects/AI-Project/ClimateActionPolicy-RAG/Chroma/env_policy\n"
     ]
    }
   ],
   "source": [
    "# Set the absolute path for the Chroma database\n",
    "ABS_PATH = Path().resolve().joinpath('Chroma')\n",
    "DB_DIR = os.path.join(ABS_PATH, \"env_policy\")\n",
    "print('DB_DIR:', DB_DIR)"
   ]
  },
  {
   "cell_type": "code",
   "execution_count": 3,
   "metadata": {},
   "outputs": [],
   "source": [
    "# Define client settings for Chroma\n",
    "client_settings = chromadb.config.Settings(\n",
    "    is_persistent=True,\n",
    "    persist_directory=DB_DIR,\n",
    "    anonymized_telemetry=False,\n",
    ")"
   ]
  },
  {
   "cell_type": "code",
   "execution_count": 4,
   "metadata": {},
   "outputs": [
    {
     "name": "stderr",
     "output_type": "stream",
     "text": [
      "/Library/Frameworks/Python.framework/Versions/3.11/lib/python3.11/site-packages/tqdm/auto.py:21: TqdmWarning: IProgress not found. Please update jupyter and ipywidgets. See https://ipywidgets.readthedocs.io/en/stable/user_install.html\n",
      "  from .autonotebook import tqdm as notebook_tqdm\n"
     ]
    }
   ],
   "source": [
    "# Initialize the HuggingFaceBgeEmbeddings with the correct model\n",
    "embedder = HuggingFaceBgeEmbeddings(model_name=\"BAAI/bge-small-en\")\n"
   ]
  },
  {
   "cell_type": "code",
   "execution_count": 5,
   "metadata": {},
   "outputs": [],
   "source": [
    "# Load the Chroma vector store\n",
    "bge_vectorstore = Chroma(\n",
    "    embedding_function=embedder,\n",
    "    client_settings=client_settings,\n",
    "    collection_name=\"env_policy_bge\",\n",
    "    collection_metadata={\"hnsw\": \"cosine\"}\n",
    ")"
   ]
  },
  {
   "cell_type": "code",
   "execution_count": 6,
   "metadata": {},
   "outputs": [],
   "source": [
    "# Initialize the retriever\n",
    "retriever = bge_vectorstore.as_retriever(\n",
    "    search_type=\"mmr\",\n",
    "    search_kwargs={\"k\": 5, \"include_metadata\": True}\n",
    ")"
   ]
  },
  {
   "cell_type": "code",
   "execution_count": 7,
   "metadata": {},
   "outputs": [
    {
     "data": {
      "text/plain": [
       "[Document(page_content='Title: Toolkit to Declare a Climate Emergency\\nContent: This short toolkit is designed to help cities declare a climate emergency. It outlines three key steps to declaring a climate emergency, and includes links to additional resources under each step:\\nPass declaration(s) of Climate Emergency with commitment to reach zero emissions and begin decarbonization at emergency speed (within 10 years).\\nLocal elected leaders become advocates for emergency climate mobilisation to the public, media, and other cities.\\nDevelop and implement mobilisation policies locally, after the declaration has been passed.\\nStep three incorporates developing and implementing a climate action plan. For more comprehensive guidance on how to do this, visit the Climate Action Planning section of this website.\\nThe toolkit includes a template press release which cities can adapt, key messages for use in public communications, and common questions and answers. It also provides an alternative approach to declaring a climate emergency - registering poor air quality as a disaster – for cities where air pollution is a greater priority. Given the overlap between air pollution and greenhouse gas emissions, treating air pollution as a disaster can also spur climate action. Read more about these links in Win-Win: Why cities should tackle climate change and air pollution together.\\nFinally, the toolkit gives two Climate Emergency examples from the cities of Darebin, Australia and Seoul, South Korea. In 2016, Darebin Council became the first government body in the world to declare a climate emergency, and Seoul was among the first cities to define its air pollution as a ‘disaster’.\\n \\n'),\n",
       " Document(page_content='Title: How to write and launch a climate action plan\\nContent: The final step in the process of developing a climate action plan (CAP) is writing it. This is where the city confirms its climate action goals and targets, outlines the strategies it will use and actions it will take to achieve them, and presents key aspects of the evidence base underpinning the plan.\\nOur CAP guide will be updated shortly in line with the Cities Climate Transition Framework, released in December 2023.\\nThis article guides cities through this final step, outlining best practices for designing, writing and launching a document that effectively communicates the city’s commitment to climate action to all stakeholders.\\nWrite the plan collaboratively\\nThe city government must have ownership of the climate action planning process and should take the lead role in writing the CAP. Even so, climate action planning is a collaborative effort, with input from city departments and external stakeholders – and writing the plan should be no different.\\nThe coordination structures established at the start of the process should support this drafting stage. To streamline collaborative CAP drafting, cities can:\\nIdentify a project manager of the drafting process in the department or agency mandated to lead and coordinate CAP development. This will often be an individual on the CAP team.\\nCreate document templates and establish writing guidelines to ensure consistency of formatting, messaging and grammatical style, even where sections or chapters are written by different people. Consider involving communications colleagues or external agencies to support this.\\nIdentify a lead or main point of contact for each city department involved in CAP development and implementation, even if they are not participating in the drafting of the document itself. Involve this group throughout the drafting process to identify and address any issues that arise.\\nOrganise a CAP writing retreat with a small number of key staff members. This can lessen the burden on staff by concentrating the work into a few days – away from day-to-day responsibilities – and help to ensure consensus on CAP content.\\nThe CAP should include a summary of the engagement process the city undertook during climate action planning. It should also acknowledge by name all the groups and organisations involved. This is important not only to recognise those stakeholders, but to highlight their input and support.\\nEnsure the CAP is complete and easy to navigate\\nCAPs are often presented as a single document (such as the Barcelona Climate Plan), but can be a series of connected plans (like Melbourne’s mitigation and adaptation strategies) or integrated into broader strategy documents (as with the London Environment Strategy, for example).\\nWhile approaches to presenting CAPs are as diverse as the cities developing them, the table below presents sections, topics and technical components that are common features of most CAPs. The Guide to Structuring and Writing a Climate Action Plan provides a detailed template that follows the structure below, along with best-practice examples from city CAPs for each section.\\nExecutive summary An overview of the CAP, highlighting key commitments, goals and strategies, as well as an overview of the planning process. Sometimes this is a separate document targeted at decision-makers and/or the general public.\\nPreamble and commitments The preamble often starts with a commitment or endorsement letter from the Mayor, city leader(s) or city council. It introduces the plan, explaining why the city has developed a CAP and how it connects to other local priorities and efforts, as well as to regional, national and/or global climate efforts. It will also reaffirm the commitment made by the city leadership at the start of the climate action planning process and introduce the city commitments established through this process.\\nVision This includes the vision statement – the anchor point of any strategic plan – and introduces the plan’s focus areas and priorities. The vision statement will usually build on that established at the start to reflect insights and priorities that emerged during the course of climate action planning. Often, this section also briefly describes the engagement process and how stakeholder inputs were used to inform the CAP, which can be detailed in their own section or an annex.\\nCity context Provide background information on the city’s key social, environmental and economic priorities, informed by the needs assessment, and any other relevant contextual information, such as physical and administrative boundaries, boundaries used for the greenhouse gas (GHG) inventory, or governance structures. The CAP should also include a summary of relevant national, regional and local laws, regulations, policies or plans, usually in this section or an annex.\\nGHG emissions inventory and scenarios Present the main GHG emission sources and activities identified in the GHG emissions inventory (base-year emissions), as well as the emissions trajectories from the scenario planning process – including, at a minimum, the business-as-usual emissions trajectory and the ‘ambitious’ scenario.\\nClimate risks Present the city’s current and projected climate risks, along with the infrastructural and societal vulnerabilities, identified in the climate change risk assessment. Ideally, this should be linked to relevant non-climatic characteristics and trends that may compound or reduce risks, such as rapid urbanisation, an ageing population or technological innovations.\\nGoals and targets Present the mitigation targets and adaptation goals and explain how they were chosen, why they are important and the expected wider benefits of the actions that the city will implement to achieve them. This may also include goals and targets for the wider benefits. The CAP’s goals and targets are sometimes integrated into the preamble, vision and/or action roadmap, rather than presented as a separate section.\\nAction roadmap Set out the mitigation and adaptation actions agreed through the action prioritisation process, highlighting how they contribute to climate targets and goals, as well as the benefits for other city priorities. The action roadmap can identify any connections or interdependencies between the actions, and should include known implementation details, such as responsible departments or agencies, timeframe and funding opportunities. Actions can be organised by category of climate action – mitigation or adaptation – or through a cross-cutting approach by sector, theme or priority area, for example. Often, this section includes a timeline of key actions and other milestones.\\nMonitoring, evaluation and reporting This is where a city communicates the process for measuring success and adjusting priorities over time. This section establishes a commitment to report progress, revisit the CAP periodically and publish future updates.\\nConclusion This short section provides a brief summary of the CAP and culminates in a call to action.\\nAnnex Use annexes for detailed or technical information to support the content of the main body, such as detailed methodologies and assumptions. This provides transparency as to plan development without interrupting the main narrative. This information can alternatively be published in separate documents.\\nPresent a compelling story of the city’s climate action\\nThe CAP is the city’s central vehicle for building a narrative of urgency, opportunity and transformation, and to inform public, private and community stakeholders of the city’s direction of travel. To help ensure the CAP does this effectively, cities can:\\nEnsure the plan is intuitive and digestible. Keep it short (CAPs are usually between 40 and 100 pages long). Include images and graphics, and use quotes and anecdotes, to help to make the plan relatable and meaningful to local people. Any images of people should feature residents from the city and represent the city’s community diversity.\\nAvoid technical jargon. Use language that centres on priorities that matter to residents and local businesses and that non-experts will be able to understand and relate to. For example, ‘life-threatening flood once every 50 years’ can be more effective than ‘50-year flood’, and describing health risks such as heat stroke when discussing extreme heat can help people understand the implications. While a clear presentation of climate risks and the rationale for climate action is important, the emphasis of the CAP should be on opportunities and practical solutions, presenting the CAP as a positive response to the threats faced globally as well as locally. CAPs published since the outbreak of the COVID-19 pandemic may also benefit from being tied in with the city’s response and recovery.\\nDirectly address any common local misconceptions or misunderstandings about climate change and the city’s planned climate action, informed by the city’s engagement with stakeholders throughout the climate action planning process.\\nBe creative with the name of the CAP. Cities can, of course, simply call the plan the ‘Climate Action Plan’, but the title is an opportunity to emphasise key ambitions or benefits. Examples include Los Angeles’ Green New Deal, Vancouver’s Greenest City Action Plan and Rotterdam’s Weather Wise adaptation strategy update. Medellín ran a social-media campaign to hold a public contest to name the CAP.\\nC40’s Climate Action Planning Communications Toolkit provides more guidance on communicating the city’s CAP, including on climate change messaging, building a compelling campaign, writing a press release and ideas for COVID-19 recovery messaging. In the TED talk How to talk about climate change so people actually care, communications strategist John Marshall also offers useful advice.\\nDevelop and implement a CAP communications and launch plan\\nA comprehensive communications and outreach plan is critical to the CAP’s success, sharing the CAP with a wider audience than the stakeholders engaged in its development. It should aim to reach every segment of the general public, as well as the private sector, civil society and other levels of government, raising awareness of the plan’s ambitions, actions and associated opportunities and implications, as well as how different groups can support CAP delivery.\\nTo support the CAP’s launch, cities should:\\nDefine the campaign’s target audiences. Priority audiences should include those groups identified in the needs assessment as hard-to-reach or likely to be most impacted by climate change and climate action, as well as other priority stakeholders. Audiences can be segmented by interests and behaviours that may influence their response to the plan. Marketing for Action: A guide to marketing fundamentals for urban sustainability officers by specialist marketing agency Vision Flourish in partnership the Urban Sustainability Directors Network, explains how to determine target behaviours, identify target audiences, craft messaging, design campaigns and more.\\nInclude the design and delivery of the CAP communications strategy in the engagement plan, involving stakeholders in this part of the process in addition to CAP development. Highly engaged civil-society, private-sector and community stakeholders can be powerful champions of the CAP and their involvement in this stage may also help the city to access low-cost communications support. Consider the media channels and audiences to which different stakeholders are best suited. Influential businesses or professional bodies may help the city to reach other private-sector audiences, for example, while civil-society groups may be well positioned to help the city connect with hard-to-reach communities or raise awareness through social-media platforms.\\nDeliver informational materials and outreach activities for the general public, as well as for specific priority audiences. Translate materials into the city’s commonly spoken languages and include audio or braille content to ensure accessibility for visually impaired people. Examples include #LeedsByExample, a campaign platform by Leeds City Council in the United Kingdom, which explains the city’s approach to climate action and the changes that local people can make to reduce their carbon footprint. It also provides a Toolkit for Young People that draws ideas from a Youth Action Summit run by the city in 2020. Dakar also ran events and cultural activities to build awareness of its energy and climate plan among women and young people. The city worked with traditional intermediaries between health centres and families, ran a city-wide environmental competition among schools and organised a green parade through the city to engage the wider public.\\nHost a launch event. Whether this is a large in-person event, virtual workshop, series of events or another format, ensure that the theme of the event and its green credentials match the ambition of the CAP.\\nBe prepared for queries and concerns. The CAP team should think about likely queries and concerns ahead of time and consider establishing a channel or contact person to handle them. Also ensure that other teams and individuals likely to receive questions or concerns are provided with the information they need to respond appropriately, and make sure there is a clear route to the CAP team or contact person for support if challenges arise.\\nThe Climate Action Planning Communications Toolkit explains more about designing and delivering the different elements of a CAP communications campaign, and provides a launch-event checklist.\\nContinued campaigns are critical to support CAP implementation\\nThe launch of the CAP is the starting point for a long-term communications campaign about the city’s climate action, which should continue throughout CAP implementation. The city should monitor success in reaching key audiences and the CAP’s impact, making adjustments as needed.\\nThe city will also require campaigns focusing on specific action areas or target audiences to support many elements of CAP implementation. For example, Guadalajara has run dedicated campaigns on tree planting, sustainable mobility and waste reduction, using a common visual identity. New York City built public campaigns for ten behavioural changes which, together, are expected to achieve a 7.5% reduction in GHG emissions.1 You can find advice on public messaging for relevant sectoral actions in Implementation Guides across the Knowledge Hub.\\nShow References +'),\n",
       " Document(page_content='Title: How to mainstream climate action into your city’s financial system\\nContent: Integrating climate priorities into your city’s financial structures and decision-making is critical to achieving the pace and ambition of action needed to meet climate goals. Mainstreaming mitigation and adaptation will help to increase the scale and pace of investment in the short term, transition investment and operating budgets, and avoid the longer-term lock-in of high-carbon, climate-vulnerable infrastructure.1\\nIn this article, we explain established ways of mainstreaming climate action into three key areas of cities’ financial systems: the capital investment plan, the budget and governance.\\nConnect climate goals with your city’s capital investment plan\\nFrom energy supply to public transport, decisions on public projects funded in your multi-year capital investment plan or capital improvement plan (CIP) will shape your city’s emissions trajectory for years to come.2\\nClimate-smart principles should be integrated into CIP decision-making processes and ultimately backed by a legislative mandate that formally institutionalises this. Cities can begin this process of integration by raising awareness of the benefits of climate-smart investment among key stakeholders, and can take the window of opportunity offered by events such as local flooding or global energy crises to promote the prioritisation of climate actions.3\\nIf your city has a climate action plan (CAP) when a new CIP is developed or when an existing CIP is reviewed and adjusted, the CAP should inform decisions about the projects funded in the CIP. A CAP is not a pre-requisite to climate-smart capital investment planning, however. To improve the integration of climate considerations into a CIP, with or without a CAP, cities can:\\nInclude ‘climate-smart’ criteria when evaluating proposals for capital investment, ensuring that sufficient weight is devoted to them.4 This means rewarding proposals that have a greenhouse gas (GHG) or adaptive benefit. For example, certain priority could be given to projects that: produce or are served by renewable energy; demonstrate high building energy efficiency; meet a minimum standard for green infrastructure; encourage travel by sustainable modes; or reduce embodied carbon.\\nLayer climate-smart or adaptive measures on top of planned capital investment projects. Assess opportunities to integrate measures to reduce emissions or improve the resilience of planned projects and analyse the costs and benefits. For example, look at the cost of improving the energy efficiency of planned new buildings. Scenario planning and prioritisation approaches used in climate action planning may help here.\\nGenerate low-carbon alternatives for each conventional investment in relevant sectors, analysing and selecting alternative projects that meet each of the CIP’s policy objectives – such as an order for electric buses rather than polluting buses.5\\nAssess the climate impact of proposed investments in the plan. Model and forecast the emissions associated with the proposed investments, the impact on – or investments’ vulnerability to – climate risks and their alignment with climate targets. Tools and processes used for climate action planning – GHG emissions inventories and climate change risk assessments – can inform this assessment.\\nConduct a lifecycle cost analysis on proposed investments to compare business-as-usual investments with greener alternatives. This relies on understanding an asset’s total cost of ownership, including operating and maintenance costs, in addition to upfront costs. Green assets and investments, such as rooftop solar photovoltaic (PV) panels or electric buses, often increase upfront costs, but in many cases will pay for themselves and more over time.\\nExpand the time horizon of the CIP. While the cost savings from climate projects may begin to be realised within a few years, a longer time horizon – 15 or more years rather than the more common three to five years – can improve climate-smart decision-making, as it will target deeper, longer-term emissions cuts, consider greater climate risk and often encompass at least one maintenance cycle.\\nAnalyse and report your city’s climate-related financial risks\\nUnderstanding the financial risks that climate impacts can pose to your city and its investments will encourage climate action to be taken more seriously by city finance departments. For more on this, read How to disclose your city’s climate-related financial risks (TCFD).\\nTrack and improve climate performance through your city’s annual budget\\nApproaches described above for medium- to long-term capital investment planning can also be applied to annual budgets. Prioritise activities that offer the greatest net benefits towards your climate mitigation and adaptation targets. The most impactful actions are captured here.6\\nReplicable methods already formalised by cities to integrate climate considerations into annual budgeting include:\\nAssessing the overall climate performance of the city’s budget after it has been approved to understand how it contributes to your climate goals. This means analysing each line of the budget and categorising all expenditures according to their positive or negative climate impact. This has been done in five French cities, including Paris, which together created a methodology from which others can learn.\\nSystematically evaluating the climate impact of proposed projects. Montreal has created a climate test to evaluate potential projects, policies or decisions in terms of their contribution to climate goals.7 In Berlin, since 2021, all Senate bills are subjected to a climate check, which measures the consequences of all climate-related decisions, such as building energy use and public procurement. Berlin’s Environment Department has released a guide (in German) to support the objective assessment of measures in terms of CO2-equivalent emissions across climate-critical sectors.8\\nDeveloping a climate budget. This is a governance system that mainstreams climate considerations throughout financial processes and decision-making. It turns long-term climate targets into concrete, financed and immediate actions, as part of the city’s ordinary budgeting process. Oslo’s climate budget is the most extensive example of this approach to date. Visit our Climate budgets page to find resources to help cities design a climate budget approach, and start by reading Climate budgets: why your city needs one.\\nIntegrate climate into financial governance\\nAchieving the above climate-smart improvements relies on changes to the structures and processes that govern city finance, to enable greater collaboration between key government departments. Climate budgeting is one way to foster such a systemic transition. Additionally, cities can:\\nProactively engage with your city’s chief financial officer (CFO) to gain their support in shifting your city’s financial system.9 Top-level support will be vital to mainstreaming climate into financial processes, and the CFO or equivalent officer in your city will usually be the most important person to achieving it.\\nCreate a cross-disciplinary working group made up of people from both the environmental and finance ministries.10 This helps to accelerate collaboration on climate across government, making environmental policymakers more finance-savvy in proposing green projects and financial policymakers more climate-literate.\\nTrack and publicly report on climate performance across your city’s finances. Wherever possible, report on the climate performance of your capital and operating budgets, as well as climate-related financial risks (see earlier box), to boost transparency and encourage climate action across and outside city government.\\nFoster intergovernmental collaboration to improve the enabling environment for climate-smart financial decisions. Intergovernmental fiscal relationships and national government conditions shape how cities can use central funding and city fiscal powers, like the ability to borrow and to issue green bonds.11 Where possible, work to strengthen intergovernmental collaboration and advocate for improved conditions, including for fiscal transfer programmes, which incentivise local government to prioritise climate-smart investments.12\\nCollaborate with private and non-profit organisations that can support your city with technical assistance, investment and knowledge sharing.13 This might include charitable foundations, city networks and advocacy organisations, along with private-sector partners such as financial institutions, which can contribute financial expertise.\\n\\n'),\n",
       " Document(page_content='Title: Portland Climate Action Plan 2015: Local strategies to address climate change\\nContent: Portland was the first city in the United States to adopt a climate action plan, in 1993. In the 2009 Climate Action Plan, the City of Portland and Multnomah County established a goal of reducing local carbon emissions by 80% by 2050 from 1990 levels, with an interim goal of 40% by 2030. This updated Climate Action Plan, released in June 2015, maintains these goals and provides new guidance for the next five years of the City and County’s transition to a more prosperous, equitable and climate-stable future. The 2015 Climate Action Plan is a Paris Agreement-compatible plan.\\nIn 2020, Portland’s city council released a progress report and adopted a Climate Emergency Declaration which strengthens emissions reduction targets, among other things – the city is now aiming to halve emissions by 2030 and achieve net zero emissions before 2050.\\n“Because we adopted a climate action plan early, because we built light rail early, because we tried out green roofs early, we’re in a position now to be able to prosper by exporting goods and services and ideas to other places.”\\nMayor Ted Wheeler, City of Portland\\nPortland is among the cities to have already peaked its emissions – its emissions have reduced by 14% since 1990, in a period when the city’s population increased 30% and there has been a 20% increase in the number of jobs. The 2015 Plan presents climate action as an opportunity for local businesses, and highlights benefits including lower energy bills, better air quality and health, new jobs and greater reinvestment in the local economy, and shorter commute times. The city is already implementing many of the initiatives it needs to achieve its climate goals, as shown in the graphic below (page 11).\\nThe 2015 Climate Action Plan sets out twenty 2030 objectives and over 100 actions which will be completed or significantly underway by 2020 to put the city on a path to net zero and to prepare for the impacts of climate change.\\nThe city’s target emissions trajectory is shown below, taken from page 17 of the 2015 plan – note that this trajectory doesn’t reflect the strengthened targets.\\nPortland’s objectives for 2030\\nThe 20 objectives for 2030, outlined below, tackle both sector or ‘production’-based emissions and consumption-based emissions sources, address the city’s climate risks, and include a strong focus on equity. Read the full 2015 Climate Action Plan for more details of the actions the city will implement to meet these objectives, their timeframes and anticipated impact.\\nBuildings and energy:\\nReduce the total energy use of all buildings built before 2010 by 25%.\\nAchieve zero-net carbon emissions in all new buildings and homes.\\nSupply 50% of all energy used in buildings from renewable resources, with 10% produced within Multnomah County from on-site renewable sources such as solar.\\nUrban form and transportation:\\nCreate vibrant neighbourhoods where 80% of residents can easily walk or bicycle to meet all basic daily non-work needs and have safe pedestrian or bicycle access to transit. Reduce daily per capita vehicle miles travelled by 30% from 2008 levels.\\nImprove the efficiency of freight movement within and through the Portland metropolitan area.\\nIncrease the fuel efficiency of passenger vehicles to 40 miles per gallon and manage the road system to minimise emissions.\\nReduce lifecycle carbon emissions of transportation fuels by 20%.\\nConsumption and solid waste:\\nReduce consumption-related emissions by encouraging sustainable consumption and supporting Portland businesses in minimising the carbon intensity of their supply chains.\\nReduce food scraps sent to landfills by 90%.\\nReduce per capita solid waste by 33%.\\nRecover 90% of all waste generated.\\nFood and agriculture:\\nReduce consumption of carbon-intensive foods and support a community-based food system.\\nUrban forest, natural systems and carbon sequestration:\\nSequester carbon through increased green infrastructure (trees, plants, soil) and natural areas. Reduce effective impervious areas by 600 acres. Expand the urban forest canopy to cover at least one-third of the city with a minimum canopy cover of 25% of each residential neighbourhood and 15% of the central, city, commercial and industrial areas.\\nClimate change preparation:\\nReduce risks and impacts from heat, drought and wildfire by preparing for hotter, drier summers with increased incidence of extreme heat days.\\nReduce risks and impacts from flooding and landslides by preparing for warmer winters with the potential for more intense rain events.\\nBuild City and County staff and community capacity to prepare for and respond to the impacts of climate change.\\nCommunity engagement, outreach and education:\\nEngage communities, especially impacted under-represented and under-served populations, in the development and implementation of climate change-related policies and programs.\\nMotivate all Multnomah County residents and businesses to change their behaviour in ways that reduce carbon emissions.\\nLocal government operations:\\nReduce carbon emissions from City and County operations by 53% from 2007 levels.\\nImplementation:\\nBuild City and County staff and community capacity to ensure effective implementation and equitable outcomes of climate action efforts.\\nWatch the five minute video below to hear more about the 2015 Climate Action Plans from Portland Mayor Ted Wheeler, Bureau of Transportation Director Leah Treat, and others.\\n\\nPortland’s approach to integrating equity in the 2015 Climate Action Plan\\nIn 2016 the City of Portland & Multnomah County published Climate Action Through Equity, a case study explaining how equity was integrated throughout the 2015 Climate Action Plan. The city acknowledges the reality that low-income populations and communities of colour will be disproportionately impacts by climate change, and worked to ensure a just distribution of benefits of climate actions as the plan is implemented. The case study found that meaning partnerships established through the Equity Working Group continued beyond the project, and led to further community initiatives and better understanding of community concerns for City and County staff. It highlights objectives and actions that were incorporated as a result of that collaboration.\\nPortland’s implementation progress\\nIn June 2020 Multnomah County and the City of Portland released a final progress report on the 2015 Climate Action Plan, documenting the status of each action, the next steps already underway, and lessons to be carried forward to the next stage of planning. Nearly all the actions are underway, with 77% completed or on track for completion by the end of 2020. It followed the 2017 Portland Climate Action Plan Progress Report.\\nActions which have been completed include Action 1B, under the first Building and Energy objective, which required energy performance ratings for all homes so that owners, tenants and buyers can make informed decisions about energy costs and carbon emissions. In December 2016, the City Council adopted an ordinance requiring sellers of single-family homes to provide prospective buyers with an energy performance report from a licensed assessor. The law took effect in January 2018.\\nDownload the 2015 Climate Action Plan from this page, or visit the City of Portland’s website to find more resources such as the 2017 Electric Vehicles Strategy.'),\n",
       " Document(page_content='Title: John Marshall: How to talk about climate change so people actually care\\nContent: Which sounds more urgent: ‘global warming’ or ‘irreversible overheating’? What’s easier to visualise: ‘greenhouse gas emissions’ or ‘a blanket of pollution that traps heat’?\\nIn this talk, communications strategist John Marshall explains why we need to rethink how we talk about climate change and offers powerful language adjustments that can help people to more intuitively understand.\\nHis tips include:\\nTalk about local climate issues and personal connections. “Stop my flooding” resonated much better with people in Florida than “Get to zero emissions to stop climate change”.\\nIf you’re in a country that uses Fahrenheit, don’t talk in Celsius. “Nine degrees Fahrenheit in your kid’s lifetime” sounds much more worrisome than “1.5 degrees Celsius to meet the Paris Accord”.\\nPeople are more likely to listen to others who they perceive to be like themselves. Engage a wide range of people in climate campaigns, and invite them to present their personal stories and experiences.\\n\\n  This TED talk is part of Countdown, a global initiative championing solutions to the climate crisis. Find other city-relevant talks from the TED Countdown event in October 2020 on the Knowledge Hub here.\\n \\n')]"
      ]
     },
     "execution_count": 7,
     "metadata": {},
     "output_type": "execute_result"
    }
   ],
   "source": [
    "# Define the query\n",
    "query = \"Give me the top three things to consider when writing my climate action plan.\"\n",
    "\n",
    "# Retrieve documents\n",
    "retrieved_docs = retriever.invoke(query)\n",
    "retrieved_docs"
   ]
  },
  {
   "cell_type": "code",
   "execution_count": 24,
   "metadata": {},
   "outputs": [],
   "source": [
    "import subprocess\n",
    "import json\n",
    "\n",
    "# Function to create a context from retrieved documents\n",
    "def create_context_from_docs(docs):\n",
    "    return \" \".join([doc.page_content for doc in docs])\n",
    "\n",
    "# Create context from retrieved documents\n",
    "context = create_context_from_docs(retrieved_docs)\n",
    "\n",
    "\n",
    "\n"
   ]
  },
  {
   "cell_type": "code",
   "execution_count": 25,
   "metadata": {},
   "outputs": [],
   "source": [
    "# Define the question\n",
    "question = \"Give me the top three things to consider when writing my climate action plan.\"\n"
   ]
  },
  {
   "cell_type": "code",
   "execution_count": 26,
   "metadata": {},
   "outputs": [
    {
     "name": "stdout",
     "output_type": "stream",
     "text": [
      "Answer: Based on the toolkit, here are the top three things to consider when writing your climate action plan:\n",
      "\n",
      "1. **Urgency and Near-Term Action**: Recognize that climate change is a pressing issue that requires immediate attention. Consider the benefits of taking action in this decade, such as reducing projected losses and damages, delivering co-benefits for air quality and health, and avoiding locked-in high-emissions infrastructure.\n",
      "2. **Integrating Adaptation and Mitigation**: Understand that climate resilience development integrates both adaptation and mitigation efforts to advance sustainable development. Consider the synergies between these two approaches and how they can support each other in achieving deep emissions reductions and securing a liveable and sustainable future for all.\n",
      "3. **Equity, Inclusion, and Governance**: Prioritize equity, inclusion, and just transition processes when developing your climate action plan. Recognize that adaptation outcomes are enhanced by increased support to regions and people with the highest vulnerability to climatic hazards. Ensure that your plan is grounded in inclusive governance processes, regulatory and economic instruments, and international cooperation to facilitate effective climate action.\n",
      "\n",
      "By considering these key factors, you can develop a comprehensive and effective climate action plan that addresses the urgent need for climate action while also promoting equity, inclusion, and sustainable development.\n"
     ]
    }
   ],
   "source": [
    "# Function to generate an answer using the local Ollama CLI\n",
    "llm = Ollama(model = 'llama3')\n",
    "def generate_with_ollama3(context, question):\n",
    "    input_text = f\"{context} {question}\"\n",
    "    # Use subprocess to run the Ollama model\n",
    "    result = llm.invoke(input_text)\n",
    "    return result\n",
    "\n",
    "# Generate the answer using the context and the question\n",
    "answer = generate_with_ollama3(context, question)\n",
    "\n",
    "print(\"Answer:\", answer)"
   ]
  },
  {
   "cell_type": "code",
   "execution_count": null,
   "metadata": {},
   "outputs": [],
   "source": []
  },
  {
   "cell_type": "code",
   "execution_count": null,
   "metadata": {},
   "outputs": [],
   "source": []
  },
  {
   "cell_type": "code",
   "execution_count": null,
   "metadata": {},
   "outputs": [],
   "source": []
  }
 ],
 "metadata": {
  "kernelspec": {
   "display_name": "Python 3",
   "language": "python",
   "name": "python3"
  },
  "language_info": {
   "codemirror_mode": {
    "name": "ipython",
    "version": 3
   },
   "file_extension": ".py",
   "mimetype": "text/x-python",
   "name": "python",
   "nbconvert_exporter": "python",
   "pygments_lexer": "ipython3",
   "version": "3.11.0"
  }
 },
 "nbformat": 4,
 "nbformat_minor": 2
}
