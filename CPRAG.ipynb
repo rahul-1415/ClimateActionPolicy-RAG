{
 "cells": [
  {
   "cell_type": "code",
   "execution_count": 101,
   "metadata": {},
   "outputs": [],
   "source": [
    "from langchain_community.embeddings import HuggingFaceBgeEmbeddings\n",
    "from langchain_chroma import Chroma\n",
    "from langchain_community.llms import Ollama\n",
    "import chromadb\n",
    "from pathlib import Path\n",
    "import os"
   ]
  },
  {
   "cell_type": "code",
   "execution_count": 85,
   "metadata": {},
   "outputs": [
    {
     "name": "stdout",
     "output_type": "stream",
     "text": [
      "DB_DIR: /Users/rahul/Desktop/AI-Project/ClimatePolicyRAG/Chroma1/env_policy\n"
     ]
    }
   ],
   "source": [
    "# Set the absolute path for the Chroma database\n",
    "ABS_PATH = Path().resolve().joinpath('Chroma1')\n",
    "DB_DIR = os.path.join(ABS_PATH, \"env_policy\")\n",
    "print('DB_DIR:', DB_DIR)"
   ]
  },
  {
   "cell_type": "code",
   "execution_count": 86,
   "metadata": {},
   "outputs": [],
   "source": [
    "# Define client settings for Chroma\n",
    "client_settings = chromadb.config.Settings(\n",
    "    is_persistent=True,\n",
    "    persist_directory=DB_DIR,\n",
    "    anonymized_telemetry=False,\n",
    ")"
   ]
  },
  {
   "cell_type": "code",
   "execution_count": 87,
   "metadata": {},
   "outputs": [],
   "source": [
    "# Initialize the HuggingFaceBgeEmbeddings with the correct model\n",
    "embedder = HuggingFaceBgeEmbeddings(model_name=\"BAAI/bge-small-en\")\n"
   ]
  },
  {
   "cell_type": "code",
   "execution_count": 88,
   "metadata": {},
   "outputs": [],
   "source": [
    "# Load the Chroma vector store\n",
    "bge_vectorstore = Chroma(\n",
    "    embedding_function=embedder,\n",
    "    client_settings=client_settings,\n",
    "    collection_name=\"env_policy_bge\",\n",
    "    collection_metadata={\"hnsw\": \"cosine\"}\n",
    ")"
   ]
  },
  {
   "cell_type": "code",
   "execution_count": 89,
   "metadata": {},
   "outputs": [],
   "source": [
    "# Initialize the retriever\n",
    "retriever = bge_vectorstore.as_retriever(\n",
    "    search_type=\"mmr\",\n",
    "    search_kwargs={\"k\": 5, \"include_metadata\": True}\n",
    ")"
   ]
  },
  {
   "cell_type": "code",
   "execution_count": 97,
   "metadata": {},
   "outputs": [
    {
     "data": {
      "text/plain": [
       "[Document(page_content='Timestamp: 14/06/2024 17:29:21\\nTitle: Mapped: Cities with a climate action plan\\nContent: city playing lead role cutting greenhouse gas emission meet paris agreement ’ science-based , internationally accepted target limiting global heating 1.5°c . every city wanting take effective action mitigate climate change adapt effect need climate action plan ( cap ) – evidence-based roadmap delivering fair share emission cut strengthening resilience . ’ development implementation paris agreement-aligned cap requirement every c40 city . c40 global network nearly 100 mayor city forefront climate leadership , city earn keep membership action . c40 city staff support ass city ’ cap ensure line goal paris agreement , half c40 city published cap . experience city developing cap informed knowledge hub ’ step-by-step guide climate action planning , provides advice support every city – every size , every country , regardless c40 membership – develop 1.5°c-aligned cap . city cap diverse city . responds city ’ unique context , challenge , opportunity , presented one document comprise series connected plan strategy . map , explore cap c40 city published plan date . cap shared publicly provide good example , idea inspiration others looking take impactful climate action . click city ’ icon link cap . also find city ’ greenhouse gas emission inventory . map contains cap c40 member city . many city ambitious cap included verified paris agreement-compatible c40 city staff .', metadata={'row': 1, 'source': 'Reduced_LLM_KB.csv'}),\n",
       " Document(page_content='Timestamp: 14/06/2024 17:31:12\\nTitle: How to shift your city’s investments from fossil fuels to climate solutions', metadata={'row': 3, 'source': 'Reduced_LLM_KB.csv'}),\n",
       " Document(page_content=\"Timestamp: 14/06/2024 17:29:42\\nTitle: Greenhouse gas emissions interactive dashboard\\nContent: dashboard , explore historical greenhouse gas emission ( ghg ) data c40 city , reported line global protocol community-scale ghg emission inventory ( gpc ) . gpc international best practice standard city-level production-based ghg emission inventory . consistent ipcc guideline , allows credible comparison aggregation emission data across timescales geography . dashboard includes three section : 1. emission map : show basic ghg emission data c40 city across three key emission sector : stationary energy ( mainly building ) , transportation waste . 2. city emission comparison : display city ' ghg emission profile , based latest available inventory year , enabling in-depth comparison multiple view filter total per caput emission , inventory level , sector sub-sector , region . 3. city overview : display emission year city , includes detailed data table summarise city ’ emission profile specific year . inventory used core evidence inform city ’ climate action plan , result indicative city could produce using gpc standard . develop manage city-wide ghg emission inventory explains . also explore climate action plan c40 city , underlying gpc inventory dataset dashboard . download underlying gpc inventory data , click . dashboard associated data made available public use part c40-wide initiative improve accessibility transparency public data reported c40 member city . data reported c40 city via global protocol community-scale ( gpc ) ghg emission inventory accessed c40 ’ partner , cdp city . see term use reference information regarding underlying data .\", metadata={'row': 2, 'source': 'Reduced_LLM_KB.csv'}),\n",
       " Document(page_content='within five year , consistent fiduciary duty , achieved 2022. together divested around u $ 4 billion . since committed achieving net zero ghg emission across investment portfolio 2040 , interim delivery date ramping climate solution 2025 2035. 2023 three adopted net zero implementation plan alignment recommendation consideration set united nation high level expert group net zero commitment non-state entities.2 three also signatory paao commitment.3 climate budgeting process , linked new york ’ climate action plan , city currently developing new tool ass environmental benefit investment . shift municipal asset investment fossil fuel sustainable solution city administration may hold range investment balance sheet , including cash equivalent , trust , longer-term fixed income equity investment . city lead example addressing investment fossil fuel company adjacent industry , prior engaging actor city pension fund . moving toward sustainable option also help raise fund climate measure city , example ensuring city ’ bond issuance ‘ green ’ . require collaboration many department across city administration , including finance department leading city ’ climate action planning implementation , among others . instance , city ’ finance team , treasury and/or others relevant need ass exposure city ’ investment fossil fuel company . sponsorship business engagement team ass partnership fossil fuel company , related trade association . take step ensure strong relationship , common goal understanding department . consider establishing divestment working group , creating new department/empowering existing department become focal point sustainable investment . divestment strategy municipal investment may take either , mixture , following approach : rules-based approach . mean city define type fossil fuel company business activity excluded municipal investment . investment either banned completely , percentage threshold set business revenue fossil fuel activity , investment prohibited . principles-based ( stewardship ) approach . involves assessing portfolio company according extent exposed climate risk preparedness progress supporting low-carbon economy . make use assessment framework resource identify company exclude municipal investment : transition pathway initiative global initiative led asset owner support asset manager investor commitment align portfolio net zero . offer independent , authoritative assessment progress made 1,000 publicly listed equity . london pension fund authority us ass whether company taking sufficient meaningful action remain investment portfolio.4 carbon underground 200 list top 200 oil , gas coal company ranked size fossil fuel reserve . net zero investment framework provides investor asset owner common framework , timeline metric , delivering paris-aligned climate goal . core publication paii – signatory paao expected use – currently implemented net zero methodology investor within glasgow financial alliance net zero ( gfanz ) .5', metadata={'row': 3, 'source': 'Reduced_LLM_KB.csv'}),\n",
       " Document(page_content='route toward possible divestment pathway and/or fossil free investment option , example . existing environmental risk policy offer springboard start discussion pension fund . city may request updated ensure sufficient consideration management climate-related physical risk ( flood risk real estate investment ) transition risk ( potential rapid decline value carbon intensive asset ) . 2020 , mayor vancouver kennedy stewart wrote british columbia municipal pension plan requesting risk assessment plan ’ investment based carbon exposure , information step taken measure mitigate risk . year , board approved three-year strategic plan prioritising addressing climate risk investment portfolio , setting goal reduce portfolio ’ carbon intensity 55 % 2030 route net-zero portfolio 2050. municipal pension plan already among first large pension plan canada voluntarily report climate-related financial disclosure according recommendation task force climate-related financial disclosure ( tcfd ) , starting 2019 annual report . clear case divestment sustainable investment strong pension fund trustee ’ first foremost priority fulfil legal duty act best interest investor whose saving responsible ( fiduciary duty ) . city play role raising awareness main argument , explain divest-invest action pay . summary , : divestment consistent fiduciary duty . fossil fuel company increasingly risky enterprise , ill-prepared meet future challenges.7 , 8 even despite significant price increase 2020 2021 , investment fossil fuel sector devalued last decade . 2023 fossil fuel sector posted annual loss 5 % , oil major reported 30 % decline annual profits.9 decarbonising portfolio obvious way mitigate risk line fiduciary duty . meanwhile , fossil free portfolio proven perform better portfolio including fossil fuel , failure invest fast-growing sector could missed opportunity.10 analysis corporate knight 2018 showed new york state common retirement fund would estimated $ 22.2 billion richer decided divest fossil fuel stock ten year previously . “ era stable , blue-chip return fossil fuel sector long gone . , every major investment house developed investment product sustainable mandate . mandate reflect fossil fuel sector ’ underperformance , negative long-term outlook , increasing demand investment product dramatically le fossil fuel . last decade , shedding oil , gas , coal proven winning financial strategy. ” dan cohn , ieefa energy finance analyst co-author passive investing warming world ( 2024 ) sustainable investment opportunity rise , fossil free portfolio well-diversified . world economic forum estimate total value climate solution supply chain reach $ 5 trillion $ 11 trillion 2030 , biggest opportunity mature solution offering readily investable opportunity – notably electricity network , sustainable vehicle , wind , solar , building heating solutions.11 develop system monitoring reporting city staff play important role keeping pressure momentum pension fund divestment ,', metadata={'row': 3, 'source': 'Reduced_LLM_KB.csv'})]"
      ]
     },
     "execution_count": 97,
     "metadata": {},
     "output_type": "execute_result"
    }
   ],
   "source": [
    "# Define the query\n",
    "query = \"Give me the top three things to consider when writing my climate action plan.\"\n",
    "\n",
    "# Retrieve documents\n",
    "retrieved_docs = retriever.invoke(query)\n",
    "retrieved_docs"
   ]
  },
  {
   "cell_type": "code",
   "execution_count": 99,
   "metadata": {},
   "outputs": [],
   "source": [
    "import subprocess\n",
    "import json\n",
    "\n",
    "# Function to create a context from retrieved documents\n",
    "def create_context_from_docs(docs):\n",
    "    return \" \".join([doc.page_content for doc in docs])\n",
    "\n",
    "# Create context from retrieved documents\n",
    "context = create_context_from_docs(retrieved_docs)\n",
    "\n",
    "\n",
    "\n"
   ]
  },
  {
   "cell_type": "code",
   "execution_count": 98,
   "metadata": {},
   "outputs": [],
   "source": [
    "# Define the question\n",
    "question = \"Give me the top three things to consider when writing my climate action plan.\"\n"
   ]
  },
  {
   "cell_type": "code",
   "execution_count": 104,
   "metadata": {},
   "outputs": [
    {
     "name": "stdout",
     "output_type": "stream",
     "text": [
      "Answer: Based on the provided content, here are the top three things to consider when writing your climate action plan:\n",
      "\n",
      "1. **Evidence-based roadmap**: Develop a roadmap that is grounded in science and internationally accepted targets, such as the Paris Agreement's goal of limiting global warming to 1.5°C. Ensure that your plan is based on credible data and incorporates stakeholder input.\n",
      "2. **Unique city context and challenges**: Recognize that every city has its unique context, challenges, and opportunities. Develop a plan that responds to these factors and addresses the specific needs and priorities of your city.\n",
      "3. **Paris Agreement-aligned targets and metrics**: Set targets that are aligned with the Paris Agreement's goals and metrics. This includes tracking progress towards reducing greenhouse gas emissions, increasing renewable energy use, and improving climate resilience.\n",
      "\n",
      "These considerations will help you create a comprehensive and effective climate action plan that is tailored to your city's specific needs and circumstances.\n"
     ]
    }
   ],
   "source": [
    "# Function to generate an answer using the local Ollama CLI\n",
    "llm = Ollama(model = 'llama3')\n",
    "def generate_with_ollama3(context, question):\n",
    "    input_text = f\"{context} {question}\"\n",
    "    # Use subprocess to run the Ollama model\n",
    "    result = llm.invoke(input_text)\n",
    "    return result\n",
    "\n",
    "# Generate the answer using the context and the question\n",
    "answer = generate_with_ollama3(context, question)\n",
    "\n",
    "print(\"Answer:\", answer)"
   ]
  },
  {
   "cell_type": "code",
   "execution_count": null,
   "metadata": {},
   "outputs": [],
   "source": []
  }
 ],
 "metadata": {
  "kernelspec": {
   "display_name": "Python 3",
   "language": "python",
   "name": "python3"
  },
  "language_info": {
   "codemirror_mode": {
    "name": "ipython",
    "version": 3
   },
   "file_extension": ".py",
   "mimetype": "text/x-python",
   "name": "python",
   "nbconvert_exporter": "python",
   "pygments_lexer": "ipython3",
   "version": "3.11.0"
  }
 },
 "nbformat": 4,
 "nbformat_minor": 2
}
